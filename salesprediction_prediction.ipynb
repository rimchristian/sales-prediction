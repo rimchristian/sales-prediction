{
  "cells": [
    {
      "cell_type": "markdown",
      "metadata": {
        "id": "view-in-github",
        "colab_type": "text"
      },
      "source": [
        "<a href=\"https://colab.research.google.com/github/rimchristian/sales-prediction/blob/main/salesprediction_prediction.ipynb\" target=\"_parent\"><img src=\"https://colab.research.google.com/assets/colab-badge.svg\" alt=\"Open In Colab\"/></a>"
      ]
    },
    {
      "cell_type": "markdown",
      "metadata": {
        "id": "gD8nfC5IWsUa"
      },
      "source": [
        "##**Goal of the Task**\n",
        "\n",
        "\n",
        "###The goal is to help the retailer understand the properties of products and outliets to predict sales"
      ]
    },
    {
      "cell_type": "markdown",
      "metadata": {
        "id": "ovNUrz1Teo0s"
      },
      "source": [
        "### **Data Dictionary:**\n",
        "\n",
        "**Attribute** | **Description**  \n",
        "--- | ---\n",
        "Item_Identifer | Unique product id\n",
        "Item_Weight | Weight of Product\n",
        "Item_Fat_Content | Whether the product is low fat or regular \n",
        "Item_Visibility  | Percentage of total display area of all products in a store allocated in the particlar product\n",
        "Item_Type | The cateogry to which the product belongs\n",
        "Item_MRP | Maximum Retail Price of the product\n",
        "Outlet_Identifier | Unique store id\n",
        "Outlet_Establishment_Year | The year in whch store was established\n",
        "Outlet_Size | The size of the store in terms of ground area covered\n",
        "Outlet_location_type | The type of area in which the storoe is located\n",
        "Outlet_Type | Whether the outlet is a grocery store or some sort of supermarket\n",
        "Item_Outlet_Sales | Sales of the product in the particular store. This is the target variable to be predicted. \n"
      ]
    },
    {
      "cell_type": "code",
      "execution_count": null,
      "metadata": {
        "id": "skhUs7RXbD7p"
      },
      "outputs": [],
      "source": [
        "import pandas as pd\n",
        "import numpy as np\n",
        "import seaborn as sns\n",
        "import matplotlib.pyplot as plt\n",
        "from google.colab import drive\n",
        "\n",
        "# Preprocessing\n",
        "from sklearn.preprocessing import StandardScaler, OneHotEncoder\n",
        "from sklearn.impute import SimpleImputer\n",
        "from sklearn.compose import make_column_transformer, make_column_selector\n",
        "from sklearn.pipeline import make_pipeline\n",
        "from sklearn.model_selection import train_test_split\n",
        "\n",
        "# Models\n",
        "from sklearn.linear_model import LinearRegression\n",
        "from sklearn.dummy import DummyRegressor\n",
        "\n",
        "# Regression Metrics\n",
        "from sklearn.metrics import r2_score\n",
        "from sklearn.metrics import mean_absolute_error\n",
        "from sklearn.metrics import mean_squared_error\n",
        "\n",
        "# Set global scikit_learn configuration\n",
        "from sklearn import set_config\n",
        "set_config(display='diagram')"
      ]
    },
    {
      "cell_type": "code",
      "execution_count": null,
      "metadata": {
        "id": "EkhXF2jZiQxM"
      },
      "outputs": [],
      "source": [
        "# Create a function to take the true and predicted values\n",
        "# and print MAE, MSE, RMSE, and R2 metrics\n",
        "def evaluation_model(pipe, model_name='', \n",
        "                     x_train='X_train', x_test='X_test'):\n",
        "  # Train\n",
        "  mae = round(mean_absolute_error(y_train, pipe.predict(x_train)),4)\n",
        "  mse = round(mean_squared_error(y_train, pipe.predict(x_train)),4)\n",
        "  rmse = round(np.sqrt(mean_squared_error(y_train, pipe.predict(x_train))),4)\n",
        "  r2 = round(r2_score(y_train, pipe.predict(x_train)),7)\n",
        "  print(f'{model_name} Train Scores')\n",
        "  print(f'MAE: {mae:,.4f} \\nMSE: {mse:,.4f} \\nRMSE: {rmse:,.4f} \\nR2: {r2:.4f}\\n')\n",
        "\n",
        "  # Test\n",
        "  mae = round(mean_absolute_error(y_test, pipe.predict(x_test)),4)\n",
        "  mse = round(mean_squared_error(y_test, pipe.predict(x_test)),4)\n",
        "  rmse = round(np.sqrt(mean_squared_error(y_test, pipe.predict(x_test))),4)\n",
        "  r2 = round(r2_score(y_test, pipe.predict(x_test)),7)\n",
        "\n",
        "  # Display the metrics for the model\n",
        "  print(f'{model_name} Test Scores')\n",
        "  print(f'MAE: {mae:,.4f} \\nMSE: {mse:,.4f} \\nRMSE: {rmse:,.4f} \\nR2: {r2:.4f}\\n')"
      ]
    },
    {
      "cell_type": "code",
      "execution_count": null,
      "metadata": {
        "colab": {
          "base_uri": "https://localhost:8080/",
          "height": 206
        },
        "id": "tH5D4lApbYrQ",
        "outputId": "cde13380-902b-44ff-c55f-ea2d85d5782f"
      },
      "outputs": [
        {
          "data": {
            "text/html": [
              "\n",
              "  <div id=\"df-cce556c3-6786-48d0-b2b6-6bce1040955f\">\n",
              "    <div class=\"colab-df-container\">\n",
              "      <div>\n",
              "<style scoped>\n",
              "    .dataframe tbody tr th:only-of-type {\n",
              "        vertical-align: middle;\n",
              "    }\n",
              "\n",
              "    .dataframe tbody tr th {\n",
              "        vertical-align: top;\n",
              "    }\n",
              "\n",
              "    .dataframe thead th {\n",
              "        text-align: right;\n",
              "    }\n",
              "</style>\n",
              "<table border=\"1\" class=\"dataframe\">\n",
              "  <thead>\n",
              "    <tr style=\"text-align: right;\">\n",
              "      <th></th>\n",
              "      <th>Item_Identifier</th>\n",
              "      <th>Item_Weight</th>\n",
              "      <th>Item_Fat_Content</th>\n",
              "      <th>Item_Visibility</th>\n",
              "      <th>Item_Type</th>\n",
              "      <th>Item_MRP</th>\n",
              "      <th>Outlet_Identifier</th>\n",
              "      <th>Outlet_Establishment_Year</th>\n",
              "      <th>Outlet_Size</th>\n",
              "      <th>Outlet_Location_Type</th>\n",
              "      <th>Outlet_Type</th>\n",
              "      <th>Item_Outlet_Sales</th>\n",
              "    </tr>\n",
              "  </thead>\n",
              "  <tbody>\n",
              "    <tr>\n",
              "      <th>0</th>\n",
              "      <td>FDA15</td>\n",
              "      <td>9.3</td>\n",
              "      <td>Low Fat</td>\n",
              "      <td>0.016047301</td>\n",
              "      <td>Dairy</td>\n",
              "      <td>249.8092</td>\n",
              "      <td>OUT049</td>\n",
              "      <td>1999</td>\n",
              "      <td>Medium</td>\n",
              "      <td>Tier 1</td>\n",
              "      <td>Supermarket Type1</td>\n",
              "      <td>3735.138</td>\n",
              "    </tr>\n",
              "    <tr>\n",
              "      <th>1</th>\n",
              "      <td>DRC01</td>\n",
              "      <td>5.92</td>\n",
              "      <td>Regular</td>\n",
              "      <td>0.019278216</td>\n",
              "      <td>Soft Drinks</td>\n",
              "      <td>48.2692</td>\n",
              "      <td>OUT018</td>\n",
              "      <td>2009</td>\n",
              "      <td>Medium</td>\n",
              "      <td>Tier 3</td>\n",
              "      <td>Supermarket Type2</td>\n",
              "      <td>443.4228</td>\n",
              "    </tr>\n",
              "    <tr>\n",
              "      <th>2</th>\n",
              "      <td>FDN15</td>\n",
              "      <td>17.5</td>\n",
              "      <td>Low Fat</td>\n",
              "      <td>0.016760075</td>\n",
              "      <td>Meat</td>\n",
              "      <td>141.618</td>\n",
              "      <td>OUT049</td>\n",
              "      <td>1999</td>\n",
              "      <td>Medium</td>\n",
              "      <td>Tier 1</td>\n",
              "      <td>Supermarket Type1</td>\n",
              "      <td>2097.27</td>\n",
              "    </tr>\n",
              "    <tr>\n",
              "      <th>3</th>\n",
              "      <td>FDX07</td>\n",
              "      <td>19.2</td>\n",
              "      <td>Regular</td>\n",
              "      <td>0</td>\n",
              "      <td>Fruits and Vegetables</td>\n",
              "      <td>182.095</td>\n",
              "      <td>OUT010</td>\n",
              "      <td>1998</td>\n",
              "      <td>NaN</td>\n",
              "      <td>Tier 3</td>\n",
              "      <td>Grocery Store</td>\n",
              "      <td>732.38</td>\n",
              "    </tr>\n",
              "    <tr>\n",
              "      <th>4</th>\n",
              "      <td>NCD19</td>\n",
              "      <td>8.93</td>\n",
              "      <td>Low Fat</td>\n",
              "      <td>0</td>\n",
              "      <td>Household</td>\n",
              "      <td>53.8614</td>\n",
              "      <td>OUT013</td>\n",
              "      <td>1987</td>\n",
              "      <td>High</td>\n",
              "      <td>Tier 3</td>\n",
              "      <td>Supermarket Type1</td>\n",
              "      <td>994.7052</td>\n",
              "    </tr>\n",
              "  </tbody>\n",
              "</table>\n",
              "</div>\n",
              "      <button class=\"colab-df-convert\" onclick=\"convertToInteractive('df-cce556c3-6786-48d0-b2b6-6bce1040955f')\"\n",
              "              title=\"Convert this dataframe to an interactive table.\"\n",
              "              style=\"display:none;\">\n",
              "        \n",
              "  <svg xmlns=\"http://www.w3.org/2000/svg\" height=\"24px\"viewBox=\"0 0 24 24\"\n",
              "       width=\"24px\">\n",
              "    <path d=\"M0 0h24v24H0V0z\" fill=\"none\"/>\n",
              "    <path d=\"M18.56 5.44l.94 2.06.94-2.06 2.06-.94-2.06-.94-.94-2.06-.94 2.06-2.06.94zm-11 1L8.5 8.5l.94-2.06 2.06-.94-2.06-.94L8.5 2.5l-.94 2.06-2.06.94zm10 10l.94 2.06.94-2.06 2.06-.94-2.06-.94-.94-2.06-.94 2.06-2.06.94z\"/><path d=\"M17.41 7.96l-1.37-1.37c-.4-.4-.92-.59-1.43-.59-.52 0-1.04.2-1.43.59L10.3 9.45l-7.72 7.72c-.78.78-.78 2.05 0 2.83L4 21.41c.39.39.9.59 1.41.59.51 0 1.02-.2 1.41-.59l7.78-7.78 2.81-2.81c.8-.78.8-2.07 0-2.86zM5.41 20L4 18.59l7.72-7.72 1.47 1.35L5.41 20z\"/>\n",
              "  </svg>\n",
              "      </button>\n",
              "      \n",
              "  <style>\n",
              "    .colab-df-container {\n",
              "      display:flex;\n",
              "      flex-wrap:wrap;\n",
              "      gap: 12px;\n",
              "    }\n",
              "\n",
              "    .colab-df-convert {\n",
              "      background-color: #E8F0FE;\n",
              "      border: none;\n",
              "      border-radius: 50%;\n",
              "      cursor: pointer;\n",
              "      display: none;\n",
              "      fill: #1967D2;\n",
              "      height: 32px;\n",
              "      padding: 0 0 0 0;\n",
              "      width: 32px;\n",
              "    }\n",
              "\n",
              "    .colab-df-convert:hover {\n",
              "      background-color: #E2EBFA;\n",
              "      box-shadow: 0px 1px 2px rgba(60, 64, 67, 0.3), 0px 1px 3px 1px rgba(60, 64, 67, 0.15);\n",
              "      fill: #174EA6;\n",
              "    }\n",
              "\n",
              "    [theme=dark] .colab-df-convert {\n",
              "      background-color: #3B4455;\n",
              "      fill: #D2E3FC;\n",
              "    }\n",
              "\n",
              "    [theme=dark] .colab-df-convert:hover {\n",
              "      background-color: #434B5C;\n",
              "      box-shadow: 0px 1px 3px 1px rgba(0, 0, 0, 0.15);\n",
              "      filter: drop-shadow(0px 1px 2px rgba(0, 0, 0, 0.3));\n",
              "      fill: #FFFFFF;\n",
              "    }\n",
              "  </style>\n",
              "\n",
              "      <script>\n",
              "        const buttonEl =\n",
              "          document.querySelector('#df-cce556c3-6786-48d0-b2b6-6bce1040955f button.colab-df-convert');\n",
              "        buttonEl.style.display =\n",
              "          google.colab.kernel.accessAllowed ? 'block' : 'none';\n",
              "\n",
              "        async function convertToInteractive(key) {\n",
              "          const element = document.querySelector('#df-cce556c3-6786-48d0-b2b6-6bce1040955f');\n",
              "          const dataTable =\n",
              "            await google.colab.kernel.invokeFunction('convertToInteractive',\n",
              "                                                     [key], {});\n",
              "          if (!dataTable) return;\n",
              "\n",
              "          const docLinkHtml = 'Like what you see? Visit the ' +\n",
              "            '<a target=\"_blank\" href=https://colab.research.google.com/notebooks/data_table.ipynb>data table notebook</a>'\n",
              "            + ' to learn more about interactive tables.';\n",
              "          element.innerHTML = '';\n",
              "          dataTable['output_type'] = 'display_data';\n",
              "          await google.colab.output.renderOutput(dataTable, element);\n",
              "          const docLink = document.createElement('div');\n",
              "          docLink.innerHTML = docLinkHtml;\n",
              "          element.appendChild(docLink);\n",
              "        }\n",
              "      </script>\n",
              "    </div>\n",
              "  </div>\n",
              "  "
            ],
            "text/plain": [
              "  Item_Identifier Item_Weight Item_Fat_Content Item_Visibility  \\\n",
              "0           FDA15         9.3          Low Fat     0.016047301   \n",
              "1           DRC01        5.92          Regular     0.019278216   \n",
              "2           FDN15        17.5          Low Fat     0.016760075   \n",
              "3           FDX07        19.2          Regular               0   \n",
              "4           NCD19        8.93          Low Fat               0   \n",
              "\n",
              "               Item_Type  Item_MRP Outlet_Identifier  \\\n",
              "0                  Dairy  249.8092            OUT049   \n",
              "1            Soft Drinks   48.2692            OUT018   \n",
              "2                   Meat   141.618            OUT049   \n",
              "3  Fruits and Vegetables   182.095            OUT010   \n",
              "4              Household   53.8614            OUT013   \n",
              "\n",
              "   Outlet_Establishment_Year Outlet_Size Outlet_Location_Type  \\\n",
              "0                       1999      Medium               Tier 1   \n",
              "1                       2009      Medium               Tier 3   \n",
              "2                       1999      Medium               Tier 1   \n",
              "3                       1998         NaN               Tier 3   \n",
              "4                       1987        High               Tier 3   \n",
              "\n",
              "         Outlet_Type Item_Outlet_Sales  \n",
              "0  Supermarket Type1          3735.138  \n",
              "1  Supermarket Type2          443.4228  \n",
              "2  Supermarket Type1           2097.27  \n",
              "3      Grocery Store            732.38  \n",
              "4  Supermarket Type1          994.7052  "
            ]
          },
          "execution_count": 3,
          "metadata": {},
          "output_type": "execute_result"
        }
      ],
      "source": [
        "filename = '/content/sales_predictions.csv'\n",
        "df = pd.read_csv(filename,decimal=',')\n",
        "df.head()"
      ]
    },
    {
      "cell_type": "markdown",
      "metadata": {
        "id": "7NNYTk38k4ip"
      },
      "source": [
        "###**Inspect the Data**"
      ]
    },
    {
      "cell_type": "code",
      "execution_count": null,
      "metadata": {
        "colab": {
          "base_uri": "https://localhost:8080/"
        },
        "id": "_M6K5yiXcXTs",
        "outputId": "0682450b-021e-49ac-8e9a-0c27f78dd4a4"
      },
      "outputs": [
        {
          "data": {
            "text/plain": [
              "Item_Identifier              object\n",
              "Item_Weight                  object\n",
              "Item_Fat_Content             object\n",
              "Item_Visibility              object\n",
              "Item_Type                    object\n",
              "Item_MRP                     object\n",
              "Outlet_Identifier            object\n",
              "Outlet_Establishment_Year     int64\n",
              "Outlet_Size                  object\n",
              "Outlet_Location_Type         object\n",
              "Outlet_Type                  object\n",
              "Item_Outlet_Sales            object\n",
              "dtype: object"
            ]
          },
          "execution_count": 4,
          "metadata": {},
          "output_type": "execute_result"
        }
      ],
      "source": [
        "df.dtypes"
      ]
    },
    {
      "cell_type": "code",
      "execution_count": null,
      "metadata": {
        "colab": {
          "base_uri": "https://localhost:8080/"
        },
        "id": "Wdp0qsndlrRH",
        "outputId": "287bff38-b353-457b-daf6-eaebc7436430"
      },
      "outputs": [
        {
          "data": {
            "text/plain": [
              "Item_Identifier               object\n",
              "Item_Weight                   object\n",
              "Item_Fat_Content              object\n",
              "Item_Visibility               object\n",
              "Item_Type                     object\n",
              "Item_MRP                      object\n",
              "Outlet_Identifier             object\n",
              "Outlet_Establishment_Year      int64\n",
              "Outlet_Size                   object\n",
              "Outlet_Location_Type          object\n",
              "Outlet_Type                   object\n",
              "Item_Outlet_Sales            float64\n",
              "dtype: object"
            ]
          },
          "execution_count": 6,
          "metadata": {},
          "output_type": "execute_result"
        }
      ],
      "source": [
        "# onverting into a float\n",
        "df['Item_Outlet_Sales'] = df['Item_Outlet_Sales'].astype('float')\n",
        "df.dtypes"
      ]
    },
    {
      "cell_type": "code",
      "execution_count": null,
      "metadata": {
        "colab": {
          "base_uri": "https://localhost:8080/"
        },
        "id": "ppWbgWFlOt6k",
        "outputId": "7d28db79-b2c4-4e68-8be6-c008c2578938"
      },
      "outputs": [
        {
          "data": {
            "text/plain": [
              "Item_Identifier               object\n",
              "Item_Weight                   object\n",
              "Item_Fat_Content              object\n",
              "Item_Visibility              float64\n",
              "Item_Type                     object\n",
              "Item_MRP                     float64\n",
              "Outlet_Identifier             object\n",
              "Outlet_Establishment_Year      int64\n",
              "Outlet_Size                   object\n",
              "Outlet_Location_Type          object\n",
              "Outlet_Type                   object\n",
              "Item_Outlet_Sales            float64\n",
              "dtype: object"
            ]
          },
          "execution_count": 6,
          "metadata": {},
          "output_type": "execute_result"
        }
      ],
      "source": [
        "df['Item_MRP'] = df['Item_MRP'].astype('float')\n",
        "df['Item_Visibility'] = df['Item_Visibility'].astype('float')\n",
        "df.dtypes"
      ]
    },
    {
      "cell_type": "code",
      "execution_count": null,
      "metadata": {
        "colab": {
          "base_uri": "https://localhost:8080/",
          "height": 175
        },
        "id": "UgiVO9T3l7uy",
        "outputId": "0f066c69-84f3-498b-def1-2faa3ff137b7"
      },
      "outputs": [
        {
          "data": {
            "text/html": [
              "\n",
              "  <div id=\"df-263e0b5a-8b97-4bd6-bfc9-9697cbda4e43\">\n",
              "    <div class=\"colab-df-container\">\n",
              "      <div>\n",
              "<style scoped>\n",
              "    .dataframe tbody tr th:only-of-type {\n",
              "        vertical-align: middle;\n",
              "    }\n",
              "\n",
              "    .dataframe tbody tr th {\n",
              "        vertical-align: top;\n",
              "    }\n",
              "\n",
              "    .dataframe thead th {\n",
              "        text-align: right;\n",
              "    }\n",
              "</style>\n",
              "<table border=\"1\" class=\"dataframe\">\n",
              "  <thead>\n",
              "    <tr style=\"text-align: right;\">\n",
              "      <th></th>\n",
              "      <th>Item_Identifier</th>\n",
              "      <th>Item_Weight</th>\n",
              "      <th>Item_Fat_Content</th>\n",
              "      <th>Item_Type</th>\n",
              "      <th>Outlet_Identifier</th>\n",
              "      <th>Outlet_Size</th>\n",
              "      <th>Outlet_Location_Type</th>\n",
              "      <th>Outlet_Type</th>\n",
              "    </tr>\n",
              "  </thead>\n",
              "  <tbody>\n",
              "    <tr>\n",
              "      <th>count</th>\n",
              "      <td>8523</td>\n",
              "      <td>7060</td>\n",
              "      <td>8523</td>\n",
              "      <td>8523</td>\n",
              "      <td>8523</td>\n",
              "      <td>6113</td>\n",
              "      <td>8523</td>\n",
              "      <td>8523</td>\n",
              "    </tr>\n",
              "    <tr>\n",
              "      <th>unique</th>\n",
              "      <td>1559</td>\n",
              "      <td>415</td>\n",
              "      <td>5</td>\n",
              "      <td>16</td>\n",
              "      <td>10</td>\n",
              "      <td>3</td>\n",
              "      <td>3</td>\n",
              "      <td>4</td>\n",
              "    </tr>\n",
              "    <tr>\n",
              "      <th>top</th>\n",
              "      <td>FDW13</td>\n",
              "      <td>12.15</td>\n",
              "      <td>Low Fat</td>\n",
              "      <td>Fruits and Vegetables</td>\n",
              "      <td>OUT027</td>\n",
              "      <td>Medium</td>\n",
              "      <td>Tier 3</td>\n",
              "      <td>Supermarket Type1</td>\n",
              "    </tr>\n",
              "    <tr>\n",
              "      <th>freq</th>\n",
              "      <td>10</td>\n",
              "      <td>86</td>\n",
              "      <td>5089</td>\n",
              "      <td>1232</td>\n",
              "      <td>935</td>\n",
              "      <td>2793</td>\n",
              "      <td>3350</td>\n",
              "      <td>5577</td>\n",
              "    </tr>\n",
              "  </tbody>\n",
              "</table>\n",
              "</div>\n",
              "      <button class=\"colab-df-convert\" onclick=\"convertToInteractive('df-263e0b5a-8b97-4bd6-bfc9-9697cbda4e43')\"\n",
              "              title=\"Convert this dataframe to an interactive table.\"\n",
              "              style=\"display:none;\">\n",
              "        \n",
              "  <svg xmlns=\"http://www.w3.org/2000/svg\" height=\"24px\"viewBox=\"0 0 24 24\"\n",
              "       width=\"24px\">\n",
              "    <path d=\"M0 0h24v24H0V0z\" fill=\"none\"/>\n",
              "    <path d=\"M18.56 5.44l.94 2.06.94-2.06 2.06-.94-2.06-.94-.94-2.06-.94 2.06-2.06.94zm-11 1L8.5 8.5l.94-2.06 2.06-.94-2.06-.94L8.5 2.5l-.94 2.06-2.06.94zm10 10l.94 2.06.94-2.06 2.06-.94-2.06-.94-.94-2.06-.94 2.06-2.06.94z\"/><path d=\"M17.41 7.96l-1.37-1.37c-.4-.4-.92-.59-1.43-.59-.52 0-1.04.2-1.43.59L10.3 9.45l-7.72 7.72c-.78.78-.78 2.05 0 2.83L4 21.41c.39.39.9.59 1.41.59.51 0 1.02-.2 1.41-.59l7.78-7.78 2.81-2.81c.8-.78.8-2.07 0-2.86zM5.41 20L4 18.59l7.72-7.72 1.47 1.35L5.41 20z\"/>\n",
              "  </svg>\n",
              "      </button>\n",
              "      \n",
              "  <style>\n",
              "    .colab-df-container {\n",
              "      display:flex;\n",
              "      flex-wrap:wrap;\n",
              "      gap: 12px;\n",
              "    }\n",
              "\n",
              "    .colab-df-convert {\n",
              "      background-color: #E8F0FE;\n",
              "      border: none;\n",
              "      border-radius: 50%;\n",
              "      cursor: pointer;\n",
              "      display: none;\n",
              "      fill: #1967D2;\n",
              "      height: 32px;\n",
              "      padding: 0 0 0 0;\n",
              "      width: 32px;\n",
              "    }\n",
              "\n",
              "    .colab-df-convert:hover {\n",
              "      background-color: #E2EBFA;\n",
              "      box-shadow: 0px 1px 2px rgba(60, 64, 67, 0.3), 0px 1px 3px 1px rgba(60, 64, 67, 0.15);\n",
              "      fill: #174EA6;\n",
              "    }\n",
              "\n",
              "    [theme=dark] .colab-df-convert {\n",
              "      background-color: #3B4455;\n",
              "      fill: #D2E3FC;\n",
              "    }\n",
              "\n",
              "    [theme=dark] .colab-df-convert:hover {\n",
              "      background-color: #434B5C;\n",
              "      box-shadow: 0px 1px 3px 1px rgba(0, 0, 0, 0.15);\n",
              "      filter: drop-shadow(0px 1px 2px rgba(0, 0, 0, 0.3));\n",
              "      fill: #FFFFFF;\n",
              "    }\n",
              "  </style>\n",
              "\n",
              "      <script>\n",
              "        const buttonEl =\n",
              "          document.querySelector('#df-263e0b5a-8b97-4bd6-bfc9-9697cbda4e43 button.colab-df-convert');\n",
              "        buttonEl.style.display =\n",
              "          google.colab.kernel.accessAllowed ? 'block' : 'none';\n",
              "\n",
              "        async function convertToInteractive(key) {\n",
              "          const element = document.querySelector('#df-263e0b5a-8b97-4bd6-bfc9-9697cbda4e43');\n",
              "          const dataTable =\n",
              "            await google.colab.kernel.invokeFunction('convertToInteractive',\n",
              "                                                     [key], {});\n",
              "          if (!dataTable) return;\n",
              "\n",
              "          const docLinkHtml = 'Like what you see? Visit the ' +\n",
              "            '<a target=\"_blank\" href=https://colab.research.google.com/notebooks/data_table.ipynb>data table notebook</a>'\n",
              "            + ' to learn more about interactive tables.';\n",
              "          element.innerHTML = '';\n",
              "          dataTable['output_type'] = 'display_data';\n",
              "          await google.colab.output.renderOutput(dataTable, element);\n",
              "          const docLink = document.createElement('div');\n",
              "          docLink.innerHTML = docLinkHtml;\n",
              "          element.appendChild(docLink);\n",
              "        }\n",
              "      </script>\n",
              "    </div>\n",
              "  </div>\n",
              "  "
            ],
            "text/plain": [
              "       Item_Identifier Item_Weight Item_Fat_Content              Item_Type  \\\n",
              "count             8523        7060             8523                   8523   \n",
              "unique            1559         415                5                     16   \n",
              "top              FDW13       12.15          Low Fat  Fruits and Vegetables   \n",
              "freq                10          86             5089                   1232   \n",
              "\n",
              "       Outlet_Identifier Outlet_Size Outlet_Location_Type        Outlet_Type  \n",
              "count               8523        6113                 8523               8523  \n",
              "unique                10           3                    3                  4  \n",
              "top               OUT027      Medium               Tier 3  Supermarket Type1  \n",
              "freq                 935        2793                 3350               5577  "
            ]
          },
          "execution_count": 8,
          "metadata": {},
          "output_type": "execute_result"
        }
      ],
      "source": [
        "# displaying the descriptive statistics for the object columns\n",
        "df.describe(include='object')"
      ]
    },
    {
      "cell_type": "code",
      "execution_count": null,
      "metadata": {
        "colab": {
          "base_uri": "https://localhost:8080/",
          "height": 301
        },
        "id": "ZzbPudW6pqJE",
        "outputId": "bb550704-9ced-491e-b36a-02cd0b93c781"
      },
      "outputs": [
        {
          "data": {
            "text/html": [
              "\n",
              "  <div id=\"df-9725d912-005e-4500-9320-ce108002253d\">\n",
              "    <div class=\"colab-df-container\">\n",
              "      <div>\n",
              "<style scoped>\n",
              "    .dataframe tbody tr th:only-of-type {\n",
              "        vertical-align: middle;\n",
              "    }\n",
              "\n",
              "    .dataframe tbody tr th {\n",
              "        vertical-align: top;\n",
              "    }\n",
              "\n",
              "    .dataframe thead th {\n",
              "        text-align: right;\n",
              "    }\n",
              "</style>\n",
              "<table border=\"1\" class=\"dataframe\">\n",
              "  <thead>\n",
              "    <tr style=\"text-align: right;\">\n",
              "      <th></th>\n",
              "      <th>Item_Visibility</th>\n",
              "      <th>Item_MRP</th>\n",
              "      <th>Outlet_Establishment_Year</th>\n",
              "      <th>Item_Outlet_Sales</th>\n",
              "    </tr>\n",
              "  </thead>\n",
              "  <tbody>\n",
              "    <tr>\n",
              "      <th>count</th>\n",
              "      <td>8523.000000</td>\n",
              "      <td>8523.000000</td>\n",
              "      <td>8523.000000</td>\n",
              "      <td>8523.000000</td>\n",
              "    </tr>\n",
              "    <tr>\n",
              "      <th>mean</th>\n",
              "      <td>0.066132</td>\n",
              "      <td>140.992782</td>\n",
              "      <td>1997.831867</td>\n",
              "      <td>2181.288914</td>\n",
              "    </tr>\n",
              "    <tr>\n",
              "      <th>std</th>\n",
              "      <td>0.051598</td>\n",
              "      <td>62.275067</td>\n",
              "      <td>8.371760</td>\n",
              "      <td>1706.499616</td>\n",
              "    </tr>\n",
              "    <tr>\n",
              "      <th>min</th>\n",
              "      <td>0.000000</td>\n",
              "      <td>31.290000</td>\n",
              "      <td>1985.000000</td>\n",
              "      <td>33.290000</td>\n",
              "    </tr>\n",
              "    <tr>\n",
              "      <th>25%</th>\n",
              "      <td>0.026989</td>\n",
              "      <td>93.826500</td>\n",
              "      <td>1987.000000</td>\n",
              "      <td>834.247400</td>\n",
              "    </tr>\n",
              "    <tr>\n",
              "      <th>50%</th>\n",
              "      <td>0.053931</td>\n",
              "      <td>143.012800</td>\n",
              "      <td>1999.000000</td>\n",
              "      <td>1794.331000</td>\n",
              "    </tr>\n",
              "    <tr>\n",
              "      <th>75%</th>\n",
              "      <td>0.094585</td>\n",
              "      <td>185.643700</td>\n",
              "      <td>2004.000000</td>\n",
              "      <td>3101.296400</td>\n",
              "    </tr>\n",
              "    <tr>\n",
              "      <th>max</th>\n",
              "      <td>0.328391</td>\n",
              "      <td>266.888400</td>\n",
              "      <td>2009.000000</td>\n",
              "      <td>13086.964800</td>\n",
              "    </tr>\n",
              "  </tbody>\n",
              "</table>\n",
              "</div>\n",
              "      <button class=\"colab-df-convert\" onclick=\"convertToInteractive('df-9725d912-005e-4500-9320-ce108002253d')\"\n",
              "              title=\"Convert this dataframe to an interactive table.\"\n",
              "              style=\"display:none;\">\n",
              "        \n",
              "  <svg xmlns=\"http://www.w3.org/2000/svg\" height=\"24px\"viewBox=\"0 0 24 24\"\n",
              "       width=\"24px\">\n",
              "    <path d=\"M0 0h24v24H0V0z\" fill=\"none\"/>\n",
              "    <path d=\"M18.56 5.44l.94 2.06.94-2.06 2.06-.94-2.06-.94-.94-2.06-.94 2.06-2.06.94zm-11 1L8.5 8.5l.94-2.06 2.06-.94-2.06-.94L8.5 2.5l-.94 2.06-2.06.94zm10 10l.94 2.06.94-2.06 2.06-.94-2.06-.94-.94-2.06-.94 2.06-2.06.94z\"/><path d=\"M17.41 7.96l-1.37-1.37c-.4-.4-.92-.59-1.43-.59-.52 0-1.04.2-1.43.59L10.3 9.45l-7.72 7.72c-.78.78-.78 2.05 0 2.83L4 21.41c.39.39.9.59 1.41.59.51 0 1.02-.2 1.41-.59l7.78-7.78 2.81-2.81c.8-.78.8-2.07 0-2.86zM5.41 20L4 18.59l7.72-7.72 1.47 1.35L5.41 20z\"/>\n",
              "  </svg>\n",
              "      </button>\n",
              "      \n",
              "  <style>\n",
              "    .colab-df-container {\n",
              "      display:flex;\n",
              "      flex-wrap:wrap;\n",
              "      gap: 12px;\n",
              "    }\n",
              "\n",
              "    .colab-df-convert {\n",
              "      background-color: #E8F0FE;\n",
              "      border: none;\n",
              "      border-radius: 50%;\n",
              "      cursor: pointer;\n",
              "      display: none;\n",
              "      fill: #1967D2;\n",
              "      height: 32px;\n",
              "      padding: 0 0 0 0;\n",
              "      width: 32px;\n",
              "    }\n",
              "\n",
              "    .colab-df-convert:hover {\n",
              "      background-color: #E2EBFA;\n",
              "      box-shadow: 0px 1px 2px rgba(60, 64, 67, 0.3), 0px 1px 3px 1px rgba(60, 64, 67, 0.15);\n",
              "      fill: #174EA6;\n",
              "    }\n",
              "\n",
              "    [theme=dark] .colab-df-convert {\n",
              "      background-color: #3B4455;\n",
              "      fill: #D2E3FC;\n",
              "    }\n",
              "\n",
              "    [theme=dark] .colab-df-convert:hover {\n",
              "      background-color: #434B5C;\n",
              "      box-shadow: 0px 1px 3px 1px rgba(0, 0, 0, 0.15);\n",
              "      filter: drop-shadow(0px 1px 2px rgba(0, 0, 0, 0.3));\n",
              "      fill: #FFFFFF;\n",
              "    }\n",
              "  </style>\n",
              "\n",
              "      <script>\n",
              "        const buttonEl =\n",
              "          document.querySelector('#df-9725d912-005e-4500-9320-ce108002253d button.colab-df-convert');\n",
              "        buttonEl.style.display =\n",
              "          google.colab.kernel.accessAllowed ? 'block' : 'none';\n",
              "\n",
              "        async function convertToInteractive(key) {\n",
              "          const element = document.querySelector('#df-9725d912-005e-4500-9320-ce108002253d');\n",
              "          const dataTable =\n",
              "            await google.colab.kernel.invokeFunction('convertToInteractive',\n",
              "                                                     [key], {});\n",
              "          if (!dataTable) return;\n",
              "\n",
              "          const docLinkHtml = 'Like what you see? Visit the ' +\n",
              "            '<a target=\"_blank\" href=https://colab.research.google.com/notebooks/data_table.ipynb>data table notebook</a>'\n",
              "            + ' to learn more about interactive tables.';\n",
              "          element.innerHTML = '';\n",
              "          dataTable['output_type'] = 'display_data';\n",
              "          await google.colab.output.renderOutput(dataTable, element);\n",
              "          const docLink = document.createElement('div');\n",
              "          docLink.innerHTML = docLinkHtml;\n",
              "          element.appendChild(docLink);\n",
              "        }\n",
              "      </script>\n",
              "    </div>\n",
              "  </div>\n",
              "  "
            ],
            "text/plain": [
              "       Item_Visibility     Item_MRP  Outlet_Establishment_Year  \\\n",
              "count      8523.000000  8523.000000                8523.000000   \n",
              "mean          0.066132   140.992782                1997.831867   \n",
              "std           0.051598    62.275067                   8.371760   \n",
              "min           0.000000    31.290000                1985.000000   \n",
              "25%           0.026989    93.826500                1987.000000   \n",
              "50%           0.053931   143.012800                1999.000000   \n",
              "75%           0.094585   185.643700                2004.000000   \n",
              "max           0.328391   266.888400                2009.000000   \n",
              "\n",
              "       Item_Outlet_Sales  \n",
              "count        8523.000000  \n",
              "mean         2181.288914  \n",
              "std          1706.499616  \n",
              "min            33.290000  \n",
              "25%           834.247400  \n",
              "50%          1794.331000  \n",
              "75%          3101.296400  \n",
              "max         13086.964800  "
            ]
          },
          "execution_count": 9,
          "metadata": {},
          "output_type": "execute_result"
        }
      ],
      "source": [
        "# displaying the descriptive statistics for nume4ric columns\n",
        "df.describe(include='number')"
      ]
    },
    {
      "cell_type": "markdown",
      "metadata": {
        "id": "TpC8HEvtmr7o"
      },
      "source": [
        "##**Cleaning the data**"
      ]
    },
    {
      "cell_type": "code",
      "execution_count": null,
      "metadata": {
        "colab": {
          "base_uri": "https://localhost:8080/"
        },
        "id": "JAw2o56tYHrH",
        "outputId": "c4b01dce-369e-4639-af48-890df0a65064"
      },
      "outputs": [
        {
          "name": "stdout",
          "output_type": "stream",
          "text": [
            "There are 0 duplicate rows.\n"
          ]
        }
      ],
      "source": [
        "# Display the number of duplicate rows in the data\n",
        "print(f'There are {df.duplicated().sum()} duplicate rows.')\n"
      ]
    },
    {
      "cell_type": "code",
      "execution_count": null,
      "metadata": {
        "colab": {
          "base_uri": "https://localhost:8080/"
        },
        "id": "6Qi8B2QiYmVy",
        "outputId": "6b4e2b59-f7a7-4b52-cbe1-63320d0dfc9f"
      },
      "outputs": [
        {
          "data": {
            "text/plain": [
              "Item_Identifier                 0\n",
              "Item_Weight                  1463\n",
              "Item_Fat_Content                0\n",
              "Item_Visibility                 0\n",
              "Item_Type                       0\n",
              "Item_MRP                        0\n",
              "Outlet_Identifier               0\n",
              "Outlet_Establishment_Year       0\n",
              "Outlet_Size                  2410\n",
              "Outlet_Location_Type            0\n",
              "Outlet_Type                     0\n",
              "Item_Outlet_Sales               0\n",
              "dtype: int64"
            ]
          },
          "execution_count": 11,
          "metadata": {},
          "output_type": "execute_result"
        }
      ],
      "source": [
        "# identifying missing data \n",
        "df.isna().sum()"
      ]
    },
    {
      "cell_type": "code",
      "execution_count": null,
      "metadata": {
        "colab": {
          "base_uri": "https://localhost:8080/"
        },
        "id": "FNdEAqvwPY6Q",
        "outputId": "2972a80d-b14d-4a61-c3b6-1429176d0c62"
      },
      "outputs": [
        {
          "name": "stdout",
          "output_type": "stream",
          "text": [
            "3873 missing values\n"
          ]
        }
      ],
      "source": [
        "# identifying missing values\n",
        "print(df.isna().sum().sum(), 'missing values')"
      ]
    },
    {
      "cell_type": "code",
      "execution_count": null,
      "metadata": {
        "colab": {
          "base_uri": "https://localhost:8080/"
        },
        "id": "7R090mFjPzFD",
        "outputId": "ec37d3be-bd01-405b-fb78-a1b9cc5c1a90"
      },
      "outputs": [
        {
          "data": {
            "text/plain": [
              "(3873, 12)"
            ]
          },
          "execution_count": 14,
          "metadata": {},
          "output_type": "execute_result"
        }
      ],
      "source": [
        "df[df.isna().any(axis=1)].shape"
      ]
    },
    {
      "cell_type": "markdown",
      "metadata": {
        "id": "OXODVY8cLyLA"
      },
      "source": [
        "\n",
        "\n",
        "```\n",
        "# This is formatted as code\n",
        "```\n",
        "\n",
        "##**Data Visualizations**"
      ]
    },
    {
      "cell_type": "code",
      "execution_count": null,
      "metadata": {
        "colab": {
          "base_uri": "https://localhost:8080/",
          "height": 379
        },
        "id": "UIefc4ogL2K7",
        "outputId": "b0517b9f-9a94-4fa0-efbb-224f43af24c0"
      },
      "outputs": [
        {
          "data": {
            "text/plain": [
              "Text(0.5, 1.0, 'Item Outlet Sales Prices')"
            ]
          },
          "execution_count": 15,
          "metadata": {},
          "output_type": "execute_result"
        },
        {
          "data": {
            "image/png": "[encoded data removed]",
            "text/plain": [
              "<Figure size 576x396 with 1 Axes>"
            ]
          },
          "metadata": {},
          "output_type": "display_data"
        }
      ],
      "source": [
        "plt.style.use('seaborn')\n",
        "df['Item_Outlet_Sales'].hist(bins=30,edgecolor='black')\n",
        "plt.ticklabel_format(useOffset=False)\n",
        "plt.title('Item Outlet Sales Prices')"
      ]
    },
    {
      "cell_type": "code",
      "execution_count": null,
      "metadata": {
        "colab": {
          "background_save": true,
          "base_uri": "https://localhost:8080/"
        },
        "id": "NDciVGhCnF7n",
        "outputId": "d656a1b1-ca76-4c99-877d-ab911d3f27a6"
      },
      "outputs": [
        {
          "data": {
            "image/png": "[encoded data removed]",
            "text/plain": [
              "<Figure size 576x288 with 1 Axes>"
            ]
          },
          "metadata": {},
          "output_type": "display_data"
        }
      ],
      "source": [
        "#Maximum Retail Price Distribution - OOP with ax.set()\n",
        "fig, ax = plt.subplots(figsize=(8,4))\n",
        "ax.hist(df['Item_MRP'],bins=30);\n",
        "ax.set(xlabel=\"Item_MRP\", ylabel=\"Frequent Prices\", \n",
        "       title='Maximum Retail Price');\n",
        "\n",
        "median = df['Item_MRP'].median()\n",
        "ax.axvline(median,color='k', ls=':', label=f\"Median Price=${median}\");\n",
        "ax.legend();"
      ]
    },
    {
      "cell_type": "code",
      "execution_count": 34,
      "metadata": {
        "id": "12ABd5PJYEJW"
      },
      "outputs": [],
      "source": [
        "# split\n",
        "X = df.drop(columns=['Item_Outlet_Sales','Item_Identifier','Item_Weight', 'Item_Visibility','Item_Type','Outlet_Size', 'Outlet_Location_Type', 'Outlet_Type', 'Item_Fat_Content', 'Outlet_Identifier','Outlet_Establishment_Year'])\n",
        "y = df['Item_Outlet_Sales']\n",
        "\n",
        "# split\n",
        "X_train,X_test,y_train,y_test = train_test_split(X,y,random_state=42)"
      ]
    },
    {
      "cell_type": "markdown",
      "metadata": {
        "id": "cPE5LLVWqB2L"
      },
      "source": [
        "## **Prepare the Data**"
      ]
    },
    {
      "cell_type": "markdown",
      "metadata": {
        "id": "RuiT02EhqHg8"
      },
      "source": [
        "### **ColumnSelector**"
      ]
    },
    {
      "cell_type": "code",
      "execution_count": 35,
      "metadata": {
        "id": "OD7GJcWPa-61"
      },
      "outputs": [],
      "source": [
        "# Instantiate the column seelctors\n",
        "cat_selector = make_column_selector(dtype_include='object')\n",
        "num_selector = make_column_selector(dtype_include='number')"
      ]
    },
    {
      "cell_type": "markdown",
      "metadata": {
        "id": "WVqAGxpmq1ek"
      },
      "source": [
        "### **Transformers**"
      ]
    },
    {
      "cell_type": "code",
      "execution_count": 36,
      "metadata": {
        "id": "yxaUPbIMYiVC"
      },
      "outputs": [],
      "source": [
        "#scaler\n",
        "scaler = StandardScaler()\n",
        "# One hot Encoder\n",
        "ohe = OneHotEncoder(handle_unknown='ignore', sparse=False)"
      ]
    },
    {
      "cell_type": "code",
      "execution_count": 37,
      "metadata": {
        "id": "1M3wG6MSqsoW"
      },
      "outputs": [],
      "source": [
        "# Instantiate an imputer and scaler \n",
        "freq_imputer = SimpleImputer(strategy='most_frequent')\n",
        "mean_imputer = SimpleImputer(strategy='mean')"
      ]
    },
    {
      "cell_type": "code",
      "execution_count": 38,
      "metadata": {
        "colab": {
          "base_uri": "https://localhost:8080/",
          "height": 128
        },
        "id": "6gvMofRNcgw9",
        "outputId": "67dd3323-9ca6-4a75-e336-48236a9c2d28"
      },
      "outputs": [
        {
          "output_type": "execute_result",
          "data": {
            "text/plain": [
              "Pipeline(steps=[('simpleimputer', SimpleImputer()),\n",
              "                ('standardscaler', StandardScaler())])"
            ],
            "text/html": [
              "<style>#sk-b635e14e-bfd0-4aed-9473-5cf9d0f40bd5 {color: black;background-color: white;}#sk-b635e14e-bfd0-4aed-9473-5cf9d0f40bd5 pre{padding: 0;}#sk-b635e14e-bfd0-4aed-9473-5cf9d0f40bd5 div.sk-toggleable {background-color: white;}#sk-b635e14e-bfd0-4aed-9473-5cf9d0f40bd5 label.sk-toggleable__label {cursor: pointer;display: block;width: 100%;margin-bottom: 0;padding: 0.3em;box-sizing: border-box;text-align: center;}#sk-b635e14e-bfd0-4aed-9473-5cf9d0f40bd5 label.sk-toggleable__label-arrow:before {content: \"▸\";float: left;margin-right: 0.25em;color: #696969;}#sk-b635e14e-bfd0-4aed-9473-5cf9d0f40bd5 label.sk-toggleable__label-arrow:hover:before {color: black;}#sk-b635e14e-bfd0-4aed-9473-5cf9d0f40bd5 div.sk-estimator:hover label.sk-toggleable__label-arrow:before {color: black;}#sk-b635e14e-bfd0-4aed-9473-5cf9d0f40bd5 div.sk-toggleable__content {max-height: 0;max-width: 0;overflow: hidden;text-align: left;background-color: #f0f8ff;}#sk-b635e14e-bfd0-4aed-9473-5cf9d0f40bd5 div.sk-toggleable__content pre {margin: 0.2em;color: black;border-radius: 0.25em;background-color: #f0f8ff;}#sk-b635e14e-bfd0-4aed-9473-5cf9d0f40bd5 input.sk-toggleable__control:checked~div.sk-toggleable__content {max-height: 200px;max-width: 100%;overflow: auto;}#sk-b635e14e-bfd0-4aed-9473-5cf9d0f40bd5 input.sk-toggleable__control:checked~label.sk-toggleable__label-arrow:before {content: \"▾\";}#sk-b635e14e-bfd0-4aed-9473-5cf9d0f40bd5 div.sk-estimator input.sk-toggleable__control:checked~label.sk-toggleable__label {background-color: #d4ebff;}#sk-b635e14e-bfd0-4aed-9473-5cf9d0f40bd5 div.sk-label input.sk-toggleable__control:checked~label.sk-toggleable__label {background-color: #d4ebff;}#sk-b635e14e-bfd0-4aed-9473-5cf9d0f40bd5 input.sk-hidden--visually {border: 0;clip: rect(1px 1px 1px 1px);clip: rect(1px, 1px, 1px, 1px);height: 1px;margin: -1px;overflow: hidden;padding: 0;position: absolute;width: 1px;}#sk-b635e14e-bfd0-4aed-9473-5cf9d0f40bd5 div.sk-estimator {font-family: monospace;background-color: #f0f8ff;border: 1px dotted black;border-radius: 0.25em;box-sizing: border-box;margin-bottom: 0.5em;}#sk-b635e14e-bfd0-4aed-9473-5cf9d0f40bd5 div.sk-estimator:hover {background-color: #d4ebff;}#sk-b635e14e-bfd0-4aed-9473-5cf9d0f40bd5 div.sk-parallel-item::after {content: \"\";width: 100%;border-bottom: 1px solid gray;flex-grow: 1;}#sk-b635e14e-bfd0-4aed-9473-5cf9d0f40bd5 div.sk-label:hover label.sk-toggleable__label {background-color: #d4ebff;}#sk-b635e14e-bfd0-4aed-9473-5cf9d0f40bd5 div.sk-serial::before {content: \"\";position: absolute;border-left: 1px solid gray;box-sizing: border-box;top: 2em;bottom: 0;left: 50%;}#sk-b635e14e-bfd0-4aed-9473-5cf9d0f40bd5 div.sk-serial {display: flex;flex-direction: column;align-items: center;background-color: white;padding-right: 0.2em;padding-left: 0.2em;}#sk-b635e14e-bfd0-4aed-9473-5cf9d0f40bd5 div.sk-item {z-index: 1;}#sk-b635e14e-bfd0-4aed-9473-5cf9d0f40bd5 div.sk-parallel {display: flex;align-items: stretch;justify-content: center;background-color: white;}#sk-b635e14e-bfd0-4aed-9473-5cf9d0f40bd5 div.sk-parallel::before {content: \"\";position: absolute;border-left: 1px solid gray;box-sizing: border-box;top: 2em;bottom: 0;left: 50%;}#sk-b635e14e-bfd0-4aed-9473-5cf9d0f40bd5 div.sk-parallel-item {display: flex;flex-direction: column;position: relative;background-color: white;}#sk-b635e14e-bfd0-4aed-9473-5cf9d0f40bd5 div.sk-parallel-item:first-child::after {align-self: flex-end;width: 50%;}#sk-b635e14e-bfd0-4aed-9473-5cf9d0f40bd5 div.sk-parallel-item:last-child::after {align-self: flex-start;width: 50%;}#sk-b635e14e-bfd0-4aed-9473-5cf9d0f40bd5 div.sk-parallel-item:only-child::after {width: 0;}#sk-b635e14e-bfd0-4aed-9473-5cf9d0f40bd5 div.sk-dashed-wrapped {border: 1px dashed gray;margin: 0 0.4em 0.5em 0.4em;box-sizing: border-box;padding-bottom: 0.4em;background-color: white;position: relative;}#sk-b635e14e-bfd0-4aed-9473-5cf9d0f40bd5 div.sk-label label {font-family: monospace;font-weight: bold;background-color: white;display: inline-block;line-height: 1.2em;}#sk-b635e14e-bfd0-4aed-9473-5cf9d0f40bd5 div.sk-label-container {position: relative;z-index: 2;text-align: center;}#sk-b635e14e-bfd0-4aed-9473-5cf9d0f40bd5 div.sk-container {/* jupyter's `normalize.less` sets `[hidden] { display: none; }` but bootstrap.min.css set `[hidden] { display: none !important; }` so we also need the `!important` here to be able to override the default hidden behavior on the sphinx rendered scikit-learn.org. See: https://github.com/scikit-learn/scikit-learn/issues/21755 */display: inline-block !important;position: relative;}#sk-b635e14e-bfd0-4aed-9473-5cf9d0f40bd5 div.sk-text-repr-fallback {display: none;}</style><div id=\"sk-b635e14e-bfd0-4aed-9473-5cf9d0f40bd5\" class=\"sk-top-container\"><div class=\"sk-text-repr-fallback\"><pre>Pipeline(steps=[(&#x27;simpleimputer&#x27;, SimpleImputer()),\n",
              "                (&#x27;standardscaler&#x27;, StandardScaler())])</pre><b>Please rerun this cell to show the HTML repr or trust the notebook.</b></div><div class=\"sk-container\" hidden><div class=\"sk-item sk-dashed-wrapped\"><div class=\"sk-label-container\"><div class=\"sk-label sk-toggleable\"><input class=\"sk-toggleable__control sk-hidden--visually\" id=\"54bac393-2d14-4120-86c3-16fb6aeaab48\" type=\"checkbox\" ><label for=\"54bac393-2d14-4120-86c3-16fb6aeaab48\" class=\"sk-toggleable__label sk-toggleable__label-arrow\">Pipeline</label><div class=\"sk-toggleable__content\"><pre>Pipeline(steps=[(&#x27;simpleimputer&#x27;, SimpleImputer()),\n",
              "                (&#x27;standardscaler&#x27;, StandardScaler())])</pre></div></div></div><div class=\"sk-serial\"><div class=\"sk-item\"><div class=\"sk-estimator sk-toggleable\"><input class=\"sk-toggleable__control sk-hidden--visually\" id=\"6c24e678-7ff0-41b9-a621-338a27a83ad4\" type=\"checkbox\" ><label for=\"6c24e678-7ff0-41b9-a621-338a27a83ad4\" class=\"sk-toggleable__label sk-toggleable__label-arrow\">SimpleImputer</label><div class=\"sk-toggleable__content\"><pre>SimpleImputer()</pre></div></div></div><div class=\"sk-item\"><div class=\"sk-estimator sk-toggleable\"><input class=\"sk-toggleable__control sk-hidden--visually\" id=\"e3b50460-078e-460e-93a8-6ef625bcfd98\" type=\"checkbox\" ><label for=\"e3b50460-078e-460e-93a8-6ef625bcfd98\" class=\"sk-toggleable__label sk-toggleable__label-arrow\">StandardScaler</label><div class=\"sk-toggleable__content\"><pre>StandardScaler()</pre></div></div></div></div></div></div></div>"
            ]
          },
          "metadata": {},
          "execution_count": 38
        }
      ],
      "source": [
        "# Numeric pipeline\n",
        "numeric_pipe = make_pipeline(mean_imputer,scaler)\n",
        "numeric_pipe"
      ]
    },
    {
      "cell_type": "code",
      "execution_count": 39,
      "metadata": {
        "colab": {
          "base_uri": "https://localhost:8080/",
          "height": 128
        },
        "id": "kAuRwFBWcolC",
        "outputId": "17b21855-78f7-4948-cd8d-77932ab17d50"
      },
      "outputs": [
        {
          "output_type": "execute_result",
          "data": {
            "text/plain": [
              "Pipeline(steps=[('simpleimputer', SimpleImputer(strategy='most_frequent')),\n",
              "                ('onehotencoder',\n",
              "                 OneHotEncoder(handle_unknown='ignore', sparse=False))])"
            ],
            "text/html": [
              "<style>#sk-8f58d8d9-e05d-461d-b363-ca6e4c110e63 {color: black;background-color: white;}#sk-8f58d8d9-e05d-461d-b363-ca6e4c110e63 pre{padding: 0;}#sk-8f58d8d9-e05d-461d-b363-ca6e4c110e63 div.sk-toggleable {background-color: white;}#sk-8f58d8d9-e05d-461d-b363-ca6e4c110e63 label.sk-toggleable__label {cursor: pointer;display: block;width: 100%;margin-bottom: 0;padding: 0.3em;box-sizing: border-box;text-align: center;}#sk-8f58d8d9-e05d-461d-b363-ca6e4c110e63 label.sk-toggleable__label-arrow:before {content: \"▸\";float: left;margin-right: 0.25em;color: #696969;}#sk-8f58d8d9-e05d-461d-b363-ca6e4c110e63 label.sk-toggleable__label-arrow:hover:before {color: black;}#sk-8f58d8d9-e05d-461d-b363-ca6e4c110e63 div.sk-estimator:hover label.sk-toggleable__label-arrow:before {color: black;}#sk-8f58d8d9-e05d-461d-b363-ca6e4c110e63 div.sk-toggleable__content {max-height: 0;max-width: 0;overflow: hidden;text-align: left;background-color: #f0f8ff;}#sk-8f58d8d9-e05d-461d-b363-ca6e4c110e63 div.sk-toggleable__content pre {margin: 0.2em;color: black;border-radius: 0.25em;background-color: #f0f8ff;}#sk-8f58d8d9-e05d-461d-b363-ca6e4c110e63 input.sk-toggleable__control:checked~div.sk-toggleable__content {max-height: 200px;max-width: 100%;overflow: auto;}#sk-8f58d8d9-e05d-461d-b363-ca6e4c110e63 input.sk-toggleable__control:checked~label.sk-toggleable__label-arrow:before {content: \"▾\";}#sk-8f58d8d9-e05d-461d-b363-ca6e4c110e63 div.sk-estimator input.sk-toggleable__control:checked~label.sk-toggleable__label {background-color: #d4ebff;}#sk-8f58d8d9-e05d-461d-b363-ca6e4c110e63 div.sk-label input.sk-toggleable__control:checked~label.sk-toggleable__label {background-color: #d4ebff;}#sk-8f58d8d9-e05d-461d-b363-ca6e4c110e63 input.sk-hidden--visually {border: 0;clip: rect(1px 1px 1px 1px);clip: rect(1px, 1px, 1px, 1px);height: 1px;margin: -1px;overflow: hidden;padding: 0;position: absolute;width: 1px;}#sk-8f58d8d9-e05d-461d-b363-ca6e4c110e63 div.sk-estimator {font-family: monospace;background-color: #f0f8ff;border: 1px dotted black;border-radius: 0.25em;box-sizing: border-box;margin-bottom: 0.5em;}#sk-8f58d8d9-e05d-461d-b363-ca6e4c110e63 div.sk-estimator:hover {background-color: #d4ebff;}#sk-8f58d8d9-e05d-461d-b363-ca6e4c110e63 div.sk-parallel-item::after {content: \"\";width: 100%;border-bottom: 1px solid gray;flex-grow: 1;}#sk-8f58d8d9-e05d-461d-b363-ca6e4c110e63 div.sk-label:hover label.sk-toggleable__label {background-color: #d4ebff;}#sk-8f58d8d9-e05d-461d-b363-ca6e4c110e63 div.sk-serial::before {content: \"\";position: absolute;border-left: 1px solid gray;box-sizing: border-box;top: 2em;bottom: 0;left: 50%;}#sk-8f58d8d9-e05d-461d-b363-ca6e4c110e63 div.sk-serial {display: flex;flex-direction: column;align-items: center;background-color: white;padding-right: 0.2em;padding-left: 0.2em;}#sk-8f58d8d9-e05d-461d-b363-ca6e4c110e63 div.sk-item {z-index: 1;}#sk-8f58d8d9-e05d-461d-b363-ca6e4c110e63 div.sk-parallel {display: flex;align-items: stretch;justify-content: center;background-color: white;}#sk-8f58d8d9-e05d-461d-b363-ca6e4c110e63 div.sk-parallel::before {content: \"\";position: absolute;border-left: 1px solid gray;box-sizing: border-box;top: 2em;bottom: 0;left: 50%;}#sk-8f58d8d9-e05d-461d-b363-ca6e4c110e63 div.sk-parallel-item {display: flex;flex-direction: column;position: relative;background-color: white;}#sk-8f58d8d9-e05d-461d-b363-ca6e4c110e63 div.sk-parallel-item:first-child::after {align-self: flex-end;width: 50%;}#sk-8f58d8d9-e05d-461d-b363-ca6e4c110e63 div.sk-parallel-item:last-child::after {align-self: flex-start;width: 50%;}#sk-8f58d8d9-e05d-461d-b363-ca6e4c110e63 div.sk-parallel-item:only-child::after {width: 0;}#sk-8f58d8d9-e05d-461d-b363-ca6e4c110e63 div.sk-dashed-wrapped {border: 1px dashed gray;margin: 0 0.4em 0.5em 0.4em;box-sizing: border-box;padding-bottom: 0.4em;background-color: white;position: relative;}#sk-8f58d8d9-e05d-461d-b363-ca6e4c110e63 div.sk-label label {font-family: monospace;font-weight: bold;background-color: white;display: inline-block;line-height: 1.2em;}#sk-8f58d8d9-e05d-461d-b363-ca6e4c110e63 div.sk-label-container {position: relative;z-index: 2;text-align: center;}#sk-8f58d8d9-e05d-461d-b363-ca6e4c110e63 div.sk-container {/* jupyter's `normalize.less` sets `[hidden] { display: none; }` but bootstrap.min.css set `[hidden] { display: none !important; }` so we also need the `!important` here to be able to override the default hidden behavior on the sphinx rendered scikit-learn.org. See: https://github.com/scikit-learn/scikit-learn/issues/21755 */display: inline-block !important;position: relative;}#sk-8f58d8d9-e05d-461d-b363-ca6e4c110e63 div.sk-text-repr-fallback {display: none;}</style><div id=\"sk-8f58d8d9-e05d-461d-b363-ca6e4c110e63\" class=\"sk-top-container\"><div class=\"sk-text-repr-fallback\"><pre>Pipeline(steps=[(&#x27;simpleimputer&#x27;, SimpleImputer(strategy=&#x27;most_frequent&#x27;)),\n",
              "                (&#x27;onehotencoder&#x27;,\n",
              "                 OneHotEncoder(handle_unknown=&#x27;ignore&#x27;, sparse=False))])</pre><b>Please rerun this cell to show the HTML repr or trust the notebook.</b></div><div class=\"sk-container\" hidden><div class=\"sk-item sk-dashed-wrapped\"><div class=\"sk-label-container\"><div class=\"sk-label sk-toggleable\"><input class=\"sk-toggleable__control sk-hidden--visually\" id=\"c64859d8-f520-461c-94b5-42bf1a027ff2\" type=\"checkbox\" ><label for=\"c64859d8-f520-461c-94b5-42bf1a027ff2\" class=\"sk-toggleable__label sk-toggleable__label-arrow\">Pipeline</label><div class=\"sk-toggleable__content\"><pre>Pipeline(steps=[(&#x27;simpleimputer&#x27;, SimpleImputer(strategy=&#x27;most_frequent&#x27;)),\n",
              "                (&#x27;onehotencoder&#x27;,\n",
              "                 OneHotEncoder(handle_unknown=&#x27;ignore&#x27;, sparse=False))])</pre></div></div></div><div class=\"sk-serial\"><div class=\"sk-item\"><div class=\"sk-estimator sk-toggleable\"><input class=\"sk-toggleable__control sk-hidden--visually\" id=\"b026bb9d-9ded-415c-b813-0537c1fd3033\" type=\"checkbox\" ><label for=\"b026bb9d-9ded-415c-b813-0537c1fd3033\" class=\"sk-toggleable__label sk-toggleable__label-arrow\">SimpleImputer</label><div class=\"sk-toggleable__content\"><pre>SimpleImputer(strategy=&#x27;most_frequent&#x27;)</pre></div></div></div><div class=\"sk-item\"><div class=\"sk-estimator sk-toggleable\"><input class=\"sk-toggleable__control sk-hidden--visually\" id=\"a921f186-3801-4729-aaff-0dea8f08d805\" type=\"checkbox\" ><label for=\"a921f186-3801-4729-aaff-0dea8f08d805\" class=\"sk-toggleable__label sk-toggleable__label-arrow\">OneHotEncoder</label><div class=\"sk-toggleable__content\"><pre>OneHotEncoder(handle_unknown=&#x27;ignore&#x27;, sparse=False)</pre></div></div></div></div></div></div></div>"
            ]
          },
          "metadata": {},
          "execution_count": 39
        }
      ],
      "source": [
        "# Categorical pipeline\n",
        "categorical_pipe = make_pipeline(freq_imputer,ohe)\n",
        "categorical_pipe"
      ]
    },
    {
      "cell_type": "code",
      "execution_count": 40,
      "metadata": {
        "colab": {
          "base_uri": "https://localhost:8080/",
          "height": 119
        },
        "id": "ul1OUGXNr97U",
        "outputId": "06dcd02f-3638-42df-fdb1-7b301090978e"
      },
      "outputs": [
        {
          "output_type": "execute_result",
          "data": {
            "text/plain": [
              "ColumnTransformer(transformers=[('simpleimputer-1', SimpleImputer(),\n",
              "                                 <sklearn.compose._column_transformer.make_column_selector object at 0x7f05998f6f10>),\n",
              "                                ('simpleimputer-2',\n",
              "                                 SimpleImputer(strategy='most_frequent'),\n",
              "                                 <sklearn.compose._column_transformer.make_column_selector object at 0x7f05998f6670>)])"
            ],
            "text/html": [
              "<style>#sk-44d1b72f-bde4-49b4-9549-9069f452a917 {color: black;background-color: white;}#sk-44d1b72f-bde4-49b4-9549-9069f452a917 pre{padding: 0;}#sk-44d1b72f-bde4-49b4-9549-9069f452a917 div.sk-toggleable {background-color: white;}#sk-44d1b72f-bde4-49b4-9549-9069f452a917 label.sk-toggleable__label {cursor: pointer;display: block;width: 100%;margin-bottom: 0;padding: 0.3em;box-sizing: border-box;text-align: center;}#sk-44d1b72f-bde4-49b4-9549-9069f452a917 label.sk-toggleable__label-arrow:before {content: \"▸\";float: left;margin-right: 0.25em;color: #696969;}#sk-44d1b72f-bde4-49b4-9549-9069f452a917 label.sk-toggleable__label-arrow:hover:before {color: black;}#sk-44d1b72f-bde4-49b4-9549-9069f452a917 div.sk-estimator:hover label.sk-toggleable__label-arrow:before {color: black;}#sk-44d1b72f-bde4-49b4-9549-9069f452a917 div.sk-toggleable__content {max-height: 0;max-width: 0;overflow: hidden;text-align: left;background-color: #f0f8ff;}#sk-44d1b72f-bde4-49b4-9549-9069f452a917 div.sk-toggleable__content pre {margin: 0.2em;color: black;border-radius: 0.25em;background-color: #f0f8ff;}#sk-44d1b72f-bde4-49b4-9549-9069f452a917 input.sk-toggleable__control:checked~div.sk-toggleable__content {max-height: 200px;max-width: 100%;overflow: auto;}#sk-44d1b72f-bde4-49b4-9549-9069f452a917 input.sk-toggleable__control:checked~label.sk-toggleable__label-arrow:before {content: \"▾\";}#sk-44d1b72f-bde4-49b4-9549-9069f452a917 div.sk-estimator input.sk-toggleable__control:checked~label.sk-toggleable__label {background-color: #d4ebff;}#sk-44d1b72f-bde4-49b4-9549-9069f452a917 div.sk-label input.sk-toggleable__control:checked~label.sk-toggleable__label {background-color: #d4ebff;}#sk-44d1b72f-bde4-49b4-9549-9069f452a917 input.sk-hidden--visually {border: 0;clip: rect(1px 1px 1px 1px);clip: rect(1px, 1px, 1px, 1px);height: 1px;margin: -1px;overflow: hidden;padding: 0;position: absolute;width: 1px;}#sk-44d1b72f-bde4-49b4-9549-9069f452a917 div.sk-estimator {font-family: monospace;background-color: #f0f8ff;border: 1px dotted black;border-radius: 0.25em;box-sizing: border-box;margin-bottom: 0.5em;}#sk-44d1b72f-bde4-49b4-9549-9069f452a917 div.sk-estimator:hover {background-color: #d4ebff;}#sk-44d1b72f-bde4-49b4-9549-9069f452a917 div.sk-parallel-item::after {content: \"\";width: 100%;border-bottom: 1px solid gray;flex-grow: 1;}#sk-44d1b72f-bde4-49b4-9549-9069f452a917 div.sk-label:hover label.sk-toggleable__label {background-color: #d4ebff;}#sk-44d1b72f-bde4-49b4-9549-9069f452a917 div.sk-serial::before {content: \"\";position: absolute;border-left: 1px solid gray;box-sizing: border-box;top: 2em;bottom: 0;left: 50%;}#sk-44d1b72f-bde4-49b4-9549-9069f452a917 div.sk-serial {display: flex;flex-direction: column;align-items: center;background-color: white;padding-right: 0.2em;padding-left: 0.2em;}#sk-44d1b72f-bde4-49b4-9549-9069f452a917 div.sk-item {z-index: 1;}#sk-44d1b72f-bde4-49b4-9549-9069f452a917 div.sk-parallel {display: flex;align-items: stretch;justify-content: center;background-color: white;}#sk-44d1b72f-bde4-49b4-9549-9069f452a917 div.sk-parallel::before {content: \"\";position: absolute;border-left: 1px solid gray;box-sizing: border-box;top: 2em;bottom: 0;left: 50%;}#sk-44d1b72f-bde4-49b4-9549-9069f452a917 div.sk-parallel-item {display: flex;flex-direction: column;position: relative;background-color: white;}#sk-44d1b72f-bde4-49b4-9549-9069f452a917 div.sk-parallel-item:first-child::after {align-self: flex-end;width: 50%;}#sk-44d1b72f-bde4-49b4-9549-9069f452a917 div.sk-parallel-item:last-child::after {align-self: flex-start;width: 50%;}#sk-44d1b72f-bde4-49b4-9549-9069f452a917 div.sk-parallel-item:only-child::after {width: 0;}#sk-44d1b72f-bde4-49b4-9549-9069f452a917 div.sk-dashed-wrapped {border: 1px dashed gray;margin: 0 0.4em 0.5em 0.4em;box-sizing: border-box;padding-bottom: 0.4em;background-color: white;position: relative;}#sk-44d1b72f-bde4-49b4-9549-9069f452a917 div.sk-label label {font-family: monospace;font-weight: bold;background-color: white;display: inline-block;line-height: 1.2em;}#sk-44d1b72f-bde4-49b4-9549-9069f452a917 div.sk-label-container {position: relative;z-index: 2;text-align: center;}#sk-44d1b72f-bde4-49b4-9549-9069f452a917 div.sk-container {/* jupyter's `normalize.less` sets `[hidden] { display: none; }` but bootstrap.min.css set `[hidden] { display: none !important; }` so we also need the `!important` here to be able to override the default hidden behavior on the sphinx rendered scikit-learn.org. See: https://github.com/scikit-learn/scikit-learn/issues/21755 */display: inline-block !important;position: relative;}#sk-44d1b72f-bde4-49b4-9549-9069f452a917 div.sk-text-repr-fallback {display: none;}</style><div id=\"sk-44d1b72f-bde4-49b4-9549-9069f452a917\" class=\"sk-top-container\"><div class=\"sk-text-repr-fallback\"><pre>ColumnTransformer(transformers=[(&#x27;simpleimputer-1&#x27;, SimpleImputer(),\n",
              "                                 &lt;sklearn.compose._column_transformer.make_column_selector object at 0x7f05998f6f10&gt;),\n",
              "                                (&#x27;simpleimputer-2&#x27;,\n",
              "                                 SimpleImputer(strategy=&#x27;most_frequent&#x27;),\n",
              "                                 &lt;sklearn.compose._column_transformer.make_column_selector object at 0x7f05998f6670&gt;)])</pre><b>Please rerun this cell to show the HTML repr or trust the notebook.</b></div><div class=\"sk-container\" hidden><div class=\"sk-item sk-dashed-wrapped\"><div class=\"sk-label-container\"><div class=\"sk-label sk-toggleable\"><input class=\"sk-toggleable__control sk-hidden--visually\" id=\"b965f334-1e98-4cae-8bd0-20f24ebfc021\" type=\"checkbox\" ><label for=\"b965f334-1e98-4cae-8bd0-20f24ebfc021\" class=\"sk-toggleable__label sk-toggleable__label-arrow\">ColumnTransformer</label><div class=\"sk-toggleable__content\"><pre>ColumnTransformer(transformers=[(&#x27;simpleimputer-1&#x27;, SimpleImputer(),\n",
              "                                 &lt;sklearn.compose._column_transformer.make_column_selector object at 0x7f05998f6f10&gt;),\n",
              "                                (&#x27;simpleimputer-2&#x27;,\n",
              "                                 SimpleImputer(strategy=&#x27;most_frequent&#x27;),\n",
              "                                 &lt;sklearn.compose._column_transformer.make_column_selector object at 0x7f05998f6670&gt;)])</pre></div></div></div><div class=\"sk-parallel\"><div class=\"sk-parallel-item\"><div class=\"sk-item\"><div class=\"sk-label-container\"><div class=\"sk-label sk-toggleable\"><input class=\"sk-toggleable__control sk-hidden--visually\" id=\"c1fabbfa-c69b-4431-a928-c718088edfdf\" type=\"checkbox\" ><label for=\"c1fabbfa-c69b-4431-a928-c718088edfdf\" class=\"sk-toggleable__label sk-toggleable__label-arrow\">simpleimputer-1</label><div class=\"sk-toggleable__content\"><pre>&lt;sklearn.compose._column_transformer.make_column_selector object at 0x7f05998f6f10&gt;</pre></div></div></div><div class=\"sk-serial\"><div class=\"sk-item\"><div class=\"sk-estimator sk-toggleable\"><input class=\"sk-toggleable__control sk-hidden--visually\" id=\"31ef5445-1b2b-4454-a924-41338e65c6fc\" type=\"checkbox\" ><label for=\"31ef5445-1b2b-4454-a924-41338e65c6fc\" class=\"sk-toggleable__label sk-toggleable__label-arrow\">SimpleImputer</label><div class=\"sk-toggleable__content\"><pre>SimpleImputer()</pre></div></div></div></div></div></div><div class=\"sk-parallel-item\"><div class=\"sk-item\"><div class=\"sk-label-container\"><div class=\"sk-label sk-toggleable\"><input class=\"sk-toggleable__control sk-hidden--visually\" id=\"49c824bc-6a87-41d4-ba79-b0379417388d\" type=\"checkbox\" ><label for=\"49c824bc-6a87-41d4-ba79-b0379417388d\" class=\"sk-toggleable__label sk-toggleable__label-arrow\">simpleimputer-2</label><div class=\"sk-toggleable__content\"><pre>&lt;sklearn.compose._column_transformer.make_column_selector object at 0x7f05998f6670&gt;</pre></div></div></div><div class=\"sk-serial\"><div class=\"sk-item\"><div class=\"sk-estimator sk-toggleable\"><input class=\"sk-toggleable__control sk-hidden--visually\" id=\"ed7d2269-d814-42fe-9113-7843644d7cc8\" type=\"checkbox\" ><label for=\"ed7d2269-d814-42fe-9113-7843644d7cc8\" class=\"sk-toggleable__label sk-toggleable__label-arrow\">SimpleImputer</label><div class=\"sk-toggleable__content\"><pre>SimpleImputer(strategy=&#x27;most_frequent&#x27;)</pre></div></div></div></div></div></div></div></div></div></div>"
            ]
          },
          "metadata": {},
          "execution_count": 40
        }
      ],
      "source": [
        "#create tuples\n",
        "num_tuple = (mean_imputer,num_selector)\n",
        "cat_tuple = (freq_imputer, cat_selector)\n",
        "\n",
        "# instantiate ColumnTransformer\n",
        "preprocessor = make_column_transformer(num_tuple,cat_tuple)\n",
        "preprocessor"
      ]
    },
    {
      "cell_type": "code",
      "execution_count": 41,
      "metadata": {
        "colab": {
          "base_uri": "https://localhost:8080/"
        },
        "id": "c-n6qNTVsagh",
        "outputId": "1c3a2b4f-54d7-4b4f-d6fe-33b0f52a39c3"
      },
      "outputs": [
        {
          "output_type": "execute_result",
          "data": {
            "text/plain": [
              "array([[256.4646],\n",
              "       [179.766 ],\n",
              "       [157.2946],\n",
              "       ...,\n",
              "       [237.359 ],\n",
              "       [117.9466],\n",
              "       [ 95.741 ]])"
            ]
          },
          "metadata": {},
          "execution_count": 41
        }
      ],
      "source": [
        "# fit ColumnTransformer on the training data\n",
        "preprocessor.fit(X_train)\n",
        "# transform both the training and testing data\n",
        "X_train_processed = preprocessor.transform(X_train)\n",
        "X_test_processed = preprocessor.transform(X_test)\n",
        "\n",
        "X_train_processed\n",
        "                                        "
      ]
    },
    {
      "cell_type": "markdown",
      "metadata": {
        "id": "MGIG_sRRvpdH"
      },
      "source": [
        "## **Data Modeling**"
      ]
    },
    {
      "cell_type": "markdown",
      "metadata": {
        "id": "cpnpHJacvtzP"
      },
      "source": [
        "### **Baseline Model**"
      ]
    },
    {
      "cell_type": "code",
      "execution_count": null,
      "metadata": {
        "colab": {
          "base_uri": "https://localhost:8080/",
          "height": 192
        },
        "id": "EX6HLqgUvxkd",
        "outputId": "911b1038-837b-453c-caa5-b3cd61ce5fc0"
      },
      "outputs": [
        {
          "data": {
            "text/html": [
              "<style>#sk-7b0ae533-e426-4c98-a5e7-7e1228d4e5ec {color: black;background-color: white;}#sk-7b0ae533-e426-4c98-a5e7-7e1228d4e5ec pre{padding: 0;}#sk-7b0ae533-e426-4c98-a5e7-7e1228d4e5ec div.sk-toggleable {background-color: white;}#sk-7b0ae533-e426-4c98-a5e7-7e1228d4e5ec label.sk-toggleable__label {cursor: pointer;display: block;width: 100%;margin-bottom: 0;padding: 0.3em;box-sizing: border-box;text-align: center;}#sk-7b0ae533-e426-4c98-a5e7-7e1228d4e5ec label.sk-toggleable__label-arrow:before {content: \"▸\";float: left;margin-right: 0.25em;color: #696969;}#sk-7b0ae533-e426-4c98-a5e7-7e1228d4e5ec label.sk-toggleable__label-arrow:hover:before {color: black;}#sk-7b0ae533-e426-4c98-a5e7-7e1228d4e5ec div.sk-estimator:hover label.sk-toggleable__label-arrow:before {color: black;}#sk-7b0ae533-e426-4c98-a5e7-7e1228d4e5ec div.sk-toggleable__content {max-height: 0;max-width: 0;overflow: hidden;text-align: left;background-color: #f0f8ff;}#sk-7b0ae533-e426-4c98-a5e7-7e1228d4e5ec div.sk-toggleable__content pre {margin: 0.2em;color: black;border-radius: 0.25em;background-color: #f0f8ff;}#sk-7b0ae533-e426-4c98-a5e7-7e1228d4e5ec input.sk-toggleable__control:checked~div.sk-toggleable__content {max-height: 200px;max-width: 100%;overflow: auto;}#sk-7b0ae533-e426-4c98-a5e7-7e1228d4e5ec input.sk-toggleable__control:checked~label.sk-toggleable__label-arrow:before {content: \"▾\";}#sk-7b0ae533-e426-4c98-a5e7-7e1228d4e5ec div.sk-estimator input.sk-toggleable__control:checked~label.sk-toggleable__label {background-color: #d4ebff;}#sk-7b0ae533-e426-4c98-a5e7-7e1228d4e5ec div.sk-label input.sk-toggleable__control:checked~label.sk-toggleable__label {background-color: #d4ebff;}#sk-7b0ae533-e426-4c98-a5e7-7e1228d4e5ec input.sk-hidden--visually {border: 0;clip: rect(1px 1px 1px 1px);clip: rect(1px, 1px, 1px, 1px);height: 1px;margin: -1px;overflow: hidden;padding: 0;position: absolute;width: 1px;}#sk-7b0ae533-e426-4c98-a5e7-7e1228d4e5ec div.sk-estimator {font-family: monospace;background-color: #f0f8ff;border: 1px dotted black;border-radius: 0.25em;box-sizing: border-box;margin-bottom: 0.5em;}#sk-7b0ae533-e426-4c98-a5e7-7e1228d4e5ec div.sk-estimator:hover {background-color: #d4ebff;}#sk-7b0ae533-e426-4c98-a5e7-7e1228d4e5ec div.sk-parallel-item::after {content: \"\";width: 100%;border-bottom: 1px solid gray;flex-grow: 1;}#sk-7b0ae533-e426-4c98-a5e7-7e1228d4e5ec div.sk-label:hover label.sk-toggleable__label {background-color: #d4ebff;}#sk-7b0ae533-e426-4c98-a5e7-7e1228d4e5ec div.sk-serial::before {content: \"\";position: absolute;border-left: 1px solid gray;box-sizing: border-box;top: 2em;bottom: 0;left: 50%;}#sk-7b0ae533-e426-4c98-a5e7-7e1228d4e5ec div.sk-serial {display: flex;flex-direction: column;align-items: center;background-color: white;padding-right: 0.2em;padding-left: 0.2em;}#sk-7b0ae533-e426-4c98-a5e7-7e1228d4e5ec div.sk-item {z-index: 1;}#sk-7b0ae533-e426-4c98-a5e7-7e1228d4e5ec div.sk-parallel {display: flex;align-items: stretch;justify-content: center;background-color: white;}#sk-7b0ae533-e426-4c98-a5e7-7e1228d4e5ec div.sk-parallel::before {content: \"\";position: absolute;border-left: 1px solid gray;box-sizing: border-box;top: 2em;bottom: 0;left: 50%;}#sk-7b0ae533-e426-4c98-a5e7-7e1228d4e5ec div.sk-parallel-item {display: flex;flex-direction: column;position: relative;background-color: white;}#sk-7b0ae533-e426-4c98-a5e7-7e1228d4e5ec div.sk-parallel-item:first-child::after {align-self: flex-end;width: 50%;}#sk-7b0ae533-e426-4c98-a5e7-7e1228d4e5ec div.sk-parallel-item:last-child::after {align-self: flex-start;width: 50%;}#sk-7b0ae533-e426-4c98-a5e7-7e1228d4e5ec div.sk-parallel-item:only-child::after {width: 0;}#sk-7b0ae533-e426-4c98-a5e7-7e1228d4e5ec div.sk-dashed-wrapped {border: 1px dashed gray;margin: 0 0.4em 0.5em 0.4em;box-sizing: border-box;padding-bottom: 0.4em;background-color: white;position: relative;}#sk-7b0ae533-e426-4c98-a5e7-7e1228d4e5ec div.sk-label label {font-family: monospace;font-weight: bold;background-color: white;display: inline-block;line-height: 1.2em;}#sk-7b0ae533-e426-4c98-a5e7-7e1228d4e5ec div.sk-label-container {position: relative;z-index: 2;text-align: center;}#sk-7b0ae533-e426-4c98-a5e7-7e1228d4e5ec div.sk-container {/* jupyter's `normalize.less` sets `[hidden] { display: none; }` but bootstrap.min.css set `[hidden] { display: none !important; }` so we also need the `!important` here to be able to override the default hidden behavior on the sphinx rendered scikit-learn.org. See: https://github.com/scikit-learn/scikit-learn/issues/21755 */display: inline-block !important;position: relative;}#sk-7b0ae533-e426-4c98-a5e7-7e1228d4e5ec div.sk-text-repr-fallback {display: none;}</style><div id=\"sk-7b0ae533-e426-4c98-a5e7-7e1228d4e5ec\" class=\"sk-top-container\"><div class=\"sk-text-repr-fallback\"><pre>Pipeline(steps=[(&#x27;columntransformer&#x27;,\n",
              "                 ColumnTransformer(transformers=[(&#x27;simpleimputer-1&#x27;,\n",
              "                                                  SimpleImputer(),\n",
              "                                                  &lt;sklearn.compose._column_transformer.make_column_selector object at 0x7f6b523dcc10&gt;),\n",
              "                                                 (&#x27;simpleimputer-2&#x27;,\n",
              "                                                  SimpleImputer(strategy=&#x27;most_frequent&#x27;),\n",
              "                                                  &lt;sklearn.compose._column_transformer.make_column_selector object at 0x7f6b523dcc70&gt;)])),\n",
              "                (&#x27;dummyregressor&#x27;, DummyRegressor())])</pre><b>Please rerun this cell to show the HTML repr or trust the notebook.</b></div><div class=\"sk-container\" hidden><div class=\"sk-item sk-dashed-wrapped\"><div class=\"sk-label-container\"><div class=\"sk-label sk-toggleable\"><input class=\"sk-toggleable__control sk-hidden--visually\" id=\"dfd19054-5090-49fa-acf7-5610c5a0e66b\" type=\"checkbox\" ><label for=\"dfd19054-5090-49fa-acf7-5610c5a0e66b\" class=\"sk-toggleable__label sk-toggleable__label-arrow\">Pipeline</label><div class=\"sk-toggleable__content\"><pre>Pipeline(steps=[(&#x27;columntransformer&#x27;,\n",
              "                 ColumnTransformer(transformers=[(&#x27;simpleimputer-1&#x27;,\n",
              "                                                  SimpleImputer(),\n",
              "                                                  &lt;sklearn.compose._column_transformer.make_column_selector object at 0x7f6b523dcc10&gt;),\n",
              "                                                 (&#x27;simpleimputer-2&#x27;,\n",
              "                                                  SimpleImputer(strategy=&#x27;most_frequent&#x27;),\n",
              "                                                  &lt;sklearn.compose._column_transformer.make_column_selector object at 0x7f6b523dcc70&gt;)])),\n",
              "                (&#x27;dummyregressor&#x27;, DummyRegressor())])</pre></div></div></div><div class=\"sk-serial\"><div class=\"sk-item sk-dashed-wrapped\"><div class=\"sk-label-container\"><div class=\"sk-label sk-toggleable\"><input class=\"sk-toggleable__control sk-hidden--visually\" id=\"2ed51c28-d45e-46fb-92a8-a0babbb2c9d0\" type=\"checkbox\" ><label for=\"2ed51c28-d45e-46fb-92a8-a0babbb2c9d0\" class=\"sk-toggleable__label sk-toggleable__label-arrow\">columntransformer: ColumnTransformer</label><div class=\"sk-toggleable__content\"><pre>ColumnTransformer(transformers=[(&#x27;simpleimputer-1&#x27;, SimpleImputer(),\n",
              "                                 &lt;sklearn.compose._column_transformer.make_column_selector object at 0x7f6b523dcc10&gt;),\n",
              "                                (&#x27;simpleimputer-2&#x27;,\n",
              "                                 SimpleImputer(strategy=&#x27;most_frequent&#x27;),\n",
              "                                 &lt;sklearn.compose._column_transformer.make_column_selector object at 0x7f6b523dcc70&gt;)])</pre></div></div></div><div class=\"sk-parallel\"><div class=\"sk-parallel-item\"><div class=\"sk-item\"><div class=\"sk-label-container\"><div class=\"sk-label sk-toggleable\"><input class=\"sk-toggleable__control sk-hidden--visually\" id=\"014f04b1-4f50-4fca-990a-518aa0b4f87c\" type=\"checkbox\" ><label for=\"014f04b1-4f50-4fca-990a-518aa0b4f87c\" class=\"sk-toggleable__label sk-toggleable__label-arrow\">simpleimputer-1</label><div class=\"sk-toggleable__content\"><pre>&lt;sklearn.compose._column_transformer.make_column_selector object at 0x7f6b523dcc10&gt;</pre></div></div></div><div class=\"sk-serial\"><div class=\"sk-item\"><div class=\"sk-estimator sk-toggleable\"><input class=\"sk-toggleable__control sk-hidden--visually\" id=\"6c5c2639-e1d9-4cf8-a806-83e3b0c20d2f\" type=\"checkbox\" ><label for=\"6c5c2639-e1d9-4cf8-a806-83e3b0c20d2f\" class=\"sk-toggleable__label sk-toggleable__label-arrow\">SimpleImputer</label><div class=\"sk-toggleable__content\"><pre>SimpleImputer()</pre></div></div></div></div></div></div><div class=\"sk-parallel-item\"><div class=\"sk-item\"><div class=\"sk-label-container\"><div class=\"sk-label sk-toggleable\"><input class=\"sk-toggleable__control sk-hidden--visually\" id=\"0c05e079-47c5-4338-bc98-4fa0254a5389\" type=\"checkbox\" ><label for=\"0c05e079-47c5-4338-bc98-4fa0254a5389\" class=\"sk-toggleable__label sk-toggleable__label-arrow\">simpleimputer-2</label><div class=\"sk-toggleable__content\"><pre>&lt;sklearn.compose._column_transformer.make_column_selector object at 0x7f6b523dcc70&gt;</pre></div></div></div><div class=\"sk-serial\"><div class=\"sk-item\"><div class=\"sk-estimator sk-toggleable\"><input class=\"sk-toggleable__control sk-hidden--visually\" id=\"4743babc-0ee4-4311-adf5-22a2db5b7751\" type=\"checkbox\" ><label for=\"4743babc-0ee4-4311-adf5-22a2db5b7751\" class=\"sk-toggleable__label sk-toggleable__label-arrow\">SimpleImputer</label><div class=\"sk-toggleable__content\"><pre>SimpleImputer(strategy=&#x27;most_frequent&#x27;)</pre></div></div></div></div></div></div></div></div><div class=\"sk-item\"><div class=\"sk-estimator sk-toggleable\"><input class=\"sk-toggleable__control sk-hidden--visually\" id=\"7e0554a9-5deb-4fa8-b4f3-39ec36c9e166\" type=\"checkbox\" ><label for=\"7e0554a9-5deb-4fa8-b4f3-39ec36c9e166\" class=\"sk-toggleable__label sk-toggleable__label-arrow\">DummyRegressor</label><div class=\"sk-toggleable__content\"><pre>DummyRegressor()</pre></div></div></div></div></div></div></div>"
            ],
            "text/plain": [
              "Pipeline(steps=[('columntransformer',\n",
              "                 ColumnTransformer(transformers=[('simpleimputer-1',\n",
              "                                                  SimpleImputer(),\n",
              "                                                  <sklearn.compose._column_transformer.make_column_selector object at 0x7f6b523dcc10>),\n",
              "                                                 ('simpleimputer-2',\n",
              "                                                  SimpleImputer(strategy='most_frequent'),\n",
              "                                                  <sklearn.compose._column_transformer.make_column_selector object at 0x7f6b523dcc70>)])),\n",
              "                ('dummyregressor', DummyRegressor())])"
            ]
          },
          "execution_count": 20,
          "metadata": {},
          "output_type": "execute_result"
        }
      ],
      "source": [
        "# creating an instance of the model\n",
        "dummy = DummyRegressor(strategy='mean')\n",
        "\n",
        "# creating a model pipeline\n",
        "dummy_pipe = make_pipeline(preprocessor, dummy)\n",
        "\n",
        "# fitting the model\n",
        "dummy_pipe.fit(X_train,y_train)"
      ]
    },
    {
      "cell_type": "markdown",
      "metadata": {
        "id": "fuzNat-hw0cH"
      },
      "source": [
        "##**Metrics**"
      ]
    },
    {
      "cell_type": "code",
      "execution_count": null,
      "metadata": {
        "colab": {
          "base_uri": "https://localhost:8080/"
        },
        "id": "Y-9zK4NwxRSO",
        "outputId": "2adac001-19bb-47fe-f5f1-5bd143a53c42"
      },
      "outputs": [
        {
          "name": "stdout",
          "output_type": "stream",
          "text": [
            "Dummy Model Train Scores\n",
            "MAE: 1,360.2184 \n",
            "MSE: 2,959,455.7045 \n",
            "RMSE: 1,720.3069 \n",
            "R2: 0.0000\n",
            "\n",
            "Dummy Model Test Scores\n",
            "MAE: 1,326.1210 \n",
            "MSE: 2,772,144.4627 \n",
            "RMSE: 1,664.9758 \n",
            "R2: -0.0048\n",
            "\n"
          ]
        }
      ],
      "source": [
        "# Displaying model performance metrics using a function\n",
        "evaluation_model(pipe=dummy_pipe, model_name='Dummy Model', x_train=X_train, x_test=X_test)"
      ]
    },
    {
      "cell_type": "markdown",
      "metadata": {
        "id": "qI5N07KpkGKb"
      },
      "source": [
        "##**Model 1: Building Linear Regression Model**\n"
      ]
    },
    {
      "cell_type": "code",
      "execution_count": null,
      "metadata": {
        "colab": {
          "base_uri": "https://localhost:8080/",
          "height": 192
        },
        "id": "y9D3Qz_GzXNW",
        "outputId": "b9280dc7-1733-4dc3-f39f-6e04efa4bfe2"
      },
      "outputs": [
        {
          "data": {
            "text/html": [
              "<style>#sk-f7bbee33-e165-4dac-a6a6-7fb9b017da44 {color: black;background-color: white;}#sk-f7bbee33-e165-4dac-a6a6-7fb9b017da44 pre{padding: 0;}#sk-f7bbee33-e165-4dac-a6a6-7fb9b017da44 div.sk-toggleable {background-color: white;}#sk-f7bbee33-e165-4dac-a6a6-7fb9b017da44 label.sk-toggleable__label {cursor: pointer;display: block;width: 100%;margin-bottom: 0;padding: 0.3em;box-sizing: border-box;text-align: center;}#sk-f7bbee33-e165-4dac-a6a6-7fb9b017da44 label.sk-toggleable__label-arrow:before {content: \"▸\";float: left;margin-right: 0.25em;color: #696969;}#sk-f7bbee33-e165-4dac-a6a6-7fb9b017da44 label.sk-toggleable__label-arrow:hover:before {color: black;}#sk-f7bbee33-e165-4dac-a6a6-7fb9b017da44 div.sk-estimator:hover label.sk-toggleable__label-arrow:before {color: black;}#sk-f7bbee33-e165-4dac-a6a6-7fb9b017da44 div.sk-toggleable__content {max-height: 0;max-width: 0;overflow: hidden;text-align: left;background-color: #f0f8ff;}#sk-f7bbee33-e165-4dac-a6a6-7fb9b017da44 div.sk-toggleable__content pre {margin: 0.2em;color: black;border-radius: 0.25em;background-color: #f0f8ff;}#sk-f7bbee33-e165-4dac-a6a6-7fb9b017da44 input.sk-toggleable__control:checked~div.sk-toggleable__content {max-height: 200px;max-width: 100%;overflow: auto;}#sk-f7bbee33-e165-4dac-a6a6-7fb9b017da44 input.sk-toggleable__control:checked~label.sk-toggleable__label-arrow:before {content: \"▾\";}#sk-f7bbee33-e165-4dac-a6a6-7fb9b017da44 div.sk-estimator input.sk-toggleable__control:checked~label.sk-toggleable__label {background-color: #d4ebff;}#sk-f7bbee33-e165-4dac-a6a6-7fb9b017da44 div.sk-label input.sk-toggleable__control:checked~label.sk-toggleable__label {background-color: #d4ebff;}#sk-f7bbee33-e165-4dac-a6a6-7fb9b017da44 input.sk-hidden--visually {border: 0;clip: rect(1px 1px 1px 1px);clip: rect(1px, 1px, 1px, 1px);height: 1px;margin: -1px;overflow: hidden;padding: 0;position: absolute;width: 1px;}#sk-f7bbee33-e165-4dac-a6a6-7fb9b017da44 div.sk-estimator {font-family: monospace;background-color: #f0f8ff;border: 1px dotted black;border-radius: 0.25em;box-sizing: border-box;margin-bottom: 0.5em;}#sk-f7bbee33-e165-4dac-a6a6-7fb9b017da44 div.sk-estimator:hover {background-color: #d4ebff;}#sk-f7bbee33-e165-4dac-a6a6-7fb9b017da44 div.sk-parallel-item::after {content: \"\";width: 100%;border-bottom: 1px solid gray;flex-grow: 1;}#sk-f7bbee33-e165-4dac-a6a6-7fb9b017da44 div.sk-label:hover label.sk-toggleable__label {background-color: #d4ebff;}#sk-f7bbee33-e165-4dac-a6a6-7fb9b017da44 div.sk-serial::before {content: \"\";position: absolute;border-left: 1px solid gray;box-sizing: border-box;top: 2em;bottom: 0;left: 50%;}#sk-f7bbee33-e165-4dac-a6a6-7fb9b017da44 div.sk-serial {display: flex;flex-direction: column;align-items: center;background-color: white;padding-right: 0.2em;padding-left: 0.2em;}#sk-f7bbee33-e165-4dac-a6a6-7fb9b017da44 div.sk-item {z-index: 1;}#sk-f7bbee33-e165-4dac-a6a6-7fb9b017da44 div.sk-parallel {display: flex;align-items: stretch;justify-content: center;background-color: white;}#sk-f7bbee33-e165-4dac-a6a6-7fb9b017da44 div.sk-parallel::before {content: \"\";position: absolute;border-left: 1px solid gray;box-sizing: border-box;top: 2em;bottom: 0;left: 50%;}#sk-f7bbee33-e165-4dac-a6a6-7fb9b017da44 div.sk-parallel-item {display: flex;flex-direction: column;position: relative;background-color: white;}#sk-f7bbee33-e165-4dac-a6a6-7fb9b017da44 div.sk-parallel-item:first-child::after {align-self: flex-end;width: 50%;}#sk-f7bbee33-e165-4dac-a6a6-7fb9b017da44 div.sk-parallel-item:last-child::after {align-self: flex-start;width: 50%;}#sk-f7bbee33-e165-4dac-a6a6-7fb9b017da44 div.sk-parallel-item:only-child::after {width: 0;}#sk-f7bbee33-e165-4dac-a6a6-7fb9b017da44 div.sk-dashed-wrapped {border: 1px dashed gray;margin: 0 0.4em 0.5em 0.4em;box-sizing: border-box;padding-bottom: 0.4em;background-color: white;position: relative;}#sk-f7bbee33-e165-4dac-a6a6-7fb9b017da44 div.sk-label label {font-family: monospace;font-weight: bold;background-color: white;display: inline-block;line-height: 1.2em;}#sk-f7bbee33-e165-4dac-a6a6-7fb9b017da44 div.sk-label-container {position: relative;z-index: 2;text-align: center;}#sk-f7bbee33-e165-4dac-a6a6-7fb9b017da44 div.sk-container {/* jupyter's `normalize.less` sets `[hidden] { display: none; }` but bootstrap.min.css set `[hidden] { display: none !important; }` so we also need the `!important` here to be able to override the default hidden behavior on the sphinx rendered scikit-learn.org. See: https://github.com/scikit-learn/scikit-learn/issues/21755 */display: inline-block !important;position: relative;}#sk-f7bbee33-e165-4dac-a6a6-7fb9b017da44 div.sk-text-repr-fallback {display: none;}</style><div id=\"sk-f7bbee33-e165-4dac-a6a6-7fb9b017da44\" class=\"sk-top-container\"><div class=\"sk-text-repr-fallback\"><pre>Pipeline(steps=[(&#x27;columntransformer&#x27;,\n",
              "                 ColumnTransformer(transformers=[(&#x27;simpleimputer-1&#x27;,\n",
              "                                                  SimpleImputer(),\n",
              "                                                  &lt;sklearn.compose._column_transformer.make_column_selector object at 0x7f6b523dcc10&gt;),\n",
              "                                                 (&#x27;simpleimputer-2&#x27;,\n",
              "                                                  SimpleImputer(strategy=&#x27;most_frequent&#x27;),\n",
              "                                                  &lt;sklearn.compose._column_transformer.make_column_selector object at 0x7f6b523dcc70&gt;)])),\n",
              "                (&#x27;linearregression&#x27;, LinearRegression())])</pre><b>Please rerun this cell to show the HTML repr or trust the notebook.</b></div><div class=\"sk-container\" hidden><div class=\"sk-item sk-dashed-wrapped\"><div class=\"sk-label-container\"><div class=\"sk-label sk-toggleable\"><input class=\"sk-toggleable__control sk-hidden--visually\" id=\"b732a7d4-342d-409a-b3e1-aec040c32afb\" type=\"checkbox\" ><label for=\"b732a7d4-342d-409a-b3e1-aec040c32afb\" class=\"sk-toggleable__label sk-toggleable__label-arrow\">Pipeline</label><div class=\"sk-toggleable__content\"><pre>Pipeline(steps=[(&#x27;columntransformer&#x27;,\n",
              "                 ColumnTransformer(transformers=[(&#x27;simpleimputer-1&#x27;,\n",
              "                                                  SimpleImputer(),\n",
              "                                                  &lt;sklearn.compose._column_transformer.make_column_selector object at 0x7f6b523dcc10&gt;),\n",
              "                                                 (&#x27;simpleimputer-2&#x27;,\n",
              "                                                  SimpleImputer(strategy=&#x27;most_frequent&#x27;),\n",
              "                                                  &lt;sklearn.compose._column_transformer.make_column_selector object at 0x7f6b523dcc70&gt;)])),\n",
              "                (&#x27;linearregression&#x27;, LinearRegression())])</pre></div></div></div><div class=\"sk-serial\"><div class=\"sk-item sk-dashed-wrapped\"><div class=\"sk-label-container\"><div class=\"sk-label sk-toggleable\"><input class=\"sk-toggleable__control sk-hidden--visually\" id=\"9cc1bf58-6f33-47f8-a68f-9a0f27589c1b\" type=\"checkbox\" ><label for=\"9cc1bf58-6f33-47f8-a68f-9a0f27589c1b\" class=\"sk-toggleable__label sk-toggleable__label-arrow\">columntransformer: ColumnTransformer</label><div class=\"sk-toggleable__content\"><pre>ColumnTransformer(transformers=[(&#x27;simpleimputer-1&#x27;, SimpleImputer(),\n",
              "                                 &lt;sklearn.compose._column_transformer.make_column_selector object at 0x7f6b523dcc10&gt;),\n",
              "                                (&#x27;simpleimputer-2&#x27;,\n",
              "                                 SimpleImputer(strategy=&#x27;most_frequent&#x27;),\n",
              "                                 &lt;sklearn.compose._column_transformer.make_column_selector object at 0x7f6b523dcc70&gt;)])</pre></div></div></div><div class=\"sk-parallel\"><div class=\"sk-parallel-item\"><div class=\"sk-item\"><div class=\"sk-label-container\"><div class=\"sk-label sk-toggleable\"><input class=\"sk-toggleable__control sk-hidden--visually\" id=\"6c64e55d-21d7-4e56-9f29-f85c01e97394\" type=\"checkbox\" ><label for=\"6c64e55d-21d7-4e56-9f29-f85c01e97394\" class=\"sk-toggleable__label sk-toggleable__label-arrow\">simpleimputer-1</label><div class=\"sk-toggleable__content\"><pre>&lt;sklearn.compose._column_transformer.make_column_selector object at 0x7f6b523dcc10&gt;</pre></div></div></div><div class=\"sk-serial\"><div class=\"sk-item\"><div class=\"sk-estimator sk-toggleable\"><input class=\"sk-toggleable__control sk-hidden--visually\" id=\"dfcd5f30-5da2-4fd1-97a0-7bf1932eed5d\" type=\"checkbox\" ><label for=\"dfcd5f30-5da2-4fd1-97a0-7bf1932eed5d\" class=\"sk-toggleable__label sk-toggleable__label-arrow\">SimpleImputer</label><div class=\"sk-toggleable__content\"><pre>SimpleImputer()</pre></div></div></div></div></div></div><div class=\"sk-parallel-item\"><div class=\"sk-item\"><div class=\"sk-label-container\"><div class=\"sk-label sk-toggleable\"><input class=\"sk-toggleable__control sk-hidden--visually\" id=\"79b22d57-b9da-4b88-9862-08c7e891a79e\" type=\"checkbox\" ><label for=\"79b22d57-b9da-4b88-9862-08c7e891a79e\" class=\"sk-toggleable__label sk-toggleable__label-arrow\">simpleimputer-2</label><div class=\"sk-toggleable__content\"><pre>&lt;sklearn.compose._column_transformer.make_column_selector object at 0x7f6b523dcc70&gt;</pre></div></div></div><div class=\"sk-serial\"><div class=\"sk-item\"><div class=\"sk-estimator sk-toggleable\"><input class=\"sk-toggleable__control sk-hidden--visually\" id=\"8d5168f4-0f74-4726-bf8f-fb5b49a6f092\" type=\"checkbox\" ><label for=\"8d5168f4-0f74-4726-bf8f-fb5b49a6f092\" class=\"sk-toggleable__label sk-toggleable__label-arrow\">SimpleImputer</label><div class=\"sk-toggleable__content\"><pre>SimpleImputer(strategy=&#x27;most_frequent&#x27;)</pre></div></div></div></div></div></div></div></div><div class=\"sk-item\"><div class=\"sk-estimator sk-toggleable\"><input class=\"sk-toggleable__control sk-hidden--visually\" id=\"8fe03070-9956-4934-a127-4c4fd3bd5c12\" type=\"checkbox\" ><label for=\"8fe03070-9956-4934-a127-4c4fd3bd5c12\" class=\"sk-toggleable__label sk-toggleable__label-arrow\">LinearRegression</label><div class=\"sk-toggleable__content\"><pre>LinearRegression()</pre></div></div></div></div></div></div></div>"
            ],
            "text/plain": [
              "Pipeline(steps=[('columntransformer',\n",
              "                 ColumnTransformer(transformers=[('simpleimputer-1',\n",
              "                                                  SimpleImputer(),\n",
              "                                                  <sklearn.compose._column_transformer.make_column_selector object at 0x7f6b523dcc10>),\n",
              "                                                 ('simpleimputer-2',\n",
              "                                                  SimpleImputer(strategy='most_frequent'),\n",
              "                                                  <sklearn.compose._column_transformer.make_column_selector object at 0x7f6b523dcc70>)])),\n",
              "                ('linearregression', LinearRegression())])"
            ]
          },
          "execution_count": 22,
          "metadata": {},
          "output_type": "execute_result"
        }
      ],
      "source": [
        "# creating an instance of the model\n",
        "lin_reg = LinearRegression()\n",
        "\n",
        "# creating a model pipeline\n",
        "lin_reg_pipe = make_pipeline(preprocessor, lin_reg)\n",
        "\n",
        "# fitting the model\n",
        "lin_reg_pipe.fit(X_train,y_train)"
      ]
    },
    {
      "cell_type": "code",
      "execution_count": null,
      "metadata": {
        "colab": {
          "base_uri": "https://localhost:8080/"
        },
        "id": "QgSC_cIbzuRy",
        "outputId": "9b7dba67-caac-45c1-8145-6fd717d55393"
      },
      "outputs": [
        {
          "name": "stdout",
          "output_type": "stream",
          "text": [
            "Linear Regression Model Train Scores\n",
            "MAE: 1,038.3505 \n",
            "MSE: 1,997,551.6054 \n",
            "RMSE: 1,413.3477 \n",
            "R2: 0.3250\n",
            "\n",
            "Linear Regression Model Test Scores\n",
            "MAE: 1,004.1899 \n",
            "MSE: 1,873,063.7979 \n",
            "RMSE: 1,368.5992 \n",
            "R2: 0.3211\n",
            "\n"
          ]
        }
      ],
      "source": [
        "# displaying model performance metrics with a function\n",
        "evaluation_model(pipe=lin_reg_pipe, model_name='Linear Regression Model', x_train=X_train, x_test=X_test)"
      ]
    },
    {
      "cell_type": "code",
      "execution_count": null,
      "metadata": {
        "colab": {
          "base_uri": "https://localhost:8080/"
        },
        "id": "fvk9tsH8hdZz",
        "outputId": "abd4023f-28be-4742-9916-05f806018c9a"
      },
      "outputs": [
        {
          "data": {
            "text/plain": [
              "array([1372.64605243,  672.8177138 ,  637.03871145, ..., 3225.6437947 ,\n",
              "       1837.23631132, 2203.28001411])"
            ]
          },
          "execution_count": 24,
          "metadata": {},
          "output_type": "execute_result"
        }
      ],
      "source": [
        "predictions = lin_reg_pipe.predict(X_test)\n",
        "predictions"
      ]
    },
    {
      "cell_type": "code",
      "execution_count": null,
      "metadata": {
        "id": "C3irKlzS3sD5"
      },
      "outputs": [],
      "source": [
        "from sklearn.metrics import mean_absolute_error, mean_squared_error, r2_score"
      ]
    },
    {
      "cell_type": "code",
      "execution_count": null,
      "metadata": {
        "id": "7jhk1a3zA8oV"
      },
      "outputs": [],
      "source": [
        "# Create model pipeline\n",
        "train_pred = lin_reg_pipe.predict(X_train)\n",
        "test_pred = lin_reg_pipe.predict(X_test)"
      ]
    },
    {
      "cell_type": "markdown",
      "metadata": {
        "id": "QkDPX6QsQF_J"
      },
      "source": [
        "##**R-Squared**"
      ]
    },
    {
      "cell_type": "code",
      "execution_count": null,
      "metadata": {
        "colab": {
          "base_uri": "https://localhost:8080/"
        },
        "id": "FtWZFamK_oDS",
        "outputId": "d8415e5a-dd94-4a50-e931-af0a753a8bcb"
      },
      "outputs": [
        {
          "name": "stdout",
          "output_type": "stream",
          "text": [
            " Model Training R2: 0.32502736826006295\n",
            " Model Testing R2: 0.32230188174466606\n"
          ]
        }
      ],
      "source": [
        "# R^2 coefficient of determination\n",
        "\n",
        "train_r2 = np.corrcoef(y_train, train_pred)[0][1]**2\n",
        "test_r2 = np.corrcoef(y_test, test_pred)[0][1]**2\n",
        "\n",
        "print(f' Model Training R2: {train_r2}')\n",
        "print(f' Model Testing R2: {test_r2}')"
      ]
    },
    {
      "cell_type": "markdown",
      "metadata": {
        "id": "s5p6_HqxQLTf"
      },
      "source": [
        "##**Root Mean Squared Error**"
      ]
    },
    {
      "cell_type": "code",
      "execution_count": null,
      "metadata": {
        "colab": {
          "base_uri": "https://localhost:8080/"
        },
        "id": "A3xs6myLBeWX",
        "outputId": "75ec863e-3fcd-406e-803a-8366082c6ecb"
      },
      "outputs": [
        {
          "name": "stdout",
          "output_type": "stream",
          "text": [
            " Model Training RMSE: 1413.3476590712073\n",
            " Model Testing RMSE: 1368.5992101132697\n"
          ]
        }
      ],
      "source": [
        "# Measuring RMSE\n",
        "train_RMSE = np.sqrt(np.mean(np.abs(train_pred - y_train)**2))\n",
        "test_RMSE = np.sqrt(np.mean(np.abs(test_pred - y_test)**2))\n",
        "\n",
        "print(f' Model Training RMSE: {train_RMSE}')\n",
        "print(f' Model Testing RMSE: {test_RMSE}')"
      ]
    },
    {
      "cell_type": "code",
      "execution_count": null,
      "metadata": {
        "id": "oNcTpH8o8Im-"
      },
      "outputs": [],
      "source": [
        "from sklearn.preprocessing import StandardScaler\n",
        "scaler = StandardScaler()"
      ]
    },
    {
      "cell_type": "code",
      "execution_count": null,
      "metadata": {
        "id": "ALoDW64gj7O_"
      },
      "outputs": [],
      "source": [
        "# importing the linearregression library\n",
        "from sklearn.linear_model import LinearRegression\n",
        "reg = LinearRegression()"
      ]
    },
    {
      "cell_type": "code",
      "execution_count": null,
      "metadata": {
        "colab": {
          "base_uri": "https://localhost:8080/"
        },
        "id": "_48Q2IQUZQE3",
        "outputId": "29cc58c7-c185-40ba-ffd4-7742a9b0fb10"
      },
      "outputs": [
        {
          "data": {
            "text/plain": [
              "Low Fat    5517\n",
              "Regular    3006\n",
              "Name: Item_Fat_Content, dtype: int64"
            ]
          },
          "execution_count": 31,
          "metadata": {},
          "output_type": "execute_result"
        }
      ],
      "source": [
        "# making the Item Fat Content column more consistent\n",
        "df['Item_Fat_Content'].replace({'LF':'Low Fat', 'reg':'Regular', 'low fat':'Low Fat'}, inplace=True)\n",
        "df['Item_Fat_Content'].value_counts()"
      ]
    },
    {
      "cell_type": "markdown",
      "metadata": {
        "id": "YasfPNs2Bvb4"
      },
      "source": [
        "##**Regression Metric: Mean Squared Error**"
      ]
    },
    {
      "cell_type": "code",
      "execution_count": null,
      "metadata": {
        "colab": {
          "base_uri": "https://localhost:8080/"
        },
        "id": "T3Dd3Lz24_gS",
        "outputId": "bc00c766-da80-473c-937b-bf83405a76cd"
      },
      "outputs": [
        {
          "name": "stdout",
          "output_type": "stream",
          "text": [
            "Model Training: 1997551.6054020615\n",
            "Model Testing: 1873063.797922666\n"
          ]
        }
      ],
      "source": [
        "# calculating mse\n",
        "train_mse = mean_squared_error(y_train,train_pred)\n",
        "test_mse = mean_squared_error(y_test,test_pred)\n",
        "\n",
        "print(f'Model Training: {train_mse}')\n",
        "print(f'Model Testing: {test_mse}')"
      ]
    },
    {
      "cell_type": "markdown",
      "metadata": {
        "id": "t8G8D8ERe1rm"
      },
      "source": [
        "##**Metric for Linear Regression Model**\n",
        "- The MSE is more useful for the linear regression model, because it penalizes larger erros. The Model test results is lower than the train dataset, which means is better. "
      ]
    },
    {
      "cell_type": "markdown",
      "metadata": {
        "id": "HY6dJ2Gw5ed7"
      },
      "source": [
        "##**Model 2: Regression Tree Model**"
      ]
    },
    {
      "cell_type": "code",
      "execution_count": null,
      "metadata": {
        "id": "qN4_cf7Y5h2L"
      },
      "outputs": [],
      "source": [
        "from sklearn.tree import DecisionTreeRegressor\n",
        "\n",
        "dec_tree = DecisionTreeRegressor(random_state=42) # creates the regression tree model\n"
      ]
    },
    {
      "cell_type": "code",
      "execution_count": null,
      "metadata": {
        "colab": {
          "base_uri": "https://localhost:8080/",
          "height": 75
        },
        "id": "s7ZrMaLT6i_A",
        "outputId": "ab5084f6-2b64-4dc2-a1af-b53884d9aa43"
      },
      "outputs": [
        {
          "data": {
            "text/html": [
              "<style>#sk-65b49c8a-8728-4b44-a702-24a4b4bfa6a1 {color: black;background-color: white;}#sk-65b49c8a-8728-4b44-a702-24a4b4bfa6a1 pre{padding: 0;}#sk-65b49c8a-8728-4b44-a702-24a4b4bfa6a1 div.sk-toggleable {background-color: white;}#sk-65b49c8a-8728-4b44-a702-24a4b4bfa6a1 label.sk-toggleable__label {cursor: pointer;display: block;width: 100%;margin-bottom: 0;padding: 0.3em;box-sizing: border-box;text-align: center;}#sk-65b49c8a-8728-4b44-a702-24a4b4bfa6a1 label.sk-toggleable__label-arrow:before {content: \"▸\";float: left;margin-right: 0.25em;color: #696969;}#sk-65b49c8a-8728-4b44-a702-24a4b4bfa6a1 label.sk-toggleable__label-arrow:hover:before {color: black;}#sk-65b49c8a-8728-4b44-a702-24a4b4bfa6a1 div.sk-estimator:hover label.sk-toggleable__label-arrow:before {color: black;}#sk-65b49c8a-8728-4b44-a702-24a4b4bfa6a1 div.sk-toggleable__content {max-height: 0;max-width: 0;overflow: hidden;text-align: left;background-color: #f0f8ff;}#sk-65b49c8a-8728-4b44-a702-24a4b4bfa6a1 div.sk-toggleable__content pre {margin: 0.2em;color: black;border-radius: 0.25em;background-color: #f0f8ff;}#sk-65b49c8a-8728-4b44-a702-24a4b4bfa6a1 input.sk-toggleable__control:checked~div.sk-toggleable__content {max-height: 200px;max-width: 100%;overflow: auto;}#sk-65b49c8a-8728-4b44-a702-24a4b4bfa6a1 input.sk-toggleable__control:checked~label.sk-toggleable__label-arrow:before {content: \"▾\";}#sk-65b49c8a-8728-4b44-a702-24a4b4bfa6a1 div.sk-estimator input.sk-toggleable__control:checked~label.sk-toggleable__label {background-color: #d4ebff;}#sk-65b49c8a-8728-4b44-a702-24a4b4bfa6a1 div.sk-label input.sk-toggleable__control:checked~label.sk-toggleable__label {background-color: #d4ebff;}#sk-65b49c8a-8728-4b44-a702-24a4b4bfa6a1 input.sk-hidden--visually {border: 0;clip: rect(1px 1px 1px 1px);clip: rect(1px, 1px, 1px, 1px);height: 1px;margin: -1px;overflow: hidden;padding: 0;position: absolute;width: 1px;}#sk-65b49c8a-8728-4b44-a702-24a4b4bfa6a1 div.sk-estimator {font-family: monospace;background-color: #f0f8ff;border: 1px dotted black;border-radius: 0.25em;box-sizing: border-box;margin-bottom: 0.5em;}#sk-65b49c8a-8728-4b44-a702-24a4b4bfa6a1 div.sk-estimator:hover {background-color: #d4ebff;}#sk-65b49c8a-8728-4b44-a702-24a4b4bfa6a1 div.sk-parallel-item::after {content: \"\";width: 100%;border-bottom: 1px solid gray;flex-grow: 1;}#sk-65b49c8a-8728-4b44-a702-24a4b4bfa6a1 div.sk-label:hover label.sk-toggleable__label {background-color: #d4ebff;}#sk-65b49c8a-8728-4b44-a702-24a4b4bfa6a1 div.sk-serial::before {content: \"\";position: absolute;border-left: 1px solid gray;box-sizing: border-box;top: 2em;bottom: 0;left: 50%;}#sk-65b49c8a-8728-4b44-a702-24a4b4bfa6a1 div.sk-serial {display: flex;flex-direction: column;align-items: center;background-color: white;padding-right: 0.2em;padding-left: 0.2em;}#sk-65b49c8a-8728-4b44-a702-24a4b4bfa6a1 div.sk-item {z-index: 1;}#sk-65b49c8a-8728-4b44-a702-24a4b4bfa6a1 div.sk-parallel {display: flex;align-items: stretch;justify-content: center;background-color: white;}#sk-65b49c8a-8728-4b44-a702-24a4b4bfa6a1 div.sk-parallel::before {content: \"\";position: absolute;border-left: 1px solid gray;box-sizing: border-box;top: 2em;bottom: 0;left: 50%;}#sk-65b49c8a-8728-4b44-a702-24a4b4bfa6a1 div.sk-parallel-item {display: flex;flex-direction: column;position: relative;background-color: white;}#sk-65b49c8a-8728-4b44-a702-24a4b4bfa6a1 div.sk-parallel-item:first-child::after {align-self: flex-end;width: 50%;}#sk-65b49c8a-8728-4b44-a702-24a4b4bfa6a1 div.sk-parallel-item:last-child::after {align-self: flex-start;width: 50%;}#sk-65b49c8a-8728-4b44-a702-24a4b4bfa6a1 div.sk-parallel-item:only-child::after {width: 0;}#sk-65b49c8a-8728-4b44-a702-24a4b4bfa6a1 div.sk-dashed-wrapped {border: 1px dashed gray;margin: 0 0.4em 0.5em 0.4em;box-sizing: border-box;padding-bottom: 0.4em;background-color: white;position: relative;}#sk-65b49c8a-8728-4b44-a702-24a4b4bfa6a1 div.sk-label label {font-family: monospace;font-weight: bold;background-color: white;display: inline-block;line-height: 1.2em;}#sk-65b49c8a-8728-4b44-a702-24a4b4bfa6a1 div.sk-label-container {position: relative;z-index: 2;text-align: center;}#sk-65b49c8a-8728-4b44-a702-24a4b4bfa6a1 div.sk-container {/* jupyter's `normalize.less` sets `[hidden] { display: none; }` but bootstrap.min.css set `[hidden] { display: none !important; }` so we also need the `!important` here to be able to override the default hidden behavior on the sphinx rendered scikit-learn.org. See: https://github.com/scikit-learn/scikit-learn/issues/21755 */display: inline-block !important;position: relative;}#sk-65b49c8a-8728-4b44-a702-24a4b4bfa6a1 div.sk-text-repr-fallback {display: none;}</style><div id=\"sk-65b49c8a-8728-4b44-a702-24a4b4bfa6a1\" class=\"sk-top-container\"><div class=\"sk-text-repr-fallback\"><pre>DecisionTreeRegressor(random_state=42)</pre><b>Please rerun this cell to show the HTML repr or trust the notebook.</b></div><div class=\"sk-container\" hidden><div class=\"sk-item\"><div class=\"sk-estimator sk-toggleable\"><input class=\"sk-toggleable__control sk-hidden--visually\" id=\"5b211a4a-e898-4072-b973-962b679d5e7c\" type=\"checkbox\" checked><label for=\"5b211a4a-e898-4072-b973-962b679d5e7c\" class=\"sk-toggleable__label sk-toggleable__label-arrow\">DecisionTreeRegressor</label><div class=\"sk-toggleable__content\"><pre>DecisionTreeRegressor(random_state=42)</pre></div></div></div></div></div>"
            ],
            "text/plain": [
              "DecisionTreeRegressor(random_state=42)"
            ]
          },
          "execution_count": 34,
          "metadata": {},
          "output_type": "execute_result"
        }
      ],
      "source": [
        "dec_tree.fit(X_train, y_train) # figures out how it should make predictions in future data"
      ]
    },
    {
      "cell_type": "code",
      "execution_count": null,
      "metadata": {
        "id": "S9xprgLV6wDQ"
      },
      "outputs": [],
      "source": [
        "# predicting the target values\n",
        "train_preds = dec_tree.predict(X_train)\n",
        "test_preds = dec_tree.predict(X_test)\n",
        "\n"
      ]
    },
    {
      "cell_type": "code",
      "execution_count": null,
      "metadata": {
        "colab": {
          "base_uri": "https://localhost:8080/"
        },
        "id": "_C33Nha57UDZ",
        "outputId": "bc1c2384-a482-430e-f83f-d4fc957191d6"
      },
      "outputs": [
        {
          "name": "stdout",
          "output_type": "stream",
          "text": [
            "0.9770305627951709\n",
            "-0.1812493379076403\n"
          ]
        }
      ],
      "source": [
        "# evauluating the model\n",
        "train_score = dec_tree.score(X_train,y_train)\n",
        "test_score = dec_tree.score(X_test,y_test)\n",
        "\n",
        "print(train_score)\n",
        "print(test_score)"
      ]
    },
    {
      "cell_type": "markdown",
      "metadata": {
        "id": "m-uqj5aa8MDU"
      },
      "source": [
        "The result for the tree model shows that it is way overfitting.  I will go ahead and tune my model. "
      ]
    },
    {
      "cell_type": "code",
      "execution_count": null,
      "metadata": {
        "colab": {
          "base_uri": "https://localhost:8080/"
        },
        "id": "G16tvpQb8bun",
        "outputId": "d8aa2672-0105-40ab-c842-1439844e9758"
      },
      "outputs": [
        {
          "data": {
            "text/plain": [
              "{'ccp_alpha': 0.0,\n",
              " 'criterion': 'squared_error',\n",
              " 'max_depth': None,\n",
              " 'max_features': None,\n",
              " 'max_leaf_nodes': None,\n",
              " 'min_impurity_decrease': 0.0,\n",
              " 'min_samples_leaf': 1,\n",
              " 'min_samples_split': 2,\n",
              " 'min_weight_fraction_leaf': 0.0,\n",
              " 'random_state': 42,\n",
              " 'splitter': 'best'}"
            ]
          },
          "execution_count": 37,
          "metadata": {},
          "output_type": "execute_result"
        }
      ],
      "source": [
        "dec_tree.get_params()"
      ]
    },
    {
      "cell_type": "code",
      "execution_count": null,
      "metadata": {
        "colab": {
          "base_uri": "https://localhost:8080/"
        },
        "id": "HzL0hwlk8kTN",
        "outputId": "2f454adc-d0c6-4c52-d0df-24cb4bdc29b1"
      },
      "outputs": [
        {
          "data": {
            "text/plain": [
              "32"
            ]
          },
          "execution_count": 38,
          "metadata": {},
          "output_type": "execute_result"
        }
      ],
      "source": [
        "dec_tree.get_depth()"
      ]
    },
    {
      "cell_type": "code",
      "execution_count": null,
      "metadata": {
        "colab": {
          "base_uri": "https://localhost:8080/"
        },
        "id": "wQnNMVyt9635",
        "outputId": "d40e5736-6643-4d0f-bb9e-f0c647bf6737"
      },
      "outputs": [
        {
          "data": {
            "text/plain": [
              "6157"
            ]
          },
          "execution_count": 39,
          "metadata": {},
          "output_type": "execute_result"
        }
      ],
      "source": [
        "dec_tree.get_n_leaves()"
      ]
    },
    {
      "cell_type": "code",
      "execution_count": null,
      "metadata": {
        "colab": {
          "base_uri": "https://localhost:8080/"
        },
        "id": "J_L3ZtlPjW-Q",
        "outputId": "b78adffc-f626-4c68-8a07-e1b275c71943"
      },
      "outputs": [
        {
          "name": "stdout",
          "output_type": "stream",
          "text": [
            "0.4871112308669121\n",
            "0.335129178241777\n"
          ]
        }
      ],
      "source": [
        "# finding the right optimal max_depth. I will try different parameters on the max depth. I will set it to 8\n",
        "dec_tree_8 = DecisionTreeRegressor(max_depth=8, random_state=42)\n",
        "dec_tree_8.fit(X_train,y_train)\n",
        "train_8_score = dec_tree_8.score(X_train,y_train)\n",
        "test_8_score = dec_tree_8.score(X_test,y_test)\n",
        "print(train_8_score)\n",
        "print(test_8_score)"
      ]
    },
    {
      "cell_type": "code",
      "execution_count": null,
      "metadata": {
        "colab": {
          "base_uri": "https://localhost:8080/"
        },
        "id": "GUhPCrF7kOWS",
        "outputId": "d91108e4-2020-4fb3-82aa-eeca799fd4dc"
      },
      "outputs": [
        {
          "name": "stdout",
          "output_type": "stream",
          "text": [
            "0.7136821370142619\n",
            "0.08830647351694743\n"
          ]
        }
      ],
      "source": [
        "# finding the right optimal max_depth. I will try different parameters on the max depth. I will set it to 18\n",
        "dec_tree_14 = DecisionTreeRegressor(max_depth=14, random_state=42)\n",
        "dec_tree_14.fit(X_train,y_train)\n",
        "train_14_score = dec_tree_14.score(X_train,y_train)\n",
        "test_14_score = dec_tree_14.score(X_test,y_test)\n",
        "print(train_14_score)\n",
        "print(test_14_score)"
      ]
    },
    {
      "cell_type": "code",
      "execution_count": null,
      "metadata": {
        "id": "xAAYVB4n-F9W"
      },
      "outputs": [],
      "source": [
        "# List of values to try for max_depth:\n",
        "depths = list(range(2, 9)) # Will input every value between 2 and 28\n",
        "# Data frame to store the score for each value of max_depth:\n",
        "scores = pd.DataFrame(index=depths, columns=['Test Score','Train Score'])\n",
        "for depth in depths:\n",
        "    dec_tree = DecisionTreeRegressor(max_depth=depth, random_state=42)\n",
        "    dec_tree.fit(X_train, y_train)\n",
        "    train_score = dec_tree.score(X_train, y_train)\n",
        "    test_score = dec_tree.score(X_test, y_test)\n",
        "    scores.loc[depth, 'Train Score'] = train_score\n",
        "    scores.loc[depth, 'Test Score'] = test_score\n"
      ]
    },
    {
      "cell_type": "code",
      "execution_count": null,
      "metadata": {
        "colab": {
          "base_uri": "https://localhost:8080/",
          "height": 297
        },
        "id": "6Vob_WeU-Od9",
        "outputId": "73e2dd49-9460-4b8e-80ae-789ecefd2897"
      },
      "outputs": [
        {
          "data": {
            "text/plain": [
              "Text(0, 0.5, 'R2')"
            ]
          },
          "execution_count": 43,
          "metadata": {},
          "output_type": "execute_result"
        },
        {
          "data": {
            "image/png": "[encoded data removed]",
            "text/plain": [
              "<Figure size 432x288 with 1 Axes>"
            ]
          },
          "metadata": {},
          "output_type": "display_data"
        }
      ],
      "source": [
        "import matplotlib.pyplot as plt\n",
        "plt.plot(depths, scores['Test Score'])\n",
        "plt.xlabel('max_depth')\n",
        "plt.ylabel('R2')"
      ]
    },
    {
      "cell_type": "code",
      "execution_count": null,
      "metadata": {
        "colab": {
          "base_uri": "https://localhost:8080/",
          "height": 269
        },
        "id": "lgg-UinF-jJU",
        "outputId": "8d812bdf-5e41-43f1-ee0c-c84081501a61"
      },
      "outputs": [
        {
          "data": {
            "text/html": [
              "\n",
              "  <div id=\"df-df5c2275-a9f0-4bc2-94e6-33ea816de40f\">\n",
              "    <div class=\"colab-df-container\">\n",
              "      <div>\n",
              "<style scoped>\n",
              "    .dataframe tbody tr th:only-of-type {\n",
              "        vertical-align: middle;\n",
              "    }\n",
              "\n",
              "    .dataframe tbody tr th {\n",
              "        vertical-align: top;\n",
              "    }\n",
              "\n",
              "    .dataframe thead th {\n",
              "        text-align: right;\n",
              "    }\n",
              "</style>\n",
              "<table border=\"1\" class=\"dataframe\">\n",
              "  <thead>\n",
              "    <tr style=\"text-align: right;\">\n",
              "      <th></th>\n",
              "      <th>Test Score</th>\n",
              "      <th>Train Score</th>\n",
              "    </tr>\n",
              "  </thead>\n",
              "  <tbody>\n",
              "    <tr>\n",
              "      <th>6</th>\n",
              "      <td>0.392557</td>\n",
              "      <td>0.437989</td>\n",
              "    </tr>\n",
              "    <tr>\n",
              "      <th>5</th>\n",
              "      <td>0.371732</td>\n",
              "      <td>0.404251</td>\n",
              "    </tr>\n",
              "    <tr>\n",
              "      <th>7</th>\n",
              "      <td>0.366204</td>\n",
              "      <td>0.463358</td>\n",
              "    </tr>\n",
              "    <tr>\n",
              "      <th>8</th>\n",
              "      <td>0.335129</td>\n",
              "      <td>0.487111</td>\n",
              "    </tr>\n",
              "    <tr>\n",
              "      <th>4</th>\n",
              "      <td>0.333298</td>\n",
              "      <td>0.348056</td>\n",
              "    </tr>\n",
              "    <tr>\n",
              "      <th>3</th>\n",
              "      <td>0.315607</td>\n",
              "      <td>0.323975</td>\n",
              "    </tr>\n",
              "    <tr>\n",
              "      <th>2</th>\n",
              "      <td>0.306049</td>\n",
              "      <td>0.305669</td>\n",
              "    </tr>\n",
              "  </tbody>\n",
              "</table>\n",
              "</div>\n",
              "      <button class=\"colab-df-convert\" onclick=\"convertToInteractive('df-df5c2275-a9f0-4bc2-94e6-33ea816de40f')\"\n",
              "              title=\"Convert this dataframe to an interactive table.\"\n",
              "              style=\"display:none;\">\n",
              "        \n",
              "  <svg xmlns=\"http://www.w3.org/2000/svg\" height=\"24px\"viewBox=\"0 0 24 24\"\n",
              "       width=\"24px\">\n",
              "    <path d=\"M0 0h24v24H0V0z\" fill=\"none\"/>\n",
              "    <path d=\"M18.56 5.44l.94 2.06.94-2.06 2.06-.94-2.06-.94-.94-2.06-.94 2.06-2.06.94zm-11 1L8.5 8.5l.94-2.06 2.06-.94-2.06-.94L8.5 2.5l-.94 2.06-2.06.94zm10 10l.94 2.06.94-2.06 2.06-.94-2.06-.94-.94-2.06-.94 2.06-2.06.94z\"/><path d=\"M17.41 7.96l-1.37-1.37c-.4-.4-.92-.59-1.43-.59-.52 0-1.04.2-1.43.59L10.3 9.45l-7.72 7.72c-.78.78-.78 2.05 0 2.83L4 21.41c.39.39.9.59 1.41.59.51 0 1.02-.2 1.41-.59l7.78-7.78 2.81-2.81c.8-.78.8-2.07 0-2.86zM5.41 20L4 18.59l7.72-7.72 1.47 1.35L5.41 20z\"/>\n",
              "  </svg>\n",
              "      </button>\n",
              "      \n",
              "  <style>\n",
              "    .colab-df-container {\n",
              "      display:flex;\n",
              "      flex-wrap:wrap;\n",
              "      gap: 12px;\n",
              "    }\n",
              "\n",
              "    .colab-df-convert {\n",
              "      background-color: #E8F0FE;\n",
              "      border: none;\n",
              "      border-radius: 50%;\n",
              "      cursor: pointer;\n",
              "      display: none;\n",
              "      fill: #1967D2;\n",
              "      height: 32px;\n",
              "      padding: 0 0 0 0;\n",
              "      width: 32px;\n",
              "    }\n",
              "\n",
              "    .colab-df-convert:hover {\n",
              "      background-color: #E2EBFA;\n",
              "      box-shadow: 0px 1px 2px rgba(60, 64, 67, 0.3), 0px 1px 3px 1px rgba(60, 64, 67, 0.15);\n",
              "      fill: #174EA6;\n",
              "    }\n",
              "\n",
              "    [theme=dark] .colab-df-convert {\n",
              "      background-color: #3B4455;\n",
              "      fill: #D2E3FC;\n",
              "    }\n",
              "\n",
              "    [theme=dark] .colab-df-convert:hover {\n",
              "      background-color: #434B5C;\n",
              "      box-shadow: 0px 1px 3px 1px rgba(0, 0, 0, 0.15);\n",
              "      filter: drop-shadow(0px 1px 2px rgba(0, 0, 0, 0.3));\n",
              "      fill: #FFFFFF;\n",
              "    }\n",
              "  </style>\n",
              "\n",
              "      <script>\n",
              "        const buttonEl =\n",
              "          document.querySelector('#df-df5c2275-a9f0-4bc2-94e6-33ea816de40f button.colab-df-convert');\n",
              "        buttonEl.style.display =\n",
              "          google.colab.kernel.accessAllowed ? 'block' : 'none';\n",
              "\n",
              "        async function convertToInteractive(key) {\n",
              "          const element = document.querySelector('#df-df5c2275-a9f0-4bc2-94e6-33ea816de40f');\n",
              "          const dataTable =\n",
              "            await google.colab.kernel.invokeFunction('convertToInteractive',\n",
              "                                                     [key], {});\n",
              "          if (!dataTable) return;\n",
              "\n",
              "          const docLinkHtml = 'Like what you see? Visit the ' +\n",
              "            '<a target=\"_blank\" href=https://colab.research.google.com/notebooks/data_table.ipynb>data table notebook</a>'\n",
              "            + ' to learn more about interactive tables.';\n",
              "          element.innerHTML = '';\n",
              "          dataTable['output_type'] = 'display_data';\n",
              "          await google.colab.output.renderOutput(dataTable, element);\n",
              "          const docLink = document.createElement('div');\n",
              "          docLink.innerHTML = docLinkHtml;\n",
              "          element.appendChild(docLink);\n",
              "        }\n",
              "      </script>\n",
              "    </div>\n",
              "  </div>\n",
              "  "
            ],
            "text/plain": [
              "  Test Score Train Score\n",
              "6   0.392557    0.437989\n",
              "5   0.371732    0.404251\n",
              "7   0.366204    0.463358\n",
              "8   0.335129    0.487111\n",
              "4   0.333298    0.348056\n",
              "3   0.315607    0.323975\n",
              "2   0.306049    0.305669"
            ]
          },
          "execution_count": 44,
          "metadata": {},
          "output_type": "execute_result"
        }
      ],
      "source": [
        "sorted_scores = scores.sort_values(by='Test Score', ascending=False)\n",
        "sorted_scores.head(8)"
      ]
    },
    {
      "cell_type": "code",
      "execution_count": null,
      "metadata": {
        "colab": {
          "base_uri": "https://localhost:8080/"
        },
        "id": "pX2mmSEg-8B1",
        "outputId": "3d95e593-0c61-46e6-9300-2f8d52584973"
      },
      "outputs": [
        {
          "name": "stdout",
          "output_type": "stream",
          "text": [
            "0.4379894023439658\n",
            "0.39255745390098207\n"
          ]
        }
      ],
      "source": [
        "# Let's run the model with our optimized value for max_depth\n",
        "dec_tree_6 = DecisionTreeRegressor(max_depth = 6, random_state = 42)\n",
        "dec_tree_6.fit(X_train, y_train)\n",
        "train_6_score = dec_tree_6.score(X_train, y_train)\n",
        "test_6_score = dec_tree_6.score(X_test, y_test)\n",
        "print(train_6_score)\n",
        "print(test_6_score)\n"
      ]
    },
    {
      "cell_type": "markdown",
      "metadata": {
        "id": "KPvvykMx_Zb-"
      },
      "source": [
        "From the model we have built for the Tree model, the greatest value for max_depth is 6.  The training score is higher than the testing score.  "
      ]
    },
    {
      "cell_type": "markdown",
      "metadata": {
        "id": "PhIqxw2GBn2q"
      },
      "source": [
        "**R-Squared Regression Metric**\n",
        "\n",
        "The R2 metric shows that there is a 32% variance in the model. It is low R-Squared model. This trend indicates that the predictor variable still provides information about the response even though the data points are further away from each other.  From the regression tree model, it is about 7 points higher than the R2.  Therefore,  it is overfitting.   "
      ]
    },
    {
      "cell_type": "code",
      "execution_count": null,
      "metadata": {
        "colab": {
          "base_uri": "https://localhost:8080/"
        },
        "id": "kbUZU2_Sm4qz",
        "outputId": "a7cb0f98-4d2d-49be-f760-977a91774fc7"
      },
      "outputs": [
        {
          "name": "stdout",
          "output_type": "stream",
          "text": [
            "Model Training: 0.32502736826006273\n",
            "Model Testing: 0.3211021322282346\n"
          ]
        }
      ],
      "source": [
        "# Calculating R2\n",
        "train_r2 = r2_score(y_train, train_pred)\n",
        "test_r2 = r2_score(y_test, test_pred)\n",
        "\n",
        "print(f'Model Training: {train_r2}')\n",
        "print(f'Model Testing: {test_r2}')"
      ]
    },
    {
      "cell_type": "markdown",
      "metadata": {
        "id": "7UoNfRKE0Adg"
      },
      "source": [
        "**Root Mean Squared Error Regression Metric**\n",
        "\n",
        "In the case of the RMSE, the model decreases by around 85.  It is in close proximity from each other; therefore it shows a pretty good model for the RMSE."
      ]
    },
    {
      "cell_type": "code",
      "execution_count": null,
      "metadata": {
        "colab": {
          "base_uri": "https://localhost:8080/"
        },
        "id": "T-oqYZPDz6zc",
        "outputId": "9957fd62-2637-4954-f9f9-34686bc087ce"
      },
      "outputs": [
        {
          "name": "stdout",
          "output_type": "stream",
          "text": [
            " Model Training RMSE: 1413.3476590712073\n",
            " Model Testing RMSE: 1368.5992101132697\n"
          ]
        }
      ],
      "source": [
        "# Measuring RMSE\n",
        "train_RMSE = np.sqrt(np.mean(np.abs(train_pred - y_train)**2))\n",
        "test_RMSE = np.sqrt(np.mean(np.abs(test_pred - y_test)**2))\n",
        "\n",
        "print(f' Model Training RMSE: {train_RMSE}')\n",
        "print(f' Model Testing RMSE: {test_RMSE}')"
      ]
    },
    {
      "cell_type": "code",
      "execution_count": null,
      "metadata": {
        "id": "4_x3fp8WZ9Bj"
      },
      "outputs": [],
      "source": []
    },
    {
      "cell_type": "markdown",
      "metadata": {
        "id": "vF5zkPDc4mmI"
      },
      "source": [
        "##Regression Metrics\n",
        "Based on the R-squared, our model can account for about 32%.  \n",
        "The correlation coeffciant is low, so the model isn't really strong.  It measures the variance of the model.\n",
        "For the **regression tree model**, the r^2 is better because it is in the same range than the MSE. \n",
        "- The R-squared is, essentially, a goodness-of-fit measure for linear regression models.  The testing and training dataset is similar, so the variance is quite consistent. "
      ]
    },
    {
      "cell_type": "markdown",
      "metadata": {
        "id": "NdQngAONPEqF"
      },
      "source": [
        "##**Model Comparison**\n",
        "\n",
        "Based on the two models, I would recommend using the RMSE because it handles the penalization of smaller errors. "
      ]
    }
  ],
  "metadata": {
    "colab": {
      "provenance": [],
      "authorship_tag": "ABX9TyNbpBeW0PS9HdRB0spKx8kX",
      "include_colab_link": true
    },
    "kernelspec": {
      "display_name": "Python 3",
      "name": "python3"
    },
    "language_info": {
      "name": "python"
    }
  },
  "nbformat": 4,
  "nbformat_minor": 0
}