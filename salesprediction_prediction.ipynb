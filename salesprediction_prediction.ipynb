{
  "cells": [
    {
      "cell_type": "markdown",
      "metadata": {
        "id": "view-in-github",
        "colab_type": "text"
      },
      "source": [
        "<a href=\"https://colab.research.google.com/github/rimchristian/sales-prediction/blob/main/salesprediction_prediction.ipynb\" target=\"_parent\"><img src=\"https://colab.research.google.com/assets/colab-badge.svg\" alt=\"Open In Colab\"/></a>"
      ]
    },
    {
      "cell_type": "markdown",
      "metadata": {
        "id": "gD8nfC5IWsUa"
      },
      "source": [
        "##**Goal of the Task**\n",
        "\n",
        "\n",
        "###The goal is to help the retailer understand the properties of products and outliets to predict sales"
      ]
    },
    {
      "cell_type": "markdown",
      "metadata": {
        "id": "ovNUrz1Teo0s"
      },
      "source": [
        "### **Data Dictionary:**\n",
        "\n",
        "**Attribute** | **Description**  \n",
        "--- | ---\n",
        "Item_Identifer | Unique product id\n",
        "Item_Weight | Weight of Product\n",
        "Item_Fat_Content | Whether the product is low fat or regular \n",
        "Item_Visibility  | Percentage of total display area of all products in a store allocated in the particlar product\n",
        "Item_Type | The cateogry to which the product belongs\n",
        "Item_MRP | Maximum Retail Price of the product\n",
        "Outlet_Identifier | Unique store id\n",
        "Outlet_Establishment_Year | The year in whch store was established\n",
        "Outlet_Size | The size of the store in terms of ground area covered\n",
        "Outlet_location_type | The type of area in which the storoe is located\n",
        "Outlet_Type | Whether the outlet is a grocery store or some sort of supermarket\n",
        "Item_Outlet_Sales | Sales of the product in the particular store. This is the target variable to be predicted. \n"
      ]
    },
    {
      "cell_type": "code",
      "execution_count": null,
      "metadata": {
        "id": "skhUs7RXbD7p"
      },
      "outputs": [],
      "source": [
        "import pandas as pd\n",
        "import numpy as np\n",
        "from google.colab import drive\n",
        "\n",
        "# Preprocessing\n",
        "from sklearn.preprocessing import StandardScaler, OneHotEncoder\n",
        "from sklearn.impute import SimpleImputer\n",
        "from sklearn.compose import make_column_transformer, make_column_selector\n",
        "from sklearn.pipeline import make_pipeline\n",
        "from sklearn.model_selection import train_test_split\n",
        "\n",
        "# Models\n",
        "from sklearn.linear_model import LinearRegression\n",
        "from sklearn.dummy import DummyRegressor\n",
        "\n",
        "# Regression Metrics\n",
        "from sklearn.metrics import r2_score\n",
        "from sklearn.metrics import mean_absolute_error\n",
        "from sklearn.metrics import mean_squared_error\n",
        "\n",
        "# Set global scikit_learn configuration\n",
        "from sklearn import set_config\n",
        "set_config(display='diagram')"
      ]
    },
    {
      "cell_type": "code",
      "execution_count": null,
      "metadata": {
        "id": "EkhXF2jZiQxM"
      },
      "outputs": [],
      "source": [
        "# Create a function to take the true and predicted values\n",
        "# and print MAE, MSE, RMSE, and R2 metrics\n",
        "def evaluation_model(pipe, model_name='', \n",
        "                     x_train='X_train', x_test='X_test'):\n",
        "  # Train\n",
        "  mae = round(mean_absolute_error(y_train, pipe.predict(x_train)),4)\n",
        "  mse = round(mean_squared_error(y_train, pipe.predict(x_train)),4)\n",
        "  rmse = round(np.sqrt(mean_squared_error(y_train, pipe.predict(x_train))),4)\n",
        "  r2 = round(r2_score(y_train, pipe.predict(x_train)),7)\n",
        "  print(f'{model_name} Train Scores')\n",
        "  print(f'MAE: {mae:,.4f} \\nMSE: {mse:,.4f} \\nRMSE: {rmse:,.4f} \\nR2: {r2:.4f}\\n')\n",
        "\n",
        "  # Test\n",
        "  mae = round(mean_absolute_error(y_test, pipe.predict(x_test)),4)\n",
        "  mse = round(mean_squared_error(y_test, pipe.predict(x_test)),4)\n",
        "  rmse = round(np.sqrt(mean_squared_error(y_test, pipe.predict(x_test))),4)\n",
        "  r2 = round(r2_score(y_test, pipe.predict(x_test)),7)\n",
        "\n",
        "  # Display the metrics for the model\n",
        "  print(f'{model_name} Test Scores')\n",
        "  print(f'MAE: {mae:,.4f} \\nMSE: {mse:,.4f} \\nRMSE: {rmse:,.4f} \\nR2: {r2:.4f}\\n')"
      ]
    },
    {
      "cell_type": "code",
      "execution_count": null,
      "metadata": {
        "colab": {
          "base_uri": "https://localhost:8080/",
          "height": 357
        },
        "id": "tH5D4lApbYrQ",
        "outputId": "05401694-4c52-488e-d3ca-125746bc96a0"
      },
      "outputs": [
        {
          "output_type": "execute_result",
          "data": {
            "text/plain": [
              "  Item_Identifier Item_Weight Item_Fat_Content Item_Visibility  \\\n",
              "0           FDA15         9.3          Low Fat     0.016047301   \n",
              "1           DRC01        5.92          Regular     0.019278216   \n",
              "2           FDN15        17.5          Low Fat     0.016760075   \n",
              "3           FDX07        19.2          Regular               0   \n",
              "4           NCD19        8.93          Low Fat               0   \n",
              "\n",
              "               Item_Type  Item_MRP Outlet_Identifier  \\\n",
              "0                  Dairy  249.8092            OUT049   \n",
              "1            Soft Drinks   48.2692            OUT018   \n",
              "2                   Meat   141.618            OUT049   \n",
              "3  Fruits and Vegetables   182.095            OUT010   \n",
              "4              Household   53.8614            OUT013   \n",
              "\n",
              "   Outlet_Establishment_Year Outlet_Size Outlet_Location_Type  \\\n",
              "0                       1999      Medium               Tier 1   \n",
              "1                       2009      Medium               Tier 3   \n",
              "2                       1999      Medium               Tier 1   \n",
              "3                       1998         NaN               Tier 3   \n",
              "4                       1987        High               Tier 3   \n",
              "\n",
              "         Outlet_Type Item_Outlet_Sales  \n",
              "0  Supermarket Type1          3735.138  \n",
              "1  Supermarket Type2          443.4228  \n",
              "2  Supermarket Type1           2097.27  \n",
              "3      Grocery Store            732.38  \n",
              "4  Supermarket Type1          994.7052  "
            ],
            "text/html": [
              "\n",
              "  <div id=\"df-1163335d-fe84-4d84-8946-8f12b7c29644\">\n",
              "    <div class=\"colab-df-container\">\n",
              "      <div>\n",
              "<style scoped>\n",
              "    .dataframe tbody tr th:only-of-type {\n",
              "        vertical-align: middle;\n",
              "    }\n",
              "\n",
              "    .dataframe tbody tr th {\n",
              "        vertical-align: top;\n",
              "    }\n",
              "\n",
              "    .dataframe thead th {\n",
              "        text-align: right;\n",
              "    }\n",
              "</style>\n",
              "<table border=\"1\" class=\"dataframe\">\n",
              "  <thead>\n",
              "    <tr style=\"text-align: right;\">\n",
              "      <th></th>\n",
              "      <th>Item_Identifier</th>\n",
              "      <th>Item_Weight</th>\n",
              "      <th>Item_Fat_Content</th>\n",
              "      <th>Item_Visibility</th>\n",
              "      <th>Item_Type</th>\n",
              "      <th>Item_MRP</th>\n",
              "      <th>Outlet_Identifier</th>\n",
              "      <th>Outlet_Establishment_Year</th>\n",
              "      <th>Outlet_Size</th>\n",
              "      <th>Outlet_Location_Type</th>\n",
              "      <th>Outlet_Type</th>\n",
              "      <th>Item_Outlet_Sales</th>\n",
              "    </tr>\n",
              "  </thead>\n",
              "  <tbody>\n",
              "    <tr>\n",
              "      <th>0</th>\n",
              "      <td>FDA15</td>\n",
              "      <td>9.3</td>\n",
              "      <td>Low Fat</td>\n",
              "      <td>0.016047301</td>\n",
              "      <td>Dairy</td>\n",
              "      <td>249.8092</td>\n",
              "      <td>OUT049</td>\n",
              "      <td>1999</td>\n",
              "      <td>Medium</td>\n",
              "      <td>Tier 1</td>\n",
              "      <td>Supermarket Type1</td>\n",
              "      <td>3735.138</td>\n",
              "    </tr>\n",
              "    <tr>\n",
              "      <th>1</th>\n",
              "      <td>DRC01</td>\n",
              "      <td>5.92</td>\n",
              "      <td>Regular</td>\n",
              "      <td>0.019278216</td>\n",
              "      <td>Soft Drinks</td>\n",
              "      <td>48.2692</td>\n",
              "      <td>OUT018</td>\n",
              "      <td>2009</td>\n",
              "      <td>Medium</td>\n",
              "      <td>Tier 3</td>\n",
              "      <td>Supermarket Type2</td>\n",
              "      <td>443.4228</td>\n",
              "    </tr>\n",
              "    <tr>\n",
              "      <th>2</th>\n",
              "      <td>FDN15</td>\n",
              "      <td>17.5</td>\n",
              "      <td>Low Fat</td>\n",
              "      <td>0.016760075</td>\n",
              "      <td>Meat</td>\n",
              "      <td>141.618</td>\n",
              "      <td>OUT049</td>\n",
              "      <td>1999</td>\n",
              "      <td>Medium</td>\n",
              "      <td>Tier 1</td>\n",
              "      <td>Supermarket Type1</td>\n",
              "      <td>2097.27</td>\n",
              "    </tr>\n",
              "    <tr>\n",
              "      <th>3</th>\n",
              "      <td>FDX07</td>\n",
              "      <td>19.2</td>\n",
              "      <td>Regular</td>\n",
              "      <td>0</td>\n",
              "      <td>Fruits and Vegetables</td>\n",
              "      <td>182.095</td>\n",
              "      <td>OUT010</td>\n",
              "      <td>1998</td>\n",
              "      <td>NaN</td>\n",
              "      <td>Tier 3</td>\n",
              "      <td>Grocery Store</td>\n",
              "      <td>732.38</td>\n",
              "    </tr>\n",
              "    <tr>\n",
              "      <th>4</th>\n",
              "      <td>NCD19</td>\n",
              "      <td>8.93</td>\n",
              "      <td>Low Fat</td>\n",
              "      <td>0</td>\n",
              "      <td>Household</td>\n",
              "      <td>53.8614</td>\n",
              "      <td>OUT013</td>\n",
              "      <td>1987</td>\n",
              "      <td>High</td>\n",
              "      <td>Tier 3</td>\n",
              "      <td>Supermarket Type1</td>\n",
              "      <td>994.7052</td>\n",
              "    </tr>\n",
              "  </tbody>\n",
              "</table>\n",
              "</div>\n",
              "      <button class=\"colab-df-convert\" onclick=\"convertToInteractive('df-1163335d-fe84-4d84-8946-8f12b7c29644')\"\n",
              "              title=\"Convert this dataframe to an interactive table.\"\n",
              "              style=\"display:none;\">\n",
              "        \n",
              "  <svg xmlns=\"http://www.w3.org/2000/svg\" height=\"24px\"viewBox=\"0 0 24 24\"\n",
              "       width=\"24px\">\n",
              "    <path d=\"M0 0h24v24H0V0z\" fill=\"none\"/>\n",
              "    <path d=\"M18.56 5.44l.94 2.06.94-2.06 2.06-.94-2.06-.94-.94-2.06-.94 2.06-2.06.94zm-11 1L8.5 8.5l.94-2.06 2.06-.94-2.06-.94L8.5 2.5l-.94 2.06-2.06.94zm10 10l.94 2.06.94-2.06 2.06-.94-2.06-.94-.94-2.06-.94 2.06-2.06.94z\"/><path d=\"M17.41 7.96l-1.37-1.37c-.4-.4-.92-.59-1.43-.59-.52 0-1.04.2-1.43.59L10.3 9.45l-7.72 7.72c-.78.78-.78 2.05 0 2.83L4 21.41c.39.39.9.59 1.41.59.51 0 1.02-.2 1.41-.59l7.78-7.78 2.81-2.81c.8-.78.8-2.07 0-2.86zM5.41 20L4 18.59l7.72-7.72 1.47 1.35L5.41 20z\"/>\n",
              "  </svg>\n",
              "      </button>\n",
              "      \n",
              "  <style>\n",
              "    .colab-df-container {\n",
              "      display:flex;\n",
              "      flex-wrap:wrap;\n",
              "      gap: 12px;\n",
              "    }\n",
              "\n",
              "    .colab-df-convert {\n",
              "      background-color: #E8F0FE;\n",
              "      border: none;\n",
              "      border-radius: 50%;\n",
              "      cursor: pointer;\n",
              "      display: none;\n",
              "      fill: #1967D2;\n",
              "      height: 32px;\n",
              "      padding: 0 0 0 0;\n",
              "      width: 32px;\n",
              "    }\n",
              "\n",
              "    .colab-df-convert:hover {\n",
              "      background-color: #E2EBFA;\n",
              "      box-shadow: 0px 1px 2px rgba(60, 64, 67, 0.3), 0px 1px 3px 1px rgba(60, 64, 67, 0.15);\n",
              "      fill: #174EA6;\n",
              "    }\n",
              "\n",
              "    [theme=dark] .colab-df-convert {\n",
              "      background-color: #3B4455;\n",
              "      fill: #D2E3FC;\n",
              "    }\n",
              "\n",
              "    [theme=dark] .colab-df-convert:hover {\n",
              "      background-color: #434B5C;\n",
              "      box-shadow: 0px 1px 3px 1px rgba(0, 0, 0, 0.15);\n",
              "      filter: drop-shadow(0px 1px 2px rgba(0, 0, 0, 0.3));\n",
              "      fill: #FFFFFF;\n",
              "    }\n",
              "  </style>\n",
              "\n",
              "      <script>\n",
              "        const buttonEl =\n",
              "          document.querySelector('#df-1163335d-fe84-4d84-8946-8f12b7c29644 button.colab-df-convert');\n",
              "        buttonEl.style.display =\n",
              "          google.colab.kernel.accessAllowed ? 'block' : 'none';\n",
              "\n",
              "        async function convertToInteractive(key) {\n",
              "          const element = document.querySelector('#df-1163335d-fe84-4d84-8946-8f12b7c29644');\n",
              "          const dataTable =\n",
              "            await google.colab.kernel.invokeFunction('convertToInteractive',\n",
              "                                                     [key], {});\n",
              "          if (!dataTable) return;\n",
              "\n",
              "          const docLinkHtml = 'Like what you see? Visit the ' +\n",
              "            '<a target=\"_blank\" href=https://colab.research.google.com/notebooks/data_table.ipynb>data table notebook</a>'\n",
              "            + ' to learn more about interactive tables.';\n",
              "          element.innerHTML = '';\n",
              "          dataTable['output_type'] = 'display_data';\n",
              "          await google.colab.output.renderOutput(dataTable, element);\n",
              "          const docLink = document.createElement('div');\n",
              "          docLink.innerHTML = docLinkHtml;\n",
              "          element.appendChild(docLink);\n",
              "        }\n",
              "      </script>\n",
              "    </div>\n",
              "  </div>\n",
              "  "
            ]
          },
          "metadata": {},
          "execution_count": 3
        }
      ],
      "source": [
        "filename = '/content/sales_predictions.csv'\n",
        "df = pd.read_csv(filename,decimal=',')\n",
        "df.head()"
      ]
    },
    {
      "cell_type": "markdown",
      "metadata": {
        "id": "7NNYTk38k4ip"
      },
      "source": [
        "###**Inspect the Data**"
      ]
    },
    {
      "cell_type": "code",
      "execution_count": null,
      "metadata": {
        "colab": {
          "base_uri": "https://localhost:8080/"
        },
        "id": "_M6K5yiXcXTs",
        "outputId": "3d5f2378-24b8-4288-f88c-f0db443d12ca"
      },
      "outputs": [
        {
          "output_type": "execute_result",
          "data": {
            "text/plain": [
              "Item_Identifier              object\n",
              "Item_Weight                  object\n",
              "Item_Fat_Content             object\n",
              "Item_Visibility              object\n",
              "Item_Type                    object\n",
              "Item_MRP                     object\n",
              "Outlet_Identifier            object\n",
              "Outlet_Establishment_Year     int64\n",
              "Outlet_Size                  object\n",
              "Outlet_Location_Type         object\n",
              "Outlet_Type                  object\n",
              "Item_Outlet_Sales            object\n",
              "dtype: object"
            ]
          },
          "metadata": {},
          "execution_count": 4
        }
      ],
      "source": [
        "df.dtypes"
      ]
    },
    {
      "cell_type": "code",
      "execution_count": null,
      "metadata": {
        "colab": {
          "base_uri": "https://localhost:8080/"
        },
        "id": "Wdp0qsndlrRH",
        "outputId": "84df569d-75da-4ce2-8a21-0f5de5a49e27"
      },
      "outputs": [
        {
          "output_type": "execute_result",
          "data": {
            "text/plain": [
              "Item_Identifier               object\n",
              "Item_Weight                   object\n",
              "Item_Fat_Content              object\n",
              "Item_Visibility               object\n",
              "Item_Type                     object\n",
              "Item_MRP                      object\n",
              "Outlet_Identifier             object\n",
              "Outlet_Establishment_Year      int64\n",
              "Outlet_Size                   object\n",
              "Outlet_Location_Type          object\n",
              "Outlet_Type                   object\n",
              "Item_Outlet_Sales            float64\n",
              "dtype: object"
            ]
          },
          "metadata": {},
          "execution_count": 5
        }
      ],
      "source": [
        "# onverting into a float\n",
        "df['Item_Outlet_Sales'] = df['Item_Outlet_Sales'].astype('float')\n",
        "df.dtypes"
      ]
    },
    {
      "cell_type": "code",
      "execution_count": null,
      "metadata": {
        "colab": {
          "base_uri": "https://localhost:8080/",
          "height": 175
        },
        "id": "UgiVO9T3l7uy",
        "outputId": "d01dde12-1633-4d8f-f5f5-cf2834302c46"
      },
      "outputs": [
        {
          "output_type": "execute_result",
          "data": {
            "text/plain": [
              "       Item_Identifier Item_Weight Item_Fat_Content Item_Visibility  \\\n",
              "count             8523        7060             8523            8523   \n",
              "unique            1559         415                5            7880   \n",
              "top              FDW13       12.15          Low Fat               0   \n",
              "freq                10          86             5089             526   \n",
              "\n",
              "                    Item_Type  Item_MRP Outlet_Identifier Outlet_Size  \\\n",
              "count                    8523      8523              8523        6113   \n",
              "unique                     16      5938                10           3   \n",
              "top     Fruits and Vegetables  172.0422            OUT027      Medium   \n",
              "freq                     1232         7               935        2793   \n",
              "\n",
              "       Outlet_Location_Type        Outlet_Type  \n",
              "count                  8523               8523  \n",
              "unique                    3                  4  \n",
              "top                  Tier 3  Supermarket Type1  \n",
              "freq                   3350               5577  "
            ],
            "text/html": [
              "\n",
              "  <div id=\"df-b6bf57c9-9dba-486b-9bb6-e84fc5545e93\">\n",
              "    <div class=\"colab-df-container\">\n",
              "      <div>\n",
              "<style scoped>\n",
              "    .dataframe tbody tr th:only-of-type {\n",
              "        vertical-align: middle;\n",
              "    }\n",
              "\n",
              "    .dataframe tbody tr th {\n",
              "        vertical-align: top;\n",
              "    }\n",
              "\n",
              "    .dataframe thead th {\n",
              "        text-align: right;\n",
              "    }\n",
              "</style>\n",
              "<table border=\"1\" class=\"dataframe\">\n",
              "  <thead>\n",
              "    <tr style=\"text-align: right;\">\n",
              "      <th></th>\n",
              "      <th>Item_Identifier</th>\n",
              "      <th>Item_Weight</th>\n",
              "      <th>Item_Fat_Content</th>\n",
              "      <th>Item_Visibility</th>\n",
              "      <th>Item_Type</th>\n",
              "      <th>Item_MRP</th>\n",
              "      <th>Outlet_Identifier</th>\n",
              "      <th>Outlet_Size</th>\n",
              "      <th>Outlet_Location_Type</th>\n",
              "      <th>Outlet_Type</th>\n",
              "    </tr>\n",
              "  </thead>\n",
              "  <tbody>\n",
              "    <tr>\n",
              "      <th>count</th>\n",
              "      <td>8523</td>\n",
              "      <td>7060</td>\n",
              "      <td>8523</td>\n",
              "      <td>8523</td>\n",
              "      <td>8523</td>\n",
              "      <td>8523</td>\n",
              "      <td>8523</td>\n",
              "      <td>6113</td>\n",
              "      <td>8523</td>\n",
              "      <td>8523</td>\n",
              "    </tr>\n",
              "    <tr>\n",
              "      <th>unique</th>\n",
              "      <td>1559</td>\n",
              "      <td>415</td>\n",
              "      <td>5</td>\n",
              "      <td>7880</td>\n",
              "      <td>16</td>\n",
              "      <td>5938</td>\n",
              "      <td>10</td>\n",
              "      <td>3</td>\n",
              "      <td>3</td>\n",
              "      <td>4</td>\n",
              "    </tr>\n",
              "    <tr>\n",
              "      <th>top</th>\n",
              "      <td>FDW13</td>\n",
              "      <td>12.15</td>\n",
              "      <td>Low Fat</td>\n",
              "      <td>0</td>\n",
              "      <td>Fruits and Vegetables</td>\n",
              "      <td>172.0422</td>\n",
              "      <td>OUT027</td>\n",
              "      <td>Medium</td>\n",
              "      <td>Tier 3</td>\n",
              "      <td>Supermarket Type1</td>\n",
              "    </tr>\n",
              "    <tr>\n",
              "      <th>freq</th>\n",
              "      <td>10</td>\n",
              "      <td>86</td>\n",
              "      <td>5089</td>\n",
              "      <td>526</td>\n",
              "      <td>1232</td>\n",
              "      <td>7</td>\n",
              "      <td>935</td>\n",
              "      <td>2793</td>\n",
              "      <td>3350</td>\n",
              "      <td>5577</td>\n",
              "    </tr>\n",
              "  </tbody>\n",
              "</table>\n",
              "</div>\n",
              "      <button class=\"colab-df-convert\" onclick=\"convertToInteractive('df-b6bf57c9-9dba-486b-9bb6-e84fc5545e93')\"\n",
              "              title=\"Convert this dataframe to an interactive table.\"\n",
              "              style=\"display:none;\">\n",
              "        \n",
              "  <svg xmlns=\"http://www.w3.org/2000/svg\" height=\"24px\"viewBox=\"0 0 24 24\"\n",
              "       width=\"24px\">\n",
              "    <path d=\"M0 0h24v24H0V0z\" fill=\"none\"/>\n",
              "    <path d=\"M18.56 5.44l.94 2.06.94-2.06 2.06-.94-2.06-.94-.94-2.06-.94 2.06-2.06.94zm-11 1L8.5 8.5l.94-2.06 2.06-.94-2.06-.94L8.5 2.5l-.94 2.06-2.06.94zm10 10l.94 2.06.94-2.06 2.06-.94-2.06-.94-.94-2.06-.94 2.06-2.06.94z\"/><path d=\"M17.41 7.96l-1.37-1.37c-.4-.4-.92-.59-1.43-.59-.52 0-1.04.2-1.43.59L10.3 9.45l-7.72 7.72c-.78.78-.78 2.05 0 2.83L4 21.41c.39.39.9.59 1.41.59.51 0 1.02-.2 1.41-.59l7.78-7.78 2.81-2.81c.8-.78.8-2.07 0-2.86zM5.41 20L4 18.59l7.72-7.72 1.47 1.35L5.41 20z\"/>\n",
              "  </svg>\n",
              "      </button>\n",
              "      \n",
              "  <style>\n",
              "    .colab-df-container {\n",
              "      display:flex;\n",
              "      flex-wrap:wrap;\n",
              "      gap: 12px;\n",
              "    }\n",
              "\n",
              "    .colab-df-convert {\n",
              "      background-color: #E8F0FE;\n",
              "      border: none;\n",
              "      border-radius: 50%;\n",
              "      cursor: pointer;\n",
              "      display: none;\n",
              "      fill: #1967D2;\n",
              "      height: 32px;\n",
              "      padding: 0 0 0 0;\n",
              "      width: 32px;\n",
              "    }\n",
              "\n",
              "    .colab-df-convert:hover {\n",
              "      background-color: #E2EBFA;\n",
              "      box-shadow: 0px 1px 2px rgba(60, 64, 67, 0.3), 0px 1px 3px 1px rgba(60, 64, 67, 0.15);\n",
              "      fill: #174EA6;\n",
              "    }\n",
              "\n",
              "    [theme=dark] .colab-df-convert {\n",
              "      background-color: #3B4455;\n",
              "      fill: #D2E3FC;\n",
              "    }\n",
              "\n",
              "    [theme=dark] .colab-df-convert:hover {\n",
              "      background-color: #434B5C;\n",
              "      box-shadow: 0px 1px 3px 1px rgba(0, 0, 0, 0.15);\n",
              "      filter: drop-shadow(0px 1px 2px rgba(0, 0, 0, 0.3));\n",
              "      fill: #FFFFFF;\n",
              "    }\n",
              "  </style>\n",
              "\n",
              "      <script>\n",
              "        const buttonEl =\n",
              "          document.querySelector('#df-b6bf57c9-9dba-486b-9bb6-e84fc5545e93 button.colab-df-convert');\n",
              "        buttonEl.style.display =\n",
              "          google.colab.kernel.accessAllowed ? 'block' : 'none';\n",
              "\n",
              "        async function convertToInteractive(key) {\n",
              "          const element = document.querySelector('#df-b6bf57c9-9dba-486b-9bb6-e84fc5545e93');\n",
              "          const dataTable =\n",
              "            await google.colab.kernel.invokeFunction('convertToInteractive',\n",
              "                                                     [key], {});\n",
              "          if (!dataTable) return;\n",
              "\n",
              "          const docLinkHtml = 'Like what you see? Visit the ' +\n",
              "            '<a target=\"_blank\" href=https://colab.research.google.com/notebooks/data_table.ipynb>data table notebook</a>'\n",
              "            + ' to learn more about interactive tables.';\n",
              "          element.innerHTML = '';\n",
              "          dataTable['output_type'] = 'display_data';\n",
              "          await google.colab.output.renderOutput(dataTable, element);\n",
              "          const docLink = document.createElement('div');\n",
              "          docLink.innerHTML = docLinkHtml;\n",
              "          element.appendChild(docLink);\n",
              "        }\n",
              "      </script>\n",
              "    </div>\n",
              "  </div>\n",
              "  "
            ]
          },
          "metadata": {},
          "execution_count": 6
        }
      ],
      "source": [
        "# displaying the descriptive statistics for the object columns\n",
        "df.describe(include='object')"
      ]
    },
    {
      "cell_type": "code",
      "execution_count": null,
      "metadata": {
        "colab": {
          "base_uri": "https://localhost:8080/",
          "height": 300
        },
        "id": "ZzbPudW6pqJE",
        "outputId": "4073ffa1-8069-4dc3-fcbf-8bcffdb58149"
      },
      "outputs": [
        {
          "output_type": "execute_result",
          "data": {
            "text/plain": [
              "       Outlet_Establishment_Year  Item_Outlet_Sales\n",
              "count                8523.000000        8523.000000\n",
              "mean                 1997.831867        2181.288914\n",
              "std                     8.371760        1706.499616\n",
              "min                  1985.000000          33.290000\n",
              "25%                  1987.000000         834.247400\n",
              "50%                  1999.000000        1794.331000\n",
              "75%                  2004.000000        3101.296400\n",
              "max                  2009.000000       13086.964800"
            ],
            "text/html": [
              "\n",
              "  <div id=\"df-b1e85e89-e592-43b0-a72b-f4b2520d5cf6\">\n",
              "    <div class=\"colab-df-container\">\n",
              "      <div>\n",
              "<style scoped>\n",
              "    .dataframe tbody tr th:only-of-type {\n",
              "        vertical-align: middle;\n",
              "    }\n",
              "\n",
              "    .dataframe tbody tr th {\n",
              "        vertical-align: top;\n",
              "    }\n",
              "\n",
              "    .dataframe thead th {\n",
              "        text-align: right;\n",
              "    }\n",
              "</style>\n",
              "<table border=\"1\" class=\"dataframe\">\n",
              "  <thead>\n",
              "    <tr style=\"text-align: right;\">\n",
              "      <th></th>\n",
              "      <th>Outlet_Establishment_Year</th>\n",
              "      <th>Item_Outlet_Sales</th>\n",
              "    </tr>\n",
              "  </thead>\n",
              "  <tbody>\n",
              "    <tr>\n",
              "      <th>count</th>\n",
              "      <td>8523.000000</td>\n",
              "      <td>8523.000000</td>\n",
              "    </tr>\n",
              "    <tr>\n",
              "      <th>mean</th>\n",
              "      <td>1997.831867</td>\n",
              "      <td>2181.288914</td>\n",
              "    </tr>\n",
              "    <tr>\n",
              "      <th>std</th>\n",
              "      <td>8.371760</td>\n",
              "      <td>1706.499616</td>\n",
              "    </tr>\n",
              "    <tr>\n",
              "      <th>min</th>\n",
              "      <td>1985.000000</td>\n",
              "      <td>33.290000</td>\n",
              "    </tr>\n",
              "    <tr>\n",
              "      <th>25%</th>\n",
              "      <td>1987.000000</td>\n",
              "      <td>834.247400</td>\n",
              "    </tr>\n",
              "    <tr>\n",
              "      <th>50%</th>\n",
              "      <td>1999.000000</td>\n",
              "      <td>1794.331000</td>\n",
              "    </tr>\n",
              "    <tr>\n",
              "      <th>75%</th>\n",
              "      <td>2004.000000</td>\n",
              "      <td>3101.296400</td>\n",
              "    </tr>\n",
              "    <tr>\n",
              "      <th>max</th>\n",
              "      <td>2009.000000</td>\n",
              "      <td>13086.964800</td>\n",
              "    </tr>\n",
              "  </tbody>\n",
              "</table>\n",
              "</div>\n",
              "      <button class=\"colab-df-convert\" onclick=\"convertToInteractive('df-b1e85e89-e592-43b0-a72b-f4b2520d5cf6')\"\n",
              "              title=\"Convert this dataframe to an interactive table.\"\n",
              "              style=\"display:none;\">\n",
              "        \n",
              "  <svg xmlns=\"http://www.w3.org/2000/svg\" height=\"24px\"viewBox=\"0 0 24 24\"\n",
              "       width=\"24px\">\n",
              "    <path d=\"M0 0h24v24H0V0z\" fill=\"none\"/>\n",
              "    <path d=\"M18.56 5.44l.94 2.06.94-2.06 2.06-.94-2.06-.94-.94-2.06-.94 2.06-2.06.94zm-11 1L8.5 8.5l.94-2.06 2.06-.94-2.06-.94L8.5 2.5l-.94 2.06-2.06.94zm10 10l.94 2.06.94-2.06 2.06-.94-2.06-.94-.94-2.06-.94 2.06-2.06.94z\"/><path d=\"M17.41 7.96l-1.37-1.37c-.4-.4-.92-.59-1.43-.59-.52 0-1.04.2-1.43.59L10.3 9.45l-7.72 7.72c-.78.78-.78 2.05 0 2.83L4 21.41c.39.39.9.59 1.41.59.51 0 1.02-.2 1.41-.59l7.78-7.78 2.81-2.81c.8-.78.8-2.07 0-2.86zM5.41 20L4 18.59l7.72-7.72 1.47 1.35L5.41 20z\"/>\n",
              "  </svg>\n",
              "      </button>\n",
              "      \n",
              "  <style>\n",
              "    .colab-df-container {\n",
              "      display:flex;\n",
              "      flex-wrap:wrap;\n",
              "      gap: 12px;\n",
              "    }\n",
              "\n",
              "    .colab-df-convert {\n",
              "      background-color: #E8F0FE;\n",
              "      border: none;\n",
              "      border-radius: 50%;\n",
              "      cursor: pointer;\n",
              "      display: none;\n",
              "      fill: #1967D2;\n",
              "      height: 32px;\n",
              "      padding: 0 0 0 0;\n",
              "      width: 32px;\n",
              "    }\n",
              "\n",
              "    .colab-df-convert:hover {\n",
              "      background-color: #E2EBFA;\n",
              "      box-shadow: 0px 1px 2px rgba(60, 64, 67, 0.3), 0px 1px 3px 1px rgba(60, 64, 67, 0.15);\n",
              "      fill: #174EA6;\n",
              "    }\n",
              "\n",
              "    [theme=dark] .colab-df-convert {\n",
              "      background-color: #3B4455;\n",
              "      fill: #D2E3FC;\n",
              "    }\n",
              "\n",
              "    [theme=dark] .colab-df-convert:hover {\n",
              "      background-color: #434B5C;\n",
              "      box-shadow: 0px 1px 3px 1px rgba(0, 0, 0, 0.15);\n",
              "      filter: drop-shadow(0px 1px 2px rgba(0, 0, 0, 0.3));\n",
              "      fill: #FFFFFF;\n",
              "    }\n",
              "  </style>\n",
              "\n",
              "      <script>\n",
              "        const buttonEl =\n",
              "          document.querySelector('#df-b1e85e89-e592-43b0-a72b-f4b2520d5cf6 button.colab-df-convert');\n",
              "        buttonEl.style.display =\n",
              "          google.colab.kernel.accessAllowed ? 'block' : 'none';\n",
              "\n",
              "        async function convertToInteractive(key) {\n",
              "          const element = document.querySelector('#df-b1e85e89-e592-43b0-a72b-f4b2520d5cf6');\n",
              "          const dataTable =\n",
              "            await google.colab.kernel.invokeFunction('convertToInteractive',\n",
              "                                                     [key], {});\n",
              "          if (!dataTable) return;\n",
              "\n",
              "          const docLinkHtml = 'Like what you see? Visit the ' +\n",
              "            '<a target=\"_blank\" href=https://colab.research.google.com/notebooks/data_table.ipynb>data table notebook</a>'\n",
              "            + ' to learn more about interactive tables.';\n",
              "          element.innerHTML = '';\n",
              "          dataTable['output_type'] = 'display_data';\n",
              "          await google.colab.output.renderOutput(dataTable, element);\n",
              "          const docLink = document.createElement('div');\n",
              "          docLink.innerHTML = docLinkHtml;\n",
              "          element.appendChild(docLink);\n",
              "        }\n",
              "      </script>\n",
              "    </div>\n",
              "  </div>\n",
              "  "
            ]
          },
          "metadata": {},
          "execution_count": 7
        }
      ],
      "source": [
        "# displaying the descriptive statistics for nume4ric columns\n",
        "df.describe(include='number')"
      ]
    },
    {
      "cell_type": "markdown",
      "metadata": {
        "id": "TpC8HEvtmr7o"
      },
      "source": [
        "##**Cleaning the data**"
      ]
    },
    {
      "cell_type": "code",
      "execution_count": null,
      "metadata": {
        "colab": {
          "base_uri": "https://localhost:8080/"
        },
        "id": "JAw2o56tYHrH",
        "outputId": "1b724bbc-3d4c-43ba-810a-3792cd59e655"
      },
      "outputs": [
        {
          "output_type": "stream",
          "name": "stdout",
          "text": [
            "There are 0 duplicate rows.\n"
          ]
        }
      ],
      "source": [
        "# Display the number of duplicate rows in the data\n",
        "print(f'There are {df.duplicated().sum()} duplicate rows.')\n"
      ]
    },
    {
      "cell_type": "code",
      "execution_count": null,
      "metadata": {
        "colab": {
          "base_uri": "https://localhost:8080/"
        },
        "id": "6Qi8B2QiYmVy",
        "outputId": "222565e1-9ba1-49cb-bfa5-d2dcc14891c3"
      },
      "outputs": [
        {
          "output_type": "execute_result",
          "data": {
            "text/plain": [
              "Item_Identifier                 0\n",
              "Item_Weight                  1463\n",
              "Item_Fat_Content                0\n",
              "Item_Visibility                 0\n",
              "Item_Type                       0\n",
              "Item_MRP                        0\n",
              "Outlet_Identifier               0\n",
              "Outlet_Establishment_Year       0\n",
              "Outlet_Size                  2410\n",
              "Outlet_Location_Type            0\n",
              "Outlet_Type                     0\n",
              "Item_Outlet_Sales               0\n",
              "dtype: int64"
            ]
          },
          "metadata": {},
          "execution_count": 9
        }
      ],
      "source": [
        "# identifying missing data \n",
        "df.isna().sum()"
      ]
    },
    {
      "cell_type": "code",
      "execution_count": null,
      "metadata": {
        "id": "12ABd5PJYEJW"
      },
      "outputs": [],
      "source": [
        "# split\n",
        "X = df.drop(columns=['Item_Outlet_Sales','Item_Identifier','Item_Weight', 'Item_Visibility','Item_Type','Outlet_Size', 'Outlet_Location_Type', 'Outlet_Type', 'Item_Fat_Content', 'Outlet_Identifier'])\n",
        "y = df['Item_Outlet_Sales']\n",
        "\n",
        "# split\n",
        "X_train,X_test,y_train,y_test = train_test_split(X,y,random_state=42)"
      ]
    },
    {
      "cell_type": "markdown",
      "metadata": {
        "id": "cPE5LLVWqB2L"
      },
      "source": [
        "## **Prepare the Data**"
      ]
    },
    {
      "cell_type": "markdown",
      "metadata": {
        "id": "RuiT02EhqHg8"
      },
      "source": [
        "### **ColumnSelector**"
      ]
    },
    {
      "cell_type": "code",
      "execution_count": null,
      "metadata": {
        "id": "OD7GJcWPa-61"
      },
      "outputs": [],
      "source": [
        "# Instantiate the column seelctors\n",
        "cat_selector = make_column_selector(dtype_include='object')\n",
        "num_selector = make_column_selector(dtype_include='number')"
      ]
    },
    {
      "cell_type": "markdown",
      "metadata": {
        "id": "WVqAGxpmq1ek"
      },
      "source": [
        "### **Transformers**"
      ]
    },
    {
      "cell_type": "code",
      "execution_count": null,
      "metadata": {
        "id": "yxaUPbIMYiVC"
      },
      "outputs": [],
      "source": [
        "#scaler\n",
        "scaler = StandardScaler()\n",
        "# One hot Encoder\n",
        "ohe = OneHotEncoder(handle_unknown='ignore', sparse=False)"
      ]
    },
    {
      "cell_type": "code",
      "execution_count": null,
      "metadata": {
        "id": "1M3wG6MSqsoW"
      },
      "outputs": [],
      "source": [
        "# Instantiate an imputer and scaler \n",
        "freq_imputer = SimpleImputer(strategy='most_frequent')\n",
        "mean_imputer = SimpleImputer(strategy='mean')"
      ]
    },
    {
      "cell_type": "code",
      "execution_count": null,
      "metadata": {
        "colab": {
          "base_uri": "https://localhost:8080/",
          "height": 118
        },
        "id": "ul1OUGXNr97U",
        "outputId": "7551a7d5-4a36-4091-80cf-f62b36d5fdc3"
      },
      "outputs": [
        {
          "output_type": "execute_result",
          "data": {
            "text/plain": [
              "ColumnTransformer(remainder='passthrough',\n",
              "                  transformers=[('simpleimputer-1', SimpleImputer(),\n",
              "                                 <sklearn.compose._column_transformer.make_column_selector object at 0x7fce6290a940>),\n",
              "                                ('simpleimputer-2',\n",
              "                                 SimpleImputer(strategy='most_frequent'),\n",
              "                                 <sklearn.compose._column_transformer.make_column_selector object at 0x7fce6290a1c0>)])"
            ],
            "text/html": [
              "<style>#sk-79529d35-e89a-4ed0-a225-d1d0de14429e {color: black;background-color: white;}#sk-79529d35-e89a-4ed0-a225-d1d0de14429e pre{padding: 0;}#sk-79529d35-e89a-4ed0-a225-d1d0de14429e div.sk-toggleable {background-color: white;}#sk-79529d35-e89a-4ed0-a225-d1d0de14429e label.sk-toggleable__label {cursor: pointer;display: block;width: 100%;margin-bottom: 0;padding: 0.3em;box-sizing: border-box;text-align: center;}#sk-79529d35-e89a-4ed0-a225-d1d0de14429e label.sk-toggleable__label-arrow:before {content: \"▸\";float: left;margin-right: 0.25em;color: #696969;}#sk-79529d35-e89a-4ed0-a225-d1d0de14429e label.sk-toggleable__label-arrow:hover:before {color: black;}#sk-79529d35-e89a-4ed0-a225-d1d0de14429e div.sk-estimator:hover label.sk-toggleable__label-arrow:before {color: black;}#sk-79529d35-e89a-4ed0-a225-d1d0de14429e div.sk-toggleable__content {max-height: 0;max-width: 0;overflow: hidden;text-align: left;background-color: #f0f8ff;}#sk-79529d35-e89a-4ed0-a225-d1d0de14429e div.sk-toggleable__content pre {margin: 0.2em;color: black;border-radius: 0.25em;background-color: #f0f8ff;}#sk-79529d35-e89a-4ed0-a225-d1d0de14429e input.sk-toggleable__control:checked~div.sk-toggleable__content {max-height: 200px;max-width: 100%;overflow: auto;}#sk-79529d35-e89a-4ed0-a225-d1d0de14429e input.sk-toggleable__control:checked~label.sk-toggleable__label-arrow:before {content: \"▾\";}#sk-79529d35-e89a-4ed0-a225-d1d0de14429e div.sk-estimator input.sk-toggleable__control:checked~label.sk-toggleable__label {background-color: #d4ebff;}#sk-79529d35-e89a-4ed0-a225-d1d0de14429e div.sk-label input.sk-toggleable__control:checked~label.sk-toggleable__label {background-color: #d4ebff;}#sk-79529d35-e89a-4ed0-a225-d1d0de14429e input.sk-hidden--visually {border: 0;clip: rect(1px 1px 1px 1px);clip: rect(1px, 1px, 1px, 1px);height: 1px;margin: -1px;overflow: hidden;padding: 0;position: absolute;width: 1px;}#sk-79529d35-e89a-4ed0-a225-d1d0de14429e div.sk-estimator {font-family: monospace;background-color: #f0f8ff;border: 1px dotted black;border-radius: 0.25em;box-sizing: border-box;margin-bottom: 0.5em;}#sk-79529d35-e89a-4ed0-a225-d1d0de14429e div.sk-estimator:hover {background-color: #d4ebff;}#sk-79529d35-e89a-4ed0-a225-d1d0de14429e div.sk-parallel-item::after {content: \"\";width: 100%;border-bottom: 1px solid gray;flex-grow: 1;}#sk-79529d35-e89a-4ed0-a225-d1d0de14429e div.sk-label:hover label.sk-toggleable__label {background-color: #d4ebff;}#sk-79529d35-e89a-4ed0-a225-d1d0de14429e div.sk-serial::before {content: \"\";position: absolute;border-left: 1px solid gray;box-sizing: border-box;top: 2em;bottom: 0;left: 50%;}#sk-79529d35-e89a-4ed0-a225-d1d0de14429e div.sk-serial {display: flex;flex-direction: column;align-items: center;background-color: white;padding-right: 0.2em;padding-left: 0.2em;}#sk-79529d35-e89a-4ed0-a225-d1d0de14429e div.sk-item {z-index: 1;}#sk-79529d35-e89a-4ed0-a225-d1d0de14429e div.sk-parallel {display: flex;align-items: stretch;justify-content: center;background-color: white;}#sk-79529d35-e89a-4ed0-a225-d1d0de14429e div.sk-parallel::before {content: \"\";position: absolute;border-left: 1px solid gray;box-sizing: border-box;top: 2em;bottom: 0;left: 50%;}#sk-79529d35-e89a-4ed0-a225-d1d0de14429e div.sk-parallel-item {display: flex;flex-direction: column;position: relative;background-color: white;}#sk-79529d35-e89a-4ed0-a225-d1d0de14429e div.sk-parallel-item:first-child::after {align-self: flex-end;width: 50%;}#sk-79529d35-e89a-4ed0-a225-d1d0de14429e div.sk-parallel-item:last-child::after {align-self: flex-start;width: 50%;}#sk-79529d35-e89a-4ed0-a225-d1d0de14429e div.sk-parallel-item:only-child::after {width: 0;}#sk-79529d35-e89a-4ed0-a225-d1d0de14429e div.sk-dashed-wrapped {border: 1px dashed gray;margin: 0 0.4em 0.5em 0.4em;box-sizing: border-box;padding-bottom: 0.4em;background-color: white;position: relative;}#sk-79529d35-e89a-4ed0-a225-d1d0de14429e div.sk-label label {font-family: monospace;font-weight: bold;background-color: white;display: inline-block;line-height: 1.2em;}#sk-79529d35-e89a-4ed0-a225-d1d0de14429e div.sk-label-container {position: relative;z-index: 2;text-align: center;}#sk-79529d35-e89a-4ed0-a225-d1d0de14429e div.sk-container {/* jupyter's `normalize.less` sets `[hidden] { display: none; }` but bootstrap.min.css set `[hidden] { display: none !important; }` so we also need the `!important` here to be able to override the default hidden behavior on the sphinx rendered scikit-learn.org. See: https://github.com/scikit-learn/scikit-learn/issues/21755 */display: inline-block !important;position: relative;}#sk-79529d35-e89a-4ed0-a225-d1d0de14429e div.sk-text-repr-fallback {display: none;}</style><div id=\"sk-79529d35-e89a-4ed0-a225-d1d0de14429e\" class=\"sk-top-container\"><div class=\"sk-text-repr-fallback\"><pre>ColumnTransformer(remainder=&#x27;passthrough&#x27;,\n",
              "                  transformers=[(&#x27;simpleimputer-1&#x27;, SimpleImputer(),\n",
              "                                 &lt;sklearn.compose._column_transformer.make_column_selector object at 0x7fce6290a940&gt;),\n",
              "                                (&#x27;simpleimputer-2&#x27;,\n",
              "                                 SimpleImputer(strategy=&#x27;most_frequent&#x27;),\n",
              "                                 &lt;sklearn.compose._column_transformer.make_column_selector object at 0x7fce6290a1c0&gt;)])</pre><b>Please rerun this cell to show the HTML repr or trust the notebook.</b></div><div class=\"sk-container\" hidden><div class=\"sk-item sk-dashed-wrapped\"><div class=\"sk-label-container\"><div class=\"sk-label sk-toggleable\"><input class=\"sk-toggleable__control sk-hidden--visually\" id=\"86af2f54-be49-431d-bf22-56fd1063f863\" type=\"checkbox\" ><label for=\"86af2f54-be49-431d-bf22-56fd1063f863\" class=\"sk-toggleable__label sk-toggleable__label-arrow\">ColumnTransformer</label><div class=\"sk-toggleable__content\"><pre>ColumnTransformer(remainder=&#x27;passthrough&#x27;,\n",
              "                  transformers=[(&#x27;simpleimputer-1&#x27;, SimpleImputer(),\n",
              "                                 &lt;sklearn.compose._column_transformer.make_column_selector object at 0x7fce6290a940&gt;),\n",
              "                                (&#x27;simpleimputer-2&#x27;,\n",
              "                                 SimpleImputer(strategy=&#x27;most_frequent&#x27;),\n",
              "                                 &lt;sklearn.compose._column_transformer.make_column_selector object at 0x7fce6290a1c0&gt;)])</pre></div></div></div><div class=\"sk-parallel\"><div class=\"sk-parallel-item\"><div class=\"sk-item\"><div class=\"sk-label-container\"><div class=\"sk-label sk-toggleable\"><input class=\"sk-toggleable__control sk-hidden--visually\" id=\"0328e00c-8158-48c3-b877-a7024e7c1edd\" type=\"checkbox\" ><label for=\"0328e00c-8158-48c3-b877-a7024e7c1edd\" class=\"sk-toggleable__label sk-toggleable__label-arrow\">simpleimputer-1</label><div class=\"sk-toggleable__content\"><pre>&lt;sklearn.compose._column_transformer.make_column_selector object at 0x7fce6290a940&gt;</pre></div></div></div><div class=\"sk-serial\"><div class=\"sk-item\"><div class=\"sk-estimator sk-toggleable\"><input class=\"sk-toggleable__control sk-hidden--visually\" id=\"ed3cfcea-ca74-405a-83c6-e9d9ac802c63\" type=\"checkbox\" ><label for=\"ed3cfcea-ca74-405a-83c6-e9d9ac802c63\" class=\"sk-toggleable__label sk-toggleable__label-arrow\">SimpleImputer</label><div class=\"sk-toggleable__content\"><pre>SimpleImputer()</pre></div></div></div></div></div></div><div class=\"sk-parallel-item\"><div class=\"sk-item\"><div class=\"sk-label-container\"><div class=\"sk-label sk-toggleable\"><input class=\"sk-toggleable__control sk-hidden--visually\" id=\"c8fbd33e-a2ee-470f-8ea8-295505b42da7\" type=\"checkbox\" ><label for=\"c8fbd33e-a2ee-470f-8ea8-295505b42da7\" class=\"sk-toggleable__label sk-toggleable__label-arrow\">simpleimputer-2</label><div class=\"sk-toggleable__content\"><pre>&lt;sklearn.compose._column_transformer.make_column_selector object at 0x7fce6290a1c0&gt;</pre></div></div></div><div class=\"sk-serial\"><div class=\"sk-item\"><div class=\"sk-estimator sk-toggleable\"><input class=\"sk-toggleable__control sk-hidden--visually\" id=\"b756d292-4955-4bfc-b0dd-5723c44571f5\" type=\"checkbox\" ><label for=\"b756d292-4955-4bfc-b0dd-5723c44571f5\" class=\"sk-toggleable__label sk-toggleable__label-arrow\">SimpleImputer</label><div class=\"sk-toggleable__content\"><pre>SimpleImputer(strategy=&#x27;most_frequent&#x27;)</pre></div></div></div></div></div></div><div class=\"sk-parallel-item\"><div class=\"sk-item\"><div class=\"sk-label-container\"><div class=\"sk-label sk-toggleable\"><input class=\"sk-toggleable__control sk-hidden--visually\" id=\"fe0b3a8e-0163-4b32-b10d-edd82826a417\" type=\"checkbox\" ><label for=\"fe0b3a8e-0163-4b32-b10d-edd82826a417\" class=\"sk-toggleable__label sk-toggleable__label-arrow\">remainder</label><div class=\"sk-toggleable__content\"><pre></pre></div></div></div><div class=\"sk-serial\"><div class=\"sk-item\"><div class=\"sk-estimator sk-toggleable\"><input class=\"sk-toggleable__control sk-hidden--visually\" id=\"655424a8-c6f1-4c73-b329-429a25f5214f\" type=\"checkbox\" ><label for=\"655424a8-c6f1-4c73-b329-429a25f5214f\" class=\"sk-toggleable__label sk-toggleable__label-arrow\">passthrough</label><div class=\"sk-toggleable__content\"><pre>passthrough</pre></div></div></div></div></div></div></div></div></div></div>"
            ]
          },
          "metadata": {},
          "execution_count": 14
        }
      ],
      "source": [
        "#create tuples\n",
        "num_tuple = (mean_imputer,num_selector)\n",
        "cat_tuple = (freq_imputer, cat_selector)\n",
        "\n",
        "# instantiate ColumnTransformer\n",
        "col_transformer = make_column_transformer(num_tuple,cat_tuple,remainder='passthrough')\n",
        "col_transformer"
      ]
    },
    {
      "cell_type": "code",
      "execution_count": null,
      "metadata": {
        "colab": {
          "base_uri": "https://localhost:8080/"
        },
        "id": "c-n6qNTVsagh",
        "outputId": "76e59dae-d8b5-4c4b-a781-bee1117a9352"
      },
      "outputs": [
        {
          "output_type": "execute_result",
          "data": {
            "text/plain": [
              "Item_MRP                     False\n",
              "Outlet_Establishment_Year    False\n",
              "dtype: bool"
            ]
          },
          "metadata": {},
          "execution_count": 15
        }
      ],
      "source": [
        "# fit ColumnTransformer on the training data\n",
        "col_transformer.fit(X_train)\n",
        "# transform both the training and testing data\n",
        "X_train_imputed = col_transformer.transform(X_train)\n",
        "X_test_imputed = col_transformer.transform(X_test)\n",
        "# change the result back to a dataframe\n",
        "X_train_imputed = pd.DataFrame(X_train_imputed, columns=X_train.columns)\n",
        "X_train_imputed.isna().any()\n",
        "                                        "
      ]
    },
    {
      "cell_type": "code",
      "execution_count": null,
      "metadata": {
        "colab": {
          "base_uri": "https://localhost:8080/",
          "height": 126
        },
        "id": "6gvMofRNcgw9",
        "outputId": "2797a36a-abfd-472c-a647-af09914e6817"
      },
      "outputs": [
        {
          "output_type": "execute_result",
          "data": {
            "text/plain": [
              "Pipeline(steps=[('simpleimputer', SimpleImputer()),\n",
              "                ('standardscaler', StandardScaler())])"
            ],
            "text/html": [
              "<style>#sk-ccc2e823-45b8-4f92-9e99-aed5b2664136 {color: black;background-color: white;}#sk-ccc2e823-45b8-4f92-9e99-aed5b2664136 pre{padding: 0;}#sk-ccc2e823-45b8-4f92-9e99-aed5b2664136 div.sk-toggleable {background-color: white;}#sk-ccc2e823-45b8-4f92-9e99-aed5b2664136 label.sk-toggleable__label {cursor: pointer;display: block;width: 100%;margin-bottom: 0;padding: 0.3em;box-sizing: border-box;text-align: center;}#sk-ccc2e823-45b8-4f92-9e99-aed5b2664136 label.sk-toggleable__label-arrow:before {content: \"▸\";float: left;margin-right: 0.25em;color: #696969;}#sk-ccc2e823-45b8-4f92-9e99-aed5b2664136 label.sk-toggleable__label-arrow:hover:before {color: black;}#sk-ccc2e823-45b8-4f92-9e99-aed5b2664136 div.sk-estimator:hover label.sk-toggleable__label-arrow:before {color: black;}#sk-ccc2e823-45b8-4f92-9e99-aed5b2664136 div.sk-toggleable__content {max-height: 0;max-width: 0;overflow: hidden;text-align: left;background-color: #f0f8ff;}#sk-ccc2e823-45b8-4f92-9e99-aed5b2664136 div.sk-toggleable__content pre {margin: 0.2em;color: black;border-radius: 0.25em;background-color: #f0f8ff;}#sk-ccc2e823-45b8-4f92-9e99-aed5b2664136 input.sk-toggleable__control:checked~div.sk-toggleable__content {max-height: 200px;max-width: 100%;overflow: auto;}#sk-ccc2e823-45b8-4f92-9e99-aed5b2664136 input.sk-toggleable__control:checked~label.sk-toggleable__label-arrow:before {content: \"▾\";}#sk-ccc2e823-45b8-4f92-9e99-aed5b2664136 div.sk-estimator input.sk-toggleable__control:checked~label.sk-toggleable__label {background-color: #d4ebff;}#sk-ccc2e823-45b8-4f92-9e99-aed5b2664136 div.sk-label input.sk-toggleable__control:checked~label.sk-toggleable__label {background-color: #d4ebff;}#sk-ccc2e823-45b8-4f92-9e99-aed5b2664136 input.sk-hidden--visually {border: 0;clip: rect(1px 1px 1px 1px);clip: rect(1px, 1px, 1px, 1px);height: 1px;margin: -1px;overflow: hidden;padding: 0;position: absolute;width: 1px;}#sk-ccc2e823-45b8-4f92-9e99-aed5b2664136 div.sk-estimator {font-family: monospace;background-color: #f0f8ff;border: 1px dotted black;border-radius: 0.25em;box-sizing: border-box;margin-bottom: 0.5em;}#sk-ccc2e823-45b8-4f92-9e99-aed5b2664136 div.sk-estimator:hover {background-color: #d4ebff;}#sk-ccc2e823-45b8-4f92-9e99-aed5b2664136 div.sk-parallel-item::after {content: \"\";width: 100%;border-bottom: 1px solid gray;flex-grow: 1;}#sk-ccc2e823-45b8-4f92-9e99-aed5b2664136 div.sk-label:hover label.sk-toggleable__label {background-color: #d4ebff;}#sk-ccc2e823-45b8-4f92-9e99-aed5b2664136 div.sk-serial::before {content: \"\";position: absolute;border-left: 1px solid gray;box-sizing: border-box;top: 2em;bottom: 0;left: 50%;}#sk-ccc2e823-45b8-4f92-9e99-aed5b2664136 div.sk-serial {display: flex;flex-direction: column;align-items: center;background-color: white;padding-right: 0.2em;padding-left: 0.2em;}#sk-ccc2e823-45b8-4f92-9e99-aed5b2664136 div.sk-item {z-index: 1;}#sk-ccc2e823-45b8-4f92-9e99-aed5b2664136 div.sk-parallel {display: flex;align-items: stretch;justify-content: center;background-color: white;}#sk-ccc2e823-45b8-4f92-9e99-aed5b2664136 div.sk-parallel::before {content: \"\";position: absolute;border-left: 1px solid gray;box-sizing: border-box;top: 2em;bottom: 0;left: 50%;}#sk-ccc2e823-45b8-4f92-9e99-aed5b2664136 div.sk-parallel-item {display: flex;flex-direction: column;position: relative;background-color: white;}#sk-ccc2e823-45b8-4f92-9e99-aed5b2664136 div.sk-parallel-item:first-child::after {align-self: flex-end;width: 50%;}#sk-ccc2e823-45b8-4f92-9e99-aed5b2664136 div.sk-parallel-item:last-child::after {align-self: flex-start;width: 50%;}#sk-ccc2e823-45b8-4f92-9e99-aed5b2664136 div.sk-parallel-item:only-child::after {width: 0;}#sk-ccc2e823-45b8-4f92-9e99-aed5b2664136 div.sk-dashed-wrapped {border: 1px dashed gray;margin: 0 0.4em 0.5em 0.4em;box-sizing: border-box;padding-bottom: 0.4em;background-color: white;position: relative;}#sk-ccc2e823-45b8-4f92-9e99-aed5b2664136 div.sk-label label {font-family: monospace;font-weight: bold;background-color: white;display: inline-block;line-height: 1.2em;}#sk-ccc2e823-45b8-4f92-9e99-aed5b2664136 div.sk-label-container {position: relative;z-index: 2;text-align: center;}#sk-ccc2e823-45b8-4f92-9e99-aed5b2664136 div.sk-container {/* jupyter's `normalize.less` sets `[hidden] { display: none; }` but bootstrap.min.css set `[hidden] { display: none !important; }` so we also need the `!important` here to be able to override the default hidden behavior on the sphinx rendered scikit-learn.org. See: https://github.com/scikit-learn/scikit-learn/issues/21755 */display: inline-block !important;position: relative;}#sk-ccc2e823-45b8-4f92-9e99-aed5b2664136 div.sk-text-repr-fallback {display: none;}</style><div id=\"sk-ccc2e823-45b8-4f92-9e99-aed5b2664136\" class=\"sk-top-container\"><div class=\"sk-text-repr-fallback\"><pre>Pipeline(steps=[(&#x27;simpleimputer&#x27;, SimpleImputer()),\n",
              "                (&#x27;standardscaler&#x27;, StandardScaler())])</pre><b>Please rerun this cell to show the HTML repr or trust the notebook.</b></div><div class=\"sk-container\" hidden><div class=\"sk-item sk-dashed-wrapped\"><div class=\"sk-label-container\"><div class=\"sk-label sk-toggleable\"><input class=\"sk-toggleable__control sk-hidden--visually\" id=\"1d105f7f-1777-4110-a7a2-2db178d5541a\" type=\"checkbox\" ><label for=\"1d105f7f-1777-4110-a7a2-2db178d5541a\" class=\"sk-toggleable__label sk-toggleable__label-arrow\">Pipeline</label><div class=\"sk-toggleable__content\"><pre>Pipeline(steps=[(&#x27;simpleimputer&#x27;, SimpleImputer()),\n",
              "                (&#x27;standardscaler&#x27;, StandardScaler())])</pre></div></div></div><div class=\"sk-serial\"><div class=\"sk-item\"><div class=\"sk-estimator sk-toggleable\"><input class=\"sk-toggleable__control sk-hidden--visually\" id=\"b0bfdf2c-c0a0-4274-8e42-aa393c49ecdb\" type=\"checkbox\" ><label for=\"b0bfdf2c-c0a0-4274-8e42-aa393c49ecdb\" class=\"sk-toggleable__label sk-toggleable__label-arrow\">SimpleImputer</label><div class=\"sk-toggleable__content\"><pre>SimpleImputer()</pre></div></div></div><div class=\"sk-item\"><div class=\"sk-estimator sk-toggleable\"><input class=\"sk-toggleable__control sk-hidden--visually\" id=\"ee205f2d-ff4b-41e8-9210-f9381d42ac30\" type=\"checkbox\" ><label for=\"ee205f2d-ff4b-41e8-9210-f9381d42ac30\" class=\"sk-toggleable__label sk-toggleable__label-arrow\">StandardScaler</label><div class=\"sk-toggleable__content\"><pre>StandardScaler()</pre></div></div></div></div></div></div></div>"
            ]
          },
          "metadata": {},
          "execution_count": 16
        }
      ],
      "source": [
        "# Numeric pipeline\n",
        "numeric_pipe = make_pipeline(mean_imputer,scaler)\n",
        "numeric_pipe"
      ]
    },
    {
      "cell_type": "code",
      "execution_count": null,
      "metadata": {
        "colab": {
          "base_uri": "https://localhost:8080/",
          "height": 126
        },
        "id": "kAuRwFBWcolC",
        "outputId": "4e0135ff-630c-4b75-ce98-46339364078d"
      },
      "outputs": [
        {
          "output_type": "execute_result",
          "data": {
            "text/plain": [
              "Pipeline(steps=[('simpleimputer', SimpleImputer(strategy='most_frequent')),\n",
              "                ('onehotencoder',\n",
              "                 OneHotEncoder(handle_unknown='ignore', sparse=False))])"
            ],
            "text/html": [
              "<style>#sk-0d4d7101-17a3-489a-87a4-bf8450acdf1b {color: black;background-color: white;}#sk-0d4d7101-17a3-489a-87a4-bf8450acdf1b pre{padding: 0;}#sk-0d4d7101-17a3-489a-87a4-bf8450acdf1b div.sk-toggleable {background-color: white;}#sk-0d4d7101-17a3-489a-87a4-bf8450acdf1b label.sk-toggleable__label {cursor: pointer;display: block;width: 100%;margin-bottom: 0;padding: 0.3em;box-sizing: border-box;text-align: center;}#sk-0d4d7101-17a3-489a-87a4-bf8450acdf1b label.sk-toggleable__label-arrow:before {content: \"▸\";float: left;margin-right: 0.25em;color: #696969;}#sk-0d4d7101-17a3-489a-87a4-bf8450acdf1b label.sk-toggleable__label-arrow:hover:before {color: black;}#sk-0d4d7101-17a3-489a-87a4-bf8450acdf1b div.sk-estimator:hover label.sk-toggleable__label-arrow:before {color: black;}#sk-0d4d7101-17a3-489a-87a4-bf8450acdf1b div.sk-toggleable__content {max-height: 0;max-width: 0;overflow: hidden;text-align: left;background-color: #f0f8ff;}#sk-0d4d7101-17a3-489a-87a4-bf8450acdf1b div.sk-toggleable__content pre {margin: 0.2em;color: black;border-radius: 0.25em;background-color: #f0f8ff;}#sk-0d4d7101-17a3-489a-87a4-bf8450acdf1b input.sk-toggleable__control:checked~div.sk-toggleable__content {max-height: 200px;max-width: 100%;overflow: auto;}#sk-0d4d7101-17a3-489a-87a4-bf8450acdf1b input.sk-toggleable__control:checked~label.sk-toggleable__label-arrow:before {content: \"▾\";}#sk-0d4d7101-17a3-489a-87a4-bf8450acdf1b div.sk-estimator input.sk-toggleable__control:checked~label.sk-toggleable__label {background-color: #d4ebff;}#sk-0d4d7101-17a3-489a-87a4-bf8450acdf1b div.sk-label input.sk-toggleable__control:checked~label.sk-toggleable__label {background-color: #d4ebff;}#sk-0d4d7101-17a3-489a-87a4-bf8450acdf1b input.sk-hidden--visually {border: 0;clip: rect(1px 1px 1px 1px);clip: rect(1px, 1px, 1px, 1px);height: 1px;margin: -1px;overflow: hidden;padding: 0;position: absolute;width: 1px;}#sk-0d4d7101-17a3-489a-87a4-bf8450acdf1b div.sk-estimator {font-family: monospace;background-color: #f0f8ff;border: 1px dotted black;border-radius: 0.25em;box-sizing: border-box;margin-bottom: 0.5em;}#sk-0d4d7101-17a3-489a-87a4-bf8450acdf1b div.sk-estimator:hover {background-color: #d4ebff;}#sk-0d4d7101-17a3-489a-87a4-bf8450acdf1b div.sk-parallel-item::after {content: \"\";width: 100%;border-bottom: 1px solid gray;flex-grow: 1;}#sk-0d4d7101-17a3-489a-87a4-bf8450acdf1b div.sk-label:hover label.sk-toggleable__label {background-color: #d4ebff;}#sk-0d4d7101-17a3-489a-87a4-bf8450acdf1b div.sk-serial::before {content: \"\";position: absolute;border-left: 1px solid gray;box-sizing: border-box;top: 2em;bottom: 0;left: 50%;}#sk-0d4d7101-17a3-489a-87a4-bf8450acdf1b div.sk-serial {display: flex;flex-direction: column;align-items: center;background-color: white;padding-right: 0.2em;padding-left: 0.2em;}#sk-0d4d7101-17a3-489a-87a4-bf8450acdf1b div.sk-item {z-index: 1;}#sk-0d4d7101-17a3-489a-87a4-bf8450acdf1b div.sk-parallel {display: flex;align-items: stretch;justify-content: center;background-color: white;}#sk-0d4d7101-17a3-489a-87a4-bf8450acdf1b div.sk-parallel::before {content: \"\";position: absolute;border-left: 1px solid gray;box-sizing: border-box;top: 2em;bottom: 0;left: 50%;}#sk-0d4d7101-17a3-489a-87a4-bf8450acdf1b div.sk-parallel-item {display: flex;flex-direction: column;position: relative;background-color: white;}#sk-0d4d7101-17a3-489a-87a4-bf8450acdf1b div.sk-parallel-item:first-child::after {align-self: flex-end;width: 50%;}#sk-0d4d7101-17a3-489a-87a4-bf8450acdf1b div.sk-parallel-item:last-child::after {align-self: flex-start;width: 50%;}#sk-0d4d7101-17a3-489a-87a4-bf8450acdf1b div.sk-parallel-item:only-child::after {width: 0;}#sk-0d4d7101-17a3-489a-87a4-bf8450acdf1b div.sk-dashed-wrapped {border: 1px dashed gray;margin: 0 0.4em 0.5em 0.4em;box-sizing: border-box;padding-bottom: 0.4em;background-color: white;position: relative;}#sk-0d4d7101-17a3-489a-87a4-bf8450acdf1b div.sk-label label {font-family: monospace;font-weight: bold;background-color: white;display: inline-block;line-height: 1.2em;}#sk-0d4d7101-17a3-489a-87a4-bf8450acdf1b div.sk-label-container {position: relative;z-index: 2;text-align: center;}#sk-0d4d7101-17a3-489a-87a4-bf8450acdf1b div.sk-container {/* jupyter's `normalize.less` sets `[hidden] { display: none; }` but bootstrap.min.css set `[hidden] { display: none !important; }` so we also need the `!important` here to be able to override the default hidden behavior on the sphinx rendered scikit-learn.org. See: https://github.com/scikit-learn/scikit-learn/issues/21755 */display: inline-block !important;position: relative;}#sk-0d4d7101-17a3-489a-87a4-bf8450acdf1b div.sk-text-repr-fallback {display: none;}</style><div id=\"sk-0d4d7101-17a3-489a-87a4-bf8450acdf1b\" class=\"sk-top-container\"><div class=\"sk-text-repr-fallback\"><pre>Pipeline(steps=[(&#x27;simpleimputer&#x27;, SimpleImputer(strategy=&#x27;most_frequent&#x27;)),\n",
              "                (&#x27;onehotencoder&#x27;,\n",
              "                 OneHotEncoder(handle_unknown=&#x27;ignore&#x27;, sparse=False))])</pre><b>Please rerun this cell to show the HTML repr or trust the notebook.</b></div><div class=\"sk-container\" hidden><div class=\"sk-item sk-dashed-wrapped\"><div class=\"sk-label-container\"><div class=\"sk-label sk-toggleable\"><input class=\"sk-toggleable__control sk-hidden--visually\" id=\"b518bbc2-6281-40f8-b84d-e5e6eef8b9cd\" type=\"checkbox\" ><label for=\"b518bbc2-6281-40f8-b84d-e5e6eef8b9cd\" class=\"sk-toggleable__label sk-toggleable__label-arrow\">Pipeline</label><div class=\"sk-toggleable__content\"><pre>Pipeline(steps=[(&#x27;simpleimputer&#x27;, SimpleImputer(strategy=&#x27;most_frequent&#x27;)),\n",
              "                (&#x27;onehotencoder&#x27;,\n",
              "                 OneHotEncoder(handle_unknown=&#x27;ignore&#x27;, sparse=False))])</pre></div></div></div><div class=\"sk-serial\"><div class=\"sk-item\"><div class=\"sk-estimator sk-toggleable\"><input class=\"sk-toggleable__control sk-hidden--visually\" id=\"db9b46eb-bd4e-45dd-8398-569b42b36073\" type=\"checkbox\" ><label for=\"db9b46eb-bd4e-45dd-8398-569b42b36073\" class=\"sk-toggleable__label sk-toggleable__label-arrow\">SimpleImputer</label><div class=\"sk-toggleable__content\"><pre>SimpleImputer(strategy=&#x27;most_frequent&#x27;)</pre></div></div></div><div class=\"sk-item\"><div class=\"sk-estimator sk-toggleable\"><input class=\"sk-toggleable__control sk-hidden--visually\" id=\"517c5884-73ee-47be-931c-543a49ce5571\" type=\"checkbox\" ><label for=\"517c5884-73ee-47be-931c-543a49ce5571\" class=\"sk-toggleable__label sk-toggleable__label-arrow\">OneHotEncoder</label><div class=\"sk-toggleable__content\"><pre>OneHotEncoder(handle_unknown=&#x27;ignore&#x27;, sparse=False)</pre></div></div></div></div></div></div></div>"
            ]
          },
          "metadata": {},
          "execution_count": 17
        }
      ],
      "source": [
        "# Categorical pipeline\n",
        "categorical_pipe = make_pipeline(freq_imputer,ohe)\n",
        "categorical_pipe"
      ]
    },
    {
      "cell_type": "markdown",
      "metadata": {
        "id": "nWzKu1qhtxzl"
      },
      "source": [
        "### **ColumnTransformer**"
      ]
    },
    {
      "cell_type": "code",
      "execution_count": null,
      "metadata": {
        "colab": {
          "base_uri": "https://localhost:8080/",
          "height": 118
        },
        "id": "lLQsm7MscxHc",
        "outputId": "4e16aa26-cf9d-46d5-bb46-17bc51b7ab25"
      },
      "outputs": [
        {
          "output_type": "execute_result",
          "data": {
            "text/plain": [
              "ColumnTransformer(transformers=[('simpleimputer-1', SimpleImputer(),\n",
              "                                 <sklearn.compose._column_transformer.make_column_selector object at 0x7fce6290a940>),\n",
              "                                ('simpleimputer-2',\n",
              "                                 SimpleImputer(strategy='most_frequent'),\n",
              "                                 <sklearn.compose._column_transformer.make_column_selector object at 0x7fce6290a1c0>)])"
            ],
            "text/html": [
              "<style>#sk-a3c1ec93-4fa7-44fc-a64a-5cbd5081f0e2 {color: black;background-color: white;}#sk-a3c1ec93-4fa7-44fc-a64a-5cbd5081f0e2 pre{padding: 0;}#sk-a3c1ec93-4fa7-44fc-a64a-5cbd5081f0e2 div.sk-toggleable {background-color: white;}#sk-a3c1ec93-4fa7-44fc-a64a-5cbd5081f0e2 label.sk-toggleable__label {cursor: pointer;display: block;width: 100%;margin-bottom: 0;padding: 0.3em;box-sizing: border-box;text-align: center;}#sk-a3c1ec93-4fa7-44fc-a64a-5cbd5081f0e2 label.sk-toggleable__label-arrow:before {content: \"▸\";float: left;margin-right: 0.25em;color: #696969;}#sk-a3c1ec93-4fa7-44fc-a64a-5cbd5081f0e2 label.sk-toggleable__label-arrow:hover:before {color: black;}#sk-a3c1ec93-4fa7-44fc-a64a-5cbd5081f0e2 div.sk-estimator:hover label.sk-toggleable__label-arrow:before {color: black;}#sk-a3c1ec93-4fa7-44fc-a64a-5cbd5081f0e2 div.sk-toggleable__content {max-height: 0;max-width: 0;overflow: hidden;text-align: left;background-color: #f0f8ff;}#sk-a3c1ec93-4fa7-44fc-a64a-5cbd5081f0e2 div.sk-toggleable__content pre {margin: 0.2em;color: black;border-radius: 0.25em;background-color: #f0f8ff;}#sk-a3c1ec93-4fa7-44fc-a64a-5cbd5081f0e2 input.sk-toggleable__control:checked~div.sk-toggleable__content {max-height: 200px;max-width: 100%;overflow: auto;}#sk-a3c1ec93-4fa7-44fc-a64a-5cbd5081f0e2 input.sk-toggleable__control:checked~label.sk-toggleable__label-arrow:before {content: \"▾\";}#sk-a3c1ec93-4fa7-44fc-a64a-5cbd5081f0e2 div.sk-estimator input.sk-toggleable__control:checked~label.sk-toggleable__label {background-color: #d4ebff;}#sk-a3c1ec93-4fa7-44fc-a64a-5cbd5081f0e2 div.sk-label input.sk-toggleable__control:checked~label.sk-toggleable__label {background-color: #d4ebff;}#sk-a3c1ec93-4fa7-44fc-a64a-5cbd5081f0e2 input.sk-hidden--visually {border: 0;clip: rect(1px 1px 1px 1px);clip: rect(1px, 1px, 1px, 1px);height: 1px;margin: -1px;overflow: hidden;padding: 0;position: absolute;width: 1px;}#sk-a3c1ec93-4fa7-44fc-a64a-5cbd5081f0e2 div.sk-estimator {font-family: monospace;background-color: #f0f8ff;border: 1px dotted black;border-radius: 0.25em;box-sizing: border-box;margin-bottom: 0.5em;}#sk-a3c1ec93-4fa7-44fc-a64a-5cbd5081f0e2 div.sk-estimator:hover {background-color: #d4ebff;}#sk-a3c1ec93-4fa7-44fc-a64a-5cbd5081f0e2 div.sk-parallel-item::after {content: \"\";width: 100%;border-bottom: 1px solid gray;flex-grow: 1;}#sk-a3c1ec93-4fa7-44fc-a64a-5cbd5081f0e2 div.sk-label:hover label.sk-toggleable__label {background-color: #d4ebff;}#sk-a3c1ec93-4fa7-44fc-a64a-5cbd5081f0e2 div.sk-serial::before {content: \"\";position: absolute;border-left: 1px solid gray;box-sizing: border-box;top: 2em;bottom: 0;left: 50%;}#sk-a3c1ec93-4fa7-44fc-a64a-5cbd5081f0e2 div.sk-serial {display: flex;flex-direction: column;align-items: center;background-color: white;padding-right: 0.2em;padding-left: 0.2em;}#sk-a3c1ec93-4fa7-44fc-a64a-5cbd5081f0e2 div.sk-item {z-index: 1;}#sk-a3c1ec93-4fa7-44fc-a64a-5cbd5081f0e2 div.sk-parallel {display: flex;align-items: stretch;justify-content: center;background-color: white;}#sk-a3c1ec93-4fa7-44fc-a64a-5cbd5081f0e2 div.sk-parallel::before {content: \"\";position: absolute;border-left: 1px solid gray;box-sizing: border-box;top: 2em;bottom: 0;left: 50%;}#sk-a3c1ec93-4fa7-44fc-a64a-5cbd5081f0e2 div.sk-parallel-item {display: flex;flex-direction: column;position: relative;background-color: white;}#sk-a3c1ec93-4fa7-44fc-a64a-5cbd5081f0e2 div.sk-parallel-item:first-child::after {align-self: flex-end;width: 50%;}#sk-a3c1ec93-4fa7-44fc-a64a-5cbd5081f0e2 div.sk-parallel-item:last-child::after {align-self: flex-start;width: 50%;}#sk-a3c1ec93-4fa7-44fc-a64a-5cbd5081f0e2 div.sk-parallel-item:only-child::after {width: 0;}#sk-a3c1ec93-4fa7-44fc-a64a-5cbd5081f0e2 div.sk-dashed-wrapped {border: 1px dashed gray;margin: 0 0.4em 0.5em 0.4em;box-sizing: border-box;padding-bottom: 0.4em;background-color: white;position: relative;}#sk-a3c1ec93-4fa7-44fc-a64a-5cbd5081f0e2 div.sk-label label {font-family: monospace;font-weight: bold;background-color: white;display: inline-block;line-height: 1.2em;}#sk-a3c1ec93-4fa7-44fc-a64a-5cbd5081f0e2 div.sk-label-container {position: relative;z-index: 2;text-align: center;}#sk-a3c1ec93-4fa7-44fc-a64a-5cbd5081f0e2 div.sk-container {/* jupyter's `normalize.less` sets `[hidden] { display: none; }` but bootstrap.min.css set `[hidden] { display: none !important; }` so we also need the `!important` here to be able to override the default hidden behavior on the sphinx rendered scikit-learn.org. See: https://github.com/scikit-learn/scikit-learn/issues/21755 */display: inline-block !important;position: relative;}#sk-a3c1ec93-4fa7-44fc-a64a-5cbd5081f0e2 div.sk-text-repr-fallback {display: none;}</style><div id=\"sk-a3c1ec93-4fa7-44fc-a64a-5cbd5081f0e2\" class=\"sk-top-container\"><div class=\"sk-text-repr-fallback\"><pre>ColumnTransformer(transformers=[(&#x27;simpleimputer-1&#x27;, SimpleImputer(),\n",
              "                                 &lt;sklearn.compose._column_transformer.make_column_selector object at 0x7fce6290a940&gt;),\n",
              "                                (&#x27;simpleimputer-2&#x27;,\n",
              "                                 SimpleImputer(strategy=&#x27;most_frequent&#x27;),\n",
              "                                 &lt;sklearn.compose._column_transformer.make_column_selector object at 0x7fce6290a1c0&gt;)])</pre><b>Please rerun this cell to show the HTML repr or trust the notebook.</b></div><div class=\"sk-container\" hidden><div class=\"sk-item sk-dashed-wrapped\"><div class=\"sk-label-container\"><div class=\"sk-label sk-toggleable\"><input class=\"sk-toggleable__control sk-hidden--visually\" id=\"e00626bb-5d4d-4c4b-a392-a425d5d484eb\" type=\"checkbox\" ><label for=\"e00626bb-5d4d-4c4b-a392-a425d5d484eb\" class=\"sk-toggleable__label sk-toggleable__label-arrow\">ColumnTransformer</label><div class=\"sk-toggleable__content\"><pre>ColumnTransformer(transformers=[(&#x27;simpleimputer-1&#x27;, SimpleImputer(),\n",
              "                                 &lt;sklearn.compose._column_transformer.make_column_selector object at 0x7fce6290a940&gt;),\n",
              "                                (&#x27;simpleimputer-2&#x27;,\n",
              "                                 SimpleImputer(strategy=&#x27;most_frequent&#x27;),\n",
              "                                 &lt;sklearn.compose._column_transformer.make_column_selector object at 0x7fce6290a1c0&gt;)])</pre></div></div></div><div class=\"sk-parallel\"><div class=\"sk-parallel-item\"><div class=\"sk-item\"><div class=\"sk-label-container\"><div class=\"sk-label sk-toggleable\"><input class=\"sk-toggleable__control sk-hidden--visually\" id=\"1dd66aaa-47ea-4cf6-846d-4352cad16a1e\" type=\"checkbox\" ><label for=\"1dd66aaa-47ea-4cf6-846d-4352cad16a1e\" class=\"sk-toggleable__label sk-toggleable__label-arrow\">simpleimputer-1</label><div class=\"sk-toggleable__content\"><pre>&lt;sklearn.compose._column_transformer.make_column_selector object at 0x7fce6290a940&gt;</pre></div></div></div><div class=\"sk-serial\"><div class=\"sk-item\"><div class=\"sk-estimator sk-toggleable\"><input class=\"sk-toggleable__control sk-hidden--visually\" id=\"245e15ca-fc0e-4220-923d-200b69418c97\" type=\"checkbox\" ><label for=\"245e15ca-fc0e-4220-923d-200b69418c97\" class=\"sk-toggleable__label sk-toggleable__label-arrow\">SimpleImputer</label><div class=\"sk-toggleable__content\"><pre>SimpleImputer()</pre></div></div></div></div></div></div><div class=\"sk-parallel-item\"><div class=\"sk-item\"><div class=\"sk-label-container\"><div class=\"sk-label sk-toggleable\"><input class=\"sk-toggleable__control sk-hidden--visually\" id=\"2261f4d4-b605-4d09-85b1-d829b0b3ad1b\" type=\"checkbox\" ><label for=\"2261f4d4-b605-4d09-85b1-d829b0b3ad1b\" class=\"sk-toggleable__label sk-toggleable__label-arrow\">simpleimputer-2</label><div class=\"sk-toggleable__content\"><pre>&lt;sklearn.compose._column_transformer.make_column_selector object at 0x7fce6290a1c0&gt;</pre></div></div></div><div class=\"sk-serial\"><div class=\"sk-item\"><div class=\"sk-estimator sk-toggleable\"><input class=\"sk-toggleable__control sk-hidden--visually\" id=\"6bc73071-d040-4887-9edc-723455ba1b18\" type=\"checkbox\" ><label for=\"6bc73071-d040-4887-9edc-723455ba1b18\" class=\"sk-toggleable__label sk-toggleable__label-arrow\">SimpleImputer</label><div class=\"sk-toggleable__content\"><pre>SimpleImputer(strategy=&#x27;most_frequent&#x27;)</pre></div></div></div></div></div></div></div></div></div></div>"
            ]
          },
          "metadata": {},
          "execution_count": 18
        }
      ],
      "source": [
        "# ColumnTransformer\n",
        "preprocessor = make_column_transformer(num_tuple,cat_tuple,remainder='drop')\n",
        "preprocessor"
      ]
    },
    {
      "cell_type": "markdown",
      "source": [
        "## **Data Modeling**"
      ],
      "metadata": {
        "id": "MGIG_sRRvpdH"
      }
    },
    {
      "cell_type": "markdown",
      "source": [
        "### **Baseline Model**"
      ],
      "metadata": {
        "id": "cpnpHJacvtzP"
      }
    },
    {
      "cell_type": "code",
      "source": [
        "# creating an instance of the model\n",
        "dummy = DummyRegressor(strategy='mean')\n",
        "\n",
        "# creating a model pipeline\n",
        "dummy_pipe = make_pipeline(preprocessor, dummy)\n",
        "\n",
        "# fitting the model\n",
        "dummy_pipe.fit(X_train,y_train)"
      ],
      "metadata": {
        "colab": {
          "base_uri": "https://localhost:8080/",
          "height": 192
        },
        "id": "EX6HLqgUvxkd",
        "outputId": "3012343e-3926-4b12-d47e-baf9f0cf859b"
      },
      "execution_count": null,
      "outputs": [
        {
          "output_type": "execute_result",
          "data": {
            "text/plain": [
              "Pipeline(steps=[('columntransformer',\n",
              "                 ColumnTransformer(transformers=[('simpleimputer-1',\n",
              "                                                  SimpleImputer(),\n",
              "                                                  <sklearn.compose._column_transformer.make_column_selector object at 0x7fce6290a940>),\n",
              "                                                 ('simpleimputer-2',\n",
              "                                                  SimpleImputer(strategy='most_frequent'),\n",
              "                                                  <sklearn.compose._column_transformer.make_column_selector object at 0x7fce6290a1c0>)])),\n",
              "                ('dummyregressor', DummyRegressor())])"
            ],
            "text/html": [
              "<style>#sk-f1252d0e-d089-41b7-aaac-9fc30a8fbfe3 {color: black;background-color: white;}#sk-f1252d0e-d089-41b7-aaac-9fc30a8fbfe3 pre{padding: 0;}#sk-f1252d0e-d089-41b7-aaac-9fc30a8fbfe3 div.sk-toggleable {background-color: white;}#sk-f1252d0e-d089-41b7-aaac-9fc30a8fbfe3 label.sk-toggleable__label {cursor: pointer;display: block;width: 100%;margin-bottom: 0;padding: 0.3em;box-sizing: border-box;text-align: center;}#sk-f1252d0e-d089-41b7-aaac-9fc30a8fbfe3 label.sk-toggleable__label-arrow:before {content: \"▸\";float: left;margin-right: 0.25em;color: #696969;}#sk-f1252d0e-d089-41b7-aaac-9fc30a8fbfe3 label.sk-toggleable__label-arrow:hover:before {color: black;}#sk-f1252d0e-d089-41b7-aaac-9fc30a8fbfe3 div.sk-estimator:hover label.sk-toggleable__label-arrow:before {color: black;}#sk-f1252d0e-d089-41b7-aaac-9fc30a8fbfe3 div.sk-toggleable__content {max-height: 0;max-width: 0;overflow: hidden;text-align: left;background-color: #f0f8ff;}#sk-f1252d0e-d089-41b7-aaac-9fc30a8fbfe3 div.sk-toggleable__content pre {margin: 0.2em;color: black;border-radius: 0.25em;background-color: #f0f8ff;}#sk-f1252d0e-d089-41b7-aaac-9fc30a8fbfe3 input.sk-toggleable__control:checked~div.sk-toggleable__content {max-height: 200px;max-width: 100%;overflow: auto;}#sk-f1252d0e-d089-41b7-aaac-9fc30a8fbfe3 input.sk-toggleable__control:checked~label.sk-toggleable__label-arrow:before {content: \"▾\";}#sk-f1252d0e-d089-41b7-aaac-9fc30a8fbfe3 div.sk-estimator input.sk-toggleable__control:checked~label.sk-toggleable__label {background-color: #d4ebff;}#sk-f1252d0e-d089-41b7-aaac-9fc30a8fbfe3 div.sk-label input.sk-toggleable__control:checked~label.sk-toggleable__label {background-color: #d4ebff;}#sk-f1252d0e-d089-41b7-aaac-9fc30a8fbfe3 input.sk-hidden--visually {border: 0;clip: rect(1px 1px 1px 1px);clip: rect(1px, 1px, 1px, 1px);height: 1px;margin: -1px;overflow: hidden;padding: 0;position: absolute;width: 1px;}#sk-f1252d0e-d089-41b7-aaac-9fc30a8fbfe3 div.sk-estimator {font-family: monospace;background-color: #f0f8ff;border: 1px dotted black;border-radius: 0.25em;box-sizing: border-box;margin-bottom: 0.5em;}#sk-f1252d0e-d089-41b7-aaac-9fc30a8fbfe3 div.sk-estimator:hover {background-color: #d4ebff;}#sk-f1252d0e-d089-41b7-aaac-9fc30a8fbfe3 div.sk-parallel-item::after {content: \"\";width: 100%;border-bottom: 1px solid gray;flex-grow: 1;}#sk-f1252d0e-d089-41b7-aaac-9fc30a8fbfe3 div.sk-label:hover label.sk-toggleable__label {background-color: #d4ebff;}#sk-f1252d0e-d089-41b7-aaac-9fc30a8fbfe3 div.sk-serial::before {content: \"\";position: absolute;border-left: 1px solid gray;box-sizing: border-box;top: 2em;bottom: 0;left: 50%;}#sk-f1252d0e-d089-41b7-aaac-9fc30a8fbfe3 div.sk-serial {display: flex;flex-direction: column;align-items: center;background-color: white;padding-right: 0.2em;padding-left: 0.2em;}#sk-f1252d0e-d089-41b7-aaac-9fc30a8fbfe3 div.sk-item {z-index: 1;}#sk-f1252d0e-d089-41b7-aaac-9fc30a8fbfe3 div.sk-parallel {display: flex;align-items: stretch;justify-content: center;background-color: white;}#sk-f1252d0e-d089-41b7-aaac-9fc30a8fbfe3 div.sk-parallel::before {content: \"\";position: absolute;border-left: 1px solid gray;box-sizing: border-box;top: 2em;bottom: 0;left: 50%;}#sk-f1252d0e-d089-41b7-aaac-9fc30a8fbfe3 div.sk-parallel-item {display: flex;flex-direction: column;position: relative;background-color: white;}#sk-f1252d0e-d089-41b7-aaac-9fc30a8fbfe3 div.sk-parallel-item:first-child::after {align-self: flex-end;width: 50%;}#sk-f1252d0e-d089-41b7-aaac-9fc30a8fbfe3 div.sk-parallel-item:last-child::after {align-self: flex-start;width: 50%;}#sk-f1252d0e-d089-41b7-aaac-9fc30a8fbfe3 div.sk-parallel-item:only-child::after {width: 0;}#sk-f1252d0e-d089-41b7-aaac-9fc30a8fbfe3 div.sk-dashed-wrapped {border: 1px dashed gray;margin: 0 0.4em 0.5em 0.4em;box-sizing: border-box;padding-bottom: 0.4em;background-color: white;position: relative;}#sk-f1252d0e-d089-41b7-aaac-9fc30a8fbfe3 div.sk-label label {font-family: monospace;font-weight: bold;background-color: white;display: inline-block;line-height: 1.2em;}#sk-f1252d0e-d089-41b7-aaac-9fc30a8fbfe3 div.sk-label-container {position: relative;z-index: 2;text-align: center;}#sk-f1252d0e-d089-41b7-aaac-9fc30a8fbfe3 div.sk-container {/* jupyter's `normalize.less` sets `[hidden] { display: none; }` but bootstrap.min.css set `[hidden] { display: none !important; }` so we also need the `!important` here to be able to override the default hidden behavior on the sphinx rendered scikit-learn.org. See: https://github.com/scikit-learn/scikit-learn/issues/21755 */display: inline-block !important;position: relative;}#sk-f1252d0e-d089-41b7-aaac-9fc30a8fbfe3 div.sk-text-repr-fallback {display: none;}</style><div id=\"sk-f1252d0e-d089-41b7-aaac-9fc30a8fbfe3\" class=\"sk-top-container\"><div class=\"sk-text-repr-fallback\"><pre>Pipeline(steps=[(&#x27;columntransformer&#x27;,\n",
              "                 ColumnTransformer(transformers=[(&#x27;simpleimputer-1&#x27;,\n",
              "                                                  SimpleImputer(),\n",
              "                                                  &lt;sklearn.compose._column_transformer.make_column_selector object at 0x7fce6290a940&gt;),\n",
              "                                                 (&#x27;simpleimputer-2&#x27;,\n",
              "                                                  SimpleImputer(strategy=&#x27;most_frequent&#x27;),\n",
              "                                                  &lt;sklearn.compose._column_transformer.make_column_selector object at 0x7fce6290a1c0&gt;)])),\n",
              "                (&#x27;dummyregressor&#x27;, DummyRegressor())])</pre><b>Please rerun this cell to show the HTML repr or trust the notebook.</b></div><div class=\"sk-container\" hidden><div class=\"sk-item sk-dashed-wrapped\"><div class=\"sk-label-container\"><div class=\"sk-label sk-toggleable\"><input class=\"sk-toggleable__control sk-hidden--visually\" id=\"2e68764c-98d2-40af-a8a1-3d5300e3b98d\" type=\"checkbox\" ><label for=\"2e68764c-98d2-40af-a8a1-3d5300e3b98d\" class=\"sk-toggleable__label sk-toggleable__label-arrow\">Pipeline</label><div class=\"sk-toggleable__content\"><pre>Pipeline(steps=[(&#x27;columntransformer&#x27;,\n",
              "                 ColumnTransformer(transformers=[(&#x27;simpleimputer-1&#x27;,\n",
              "                                                  SimpleImputer(),\n",
              "                                                  &lt;sklearn.compose._column_transformer.make_column_selector object at 0x7fce6290a940&gt;),\n",
              "                                                 (&#x27;simpleimputer-2&#x27;,\n",
              "                                                  SimpleImputer(strategy=&#x27;most_frequent&#x27;),\n",
              "                                                  &lt;sklearn.compose._column_transformer.make_column_selector object at 0x7fce6290a1c0&gt;)])),\n",
              "                (&#x27;dummyregressor&#x27;, DummyRegressor())])</pre></div></div></div><div class=\"sk-serial\"><div class=\"sk-item sk-dashed-wrapped\"><div class=\"sk-label-container\"><div class=\"sk-label sk-toggleable\"><input class=\"sk-toggleable__control sk-hidden--visually\" id=\"94f8ce53-7253-4106-9f85-b3f5ae464d07\" type=\"checkbox\" ><label for=\"94f8ce53-7253-4106-9f85-b3f5ae464d07\" class=\"sk-toggleable__label sk-toggleable__label-arrow\">columntransformer: ColumnTransformer</label><div class=\"sk-toggleable__content\"><pre>ColumnTransformer(transformers=[(&#x27;simpleimputer-1&#x27;, SimpleImputer(),\n",
              "                                 &lt;sklearn.compose._column_transformer.make_column_selector object at 0x7fce6290a940&gt;),\n",
              "                                (&#x27;simpleimputer-2&#x27;,\n",
              "                                 SimpleImputer(strategy=&#x27;most_frequent&#x27;),\n",
              "                                 &lt;sklearn.compose._column_transformer.make_column_selector object at 0x7fce6290a1c0&gt;)])</pre></div></div></div><div class=\"sk-parallel\"><div class=\"sk-parallel-item\"><div class=\"sk-item\"><div class=\"sk-label-container\"><div class=\"sk-label sk-toggleable\"><input class=\"sk-toggleable__control sk-hidden--visually\" id=\"284d849d-87b2-400c-9ca2-3735f2d32110\" type=\"checkbox\" ><label for=\"284d849d-87b2-400c-9ca2-3735f2d32110\" class=\"sk-toggleable__label sk-toggleable__label-arrow\">simpleimputer-1</label><div class=\"sk-toggleable__content\"><pre>&lt;sklearn.compose._column_transformer.make_column_selector object at 0x7fce6290a940&gt;</pre></div></div></div><div class=\"sk-serial\"><div class=\"sk-item\"><div class=\"sk-estimator sk-toggleable\"><input class=\"sk-toggleable__control sk-hidden--visually\" id=\"86120941-0c97-46d6-8d58-d32063757bb3\" type=\"checkbox\" ><label for=\"86120941-0c97-46d6-8d58-d32063757bb3\" class=\"sk-toggleable__label sk-toggleable__label-arrow\">SimpleImputer</label><div class=\"sk-toggleable__content\"><pre>SimpleImputer()</pre></div></div></div></div></div></div><div class=\"sk-parallel-item\"><div class=\"sk-item\"><div class=\"sk-label-container\"><div class=\"sk-label sk-toggleable\"><input class=\"sk-toggleable__control sk-hidden--visually\" id=\"f9956a9f-e4a5-437c-826b-ea3505f57a92\" type=\"checkbox\" ><label for=\"f9956a9f-e4a5-437c-826b-ea3505f57a92\" class=\"sk-toggleable__label sk-toggleable__label-arrow\">simpleimputer-2</label><div class=\"sk-toggleable__content\"><pre>&lt;sklearn.compose._column_transformer.make_column_selector object at 0x7fce6290a1c0&gt;</pre></div></div></div><div class=\"sk-serial\"><div class=\"sk-item\"><div class=\"sk-estimator sk-toggleable\"><input class=\"sk-toggleable__control sk-hidden--visually\" id=\"614c49a6-d113-4613-abbd-048b79e6415b\" type=\"checkbox\" ><label for=\"614c49a6-d113-4613-abbd-048b79e6415b\" class=\"sk-toggleable__label sk-toggleable__label-arrow\">SimpleImputer</label><div class=\"sk-toggleable__content\"><pre>SimpleImputer(strategy=&#x27;most_frequent&#x27;)</pre></div></div></div></div></div></div></div></div><div class=\"sk-item\"><div class=\"sk-estimator sk-toggleable\"><input class=\"sk-toggleable__control sk-hidden--visually\" id=\"e2ba04e9-915e-4a48-bc1b-715a20eb67db\" type=\"checkbox\" ><label for=\"e2ba04e9-915e-4a48-bc1b-715a20eb67db\" class=\"sk-toggleable__label sk-toggleable__label-arrow\">DummyRegressor</label><div class=\"sk-toggleable__content\"><pre>DummyRegressor()</pre></div></div></div></div></div></div></div>"
            ]
          },
          "metadata": {},
          "execution_count": 19
        }
      ]
    },
    {
      "cell_type": "markdown",
      "source": [
        "##**Metrics**"
      ],
      "metadata": {
        "id": "fuzNat-hw0cH"
      }
    },
    {
      "cell_type": "code",
      "source": [
        "# Displaying model performance metrics using a function\n",
        "evaluation_model(pipe=dummy_pipe, model_name='Dummy Model', x_train=X_train, x_test=X_test)"
      ],
      "metadata": {
        "colab": {
          "base_uri": "https://localhost:8080/"
        },
        "id": "Y-9zK4NwxRSO",
        "outputId": "270122f0-64ab-43c1-f8f9-ae53941c7c00"
      },
      "execution_count": null,
      "outputs": [
        {
          "output_type": "stream",
          "name": "stdout",
          "text": [
            "Dummy Model Train Scores\n",
            "MAE: 1,360.2184 \n",
            "MSE: 2,959,455.7045 \n",
            "RMSE: 1,720.3069 \n",
            "R2: 0.0000\n",
            "\n",
            "Dummy Model Test Scores\n",
            "MAE: 1,326.1210 \n",
            "MSE: 2,772,144.4627 \n",
            "RMSE: 1,664.9758 \n",
            "R2: -0.0048\n",
            "\n"
          ]
        }
      ]
    },
    {
      "cell_type": "markdown",
      "metadata": {
        "id": "qI5N07KpkGKb"
      },
      "source": [
        "##**Model 1: Building Linear Regression Model**\n"
      ]
    },
    {
      "cell_type": "code",
      "source": [
        "# creating an instance of the model\n",
        "lin_reg = LinearRegression()\n",
        "\n",
        "# creating a model pipeline\n",
        "lin_reg_pipe = make_pipeline(preprocessor, lin_reg)\n",
        "\n",
        "# fitting the model\n",
        "lin_reg_pipe.fit(X_train,y_train)"
      ],
      "metadata": {
        "colab": {
          "base_uri": "https://localhost:8080/",
          "height": 192
        },
        "id": "y9D3Qz_GzXNW",
        "outputId": "b0afeb56-0747-4724-e2c1-1be2e98dc047"
      },
      "execution_count": null,
      "outputs": [
        {
          "output_type": "execute_result",
          "data": {
            "text/plain": [
              "Pipeline(steps=[('columntransformer',\n",
              "                 ColumnTransformer(transformers=[('simpleimputer-1',\n",
              "                                                  SimpleImputer(),\n",
              "                                                  <sklearn.compose._column_transformer.make_column_selector object at 0x7fce6290a940>),\n",
              "                                                 ('simpleimputer-2',\n",
              "                                                  SimpleImputer(strategy='most_frequent'),\n",
              "                                                  <sklearn.compose._column_transformer.make_column_selector object at 0x7fce6290a1c0>)])),\n",
              "                ('linearregression', LinearRegression())])"
            ],
            "text/html": [
              "<style>#sk-bc9c05cc-edd9-4ced-9b7f-e8cf79f14fe4 {color: black;background-color: white;}#sk-bc9c05cc-edd9-4ced-9b7f-e8cf79f14fe4 pre{padding: 0;}#sk-bc9c05cc-edd9-4ced-9b7f-e8cf79f14fe4 div.sk-toggleable {background-color: white;}#sk-bc9c05cc-edd9-4ced-9b7f-e8cf79f14fe4 label.sk-toggleable__label {cursor: pointer;display: block;width: 100%;margin-bottom: 0;padding: 0.3em;box-sizing: border-box;text-align: center;}#sk-bc9c05cc-edd9-4ced-9b7f-e8cf79f14fe4 label.sk-toggleable__label-arrow:before {content: \"▸\";float: left;margin-right: 0.25em;color: #696969;}#sk-bc9c05cc-edd9-4ced-9b7f-e8cf79f14fe4 label.sk-toggleable__label-arrow:hover:before {color: black;}#sk-bc9c05cc-edd9-4ced-9b7f-e8cf79f14fe4 div.sk-estimator:hover label.sk-toggleable__label-arrow:before {color: black;}#sk-bc9c05cc-edd9-4ced-9b7f-e8cf79f14fe4 div.sk-toggleable__content {max-height: 0;max-width: 0;overflow: hidden;text-align: left;background-color: #f0f8ff;}#sk-bc9c05cc-edd9-4ced-9b7f-e8cf79f14fe4 div.sk-toggleable__content pre {margin: 0.2em;color: black;border-radius: 0.25em;background-color: #f0f8ff;}#sk-bc9c05cc-edd9-4ced-9b7f-e8cf79f14fe4 input.sk-toggleable__control:checked~div.sk-toggleable__content {max-height: 200px;max-width: 100%;overflow: auto;}#sk-bc9c05cc-edd9-4ced-9b7f-e8cf79f14fe4 input.sk-toggleable__control:checked~label.sk-toggleable__label-arrow:before {content: \"▾\";}#sk-bc9c05cc-edd9-4ced-9b7f-e8cf79f14fe4 div.sk-estimator input.sk-toggleable__control:checked~label.sk-toggleable__label {background-color: #d4ebff;}#sk-bc9c05cc-edd9-4ced-9b7f-e8cf79f14fe4 div.sk-label input.sk-toggleable__control:checked~label.sk-toggleable__label {background-color: #d4ebff;}#sk-bc9c05cc-edd9-4ced-9b7f-e8cf79f14fe4 input.sk-hidden--visually {border: 0;clip: rect(1px 1px 1px 1px);clip: rect(1px, 1px, 1px, 1px);height: 1px;margin: -1px;overflow: hidden;padding: 0;position: absolute;width: 1px;}#sk-bc9c05cc-edd9-4ced-9b7f-e8cf79f14fe4 div.sk-estimator {font-family: monospace;background-color: #f0f8ff;border: 1px dotted black;border-radius: 0.25em;box-sizing: border-box;margin-bottom: 0.5em;}#sk-bc9c05cc-edd9-4ced-9b7f-e8cf79f14fe4 div.sk-estimator:hover {background-color: #d4ebff;}#sk-bc9c05cc-edd9-4ced-9b7f-e8cf79f14fe4 div.sk-parallel-item::after {content: \"\";width: 100%;border-bottom: 1px solid gray;flex-grow: 1;}#sk-bc9c05cc-edd9-4ced-9b7f-e8cf79f14fe4 div.sk-label:hover label.sk-toggleable__label {background-color: #d4ebff;}#sk-bc9c05cc-edd9-4ced-9b7f-e8cf79f14fe4 div.sk-serial::before {content: \"\";position: absolute;border-left: 1px solid gray;box-sizing: border-box;top: 2em;bottom: 0;left: 50%;}#sk-bc9c05cc-edd9-4ced-9b7f-e8cf79f14fe4 div.sk-serial {display: flex;flex-direction: column;align-items: center;background-color: white;padding-right: 0.2em;padding-left: 0.2em;}#sk-bc9c05cc-edd9-4ced-9b7f-e8cf79f14fe4 div.sk-item {z-index: 1;}#sk-bc9c05cc-edd9-4ced-9b7f-e8cf79f14fe4 div.sk-parallel {display: flex;align-items: stretch;justify-content: center;background-color: white;}#sk-bc9c05cc-edd9-4ced-9b7f-e8cf79f14fe4 div.sk-parallel::before {content: \"\";position: absolute;border-left: 1px solid gray;box-sizing: border-box;top: 2em;bottom: 0;left: 50%;}#sk-bc9c05cc-edd9-4ced-9b7f-e8cf79f14fe4 div.sk-parallel-item {display: flex;flex-direction: column;position: relative;background-color: white;}#sk-bc9c05cc-edd9-4ced-9b7f-e8cf79f14fe4 div.sk-parallel-item:first-child::after {align-self: flex-end;width: 50%;}#sk-bc9c05cc-edd9-4ced-9b7f-e8cf79f14fe4 div.sk-parallel-item:last-child::after {align-self: flex-start;width: 50%;}#sk-bc9c05cc-edd9-4ced-9b7f-e8cf79f14fe4 div.sk-parallel-item:only-child::after {width: 0;}#sk-bc9c05cc-edd9-4ced-9b7f-e8cf79f14fe4 div.sk-dashed-wrapped {border: 1px dashed gray;margin: 0 0.4em 0.5em 0.4em;box-sizing: border-box;padding-bottom: 0.4em;background-color: white;position: relative;}#sk-bc9c05cc-edd9-4ced-9b7f-e8cf79f14fe4 div.sk-label label {font-family: monospace;font-weight: bold;background-color: white;display: inline-block;line-height: 1.2em;}#sk-bc9c05cc-edd9-4ced-9b7f-e8cf79f14fe4 div.sk-label-container {position: relative;z-index: 2;text-align: center;}#sk-bc9c05cc-edd9-4ced-9b7f-e8cf79f14fe4 div.sk-container {/* jupyter's `normalize.less` sets `[hidden] { display: none; }` but bootstrap.min.css set `[hidden] { display: none !important; }` so we also need the `!important` here to be able to override the default hidden behavior on the sphinx rendered scikit-learn.org. See: https://github.com/scikit-learn/scikit-learn/issues/21755 */display: inline-block !important;position: relative;}#sk-bc9c05cc-edd9-4ced-9b7f-e8cf79f14fe4 div.sk-text-repr-fallback {display: none;}</style><div id=\"sk-bc9c05cc-edd9-4ced-9b7f-e8cf79f14fe4\" class=\"sk-top-container\"><div class=\"sk-text-repr-fallback\"><pre>Pipeline(steps=[(&#x27;columntransformer&#x27;,\n",
              "                 ColumnTransformer(transformers=[(&#x27;simpleimputer-1&#x27;,\n",
              "                                                  SimpleImputer(),\n",
              "                                                  &lt;sklearn.compose._column_transformer.make_column_selector object at 0x7fce6290a940&gt;),\n",
              "                                                 (&#x27;simpleimputer-2&#x27;,\n",
              "                                                  SimpleImputer(strategy=&#x27;most_frequent&#x27;),\n",
              "                                                  &lt;sklearn.compose._column_transformer.make_column_selector object at 0x7fce6290a1c0&gt;)])),\n",
              "                (&#x27;linearregression&#x27;, LinearRegression())])</pre><b>Please rerun this cell to show the HTML repr or trust the notebook.</b></div><div class=\"sk-container\" hidden><div class=\"sk-item sk-dashed-wrapped\"><div class=\"sk-label-container\"><div class=\"sk-label sk-toggleable\"><input class=\"sk-toggleable__control sk-hidden--visually\" id=\"d3cdbcbb-09f8-4943-8f75-f7a725726fdf\" type=\"checkbox\" ><label for=\"d3cdbcbb-09f8-4943-8f75-f7a725726fdf\" class=\"sk-toggleable__label sk-toggleable__label-arrow\">Pipeline</label><div class=\"sk-toggleable__content\"><pre>Pipeline(steps=[(&#x27;columntransformer&#x27;,\n",
              "                 ColumnTransformer(transformers=[(&#x27;simpleimputer-1&#x27;,\n",
              "                                                  SimpleImputer(),\n",
              "                                                  &lt;sklearn.compose._column_transformer.make_column_selector object at 0x7fce6290a940&gt;),\n",
              "                                                 (&#x27;simpleimputer-2&#x27;,\n",
              "                                                  SimpleImputer(strategy=&#x27;most_frequent&#x27;),\n",
              "                                                  &lt;sklearn.compose._column_transformer.make_column_selector object at 0x7fce6290a1c0&gt;)])),\n",
              "                (&#x27;linearregression&#x27;, LinearRegression())])</pre></div></div></div><div class=\"sk-serial\"><div class=\"sk-item sk-dashed-wrapped\"><div class=\"sk-label-container\"><div class=\"sk-label sk-toggleable\"><input class=\"sk-toggleable__control sk-hidden--visually\" id=\"b6e35cc9-f015-44db-9827-2848010cdfdb\" type=\"checkbox\" ><label for=\"b6e35cc9-f015-44db-9827-2848010cdfdb\" class=\"sk-toggleable__label sk-toggleable__label-arrow\">columntransformer: ColumnTransformer</label><div class=\"sk-toggleable__content\"><pre>ColumnTransformer(transformers=[(&#x27;simpleimputer-1&#x27;, SimpleImputer(),\n",
              "                                 &lt;sklearn.compose._column_transformer.make_column_selector object at 0x7fce6290a940&gt;),\n",
              "                                (&#x27;simpleimputer-2&#x27;,\n",
              "                                 SimpleImputer(strategy=&#x27;most_frequent&#x27;),\n",
              "                                 &lt;sklearn.compose._column_transformer.make_column_selector object at 0x7fce6290a1c0&gt;)])</pre></div></div></div><div class=\"sk-parallel\"><div class=\"sk-parallel-item\"><div class=\"sk-item\"><div class=\"sk-label-container\"><div class=\"sk-label sk-toggleable\"><input class=\"sk-toggleable__control sk-hidden--visually\" id=\"8a3e0753-9b55-40b2-aeda-a89ba181277d\" type=\"checkbox\" ><label for=\"8a3e0753-9b55-40b2-aeda-a89ba181277d\" class=\"sk-toggleable__label sk-toggleable__label-arrow\">simpleimputer-1</label><div class=\"sk-toggleable__content\"><pre>&lt;sklearn.compose._column_transformer.make_column_selector object at 0x7fce6290a940&gt;</pre></div></div></div><div class=\"sk-serial\"><div class=\"sk-item\"><div class=\"sk-estimator sk-toggleable\"><input class=\"sk-toggleable__control sk-hidden--visually\" id=\"3c6c507d-c92e-4f0c-988d-fe1e3154189c\" type=\"checkbox\" ><label for=\"3c6c507d-c92e-4f0c-988d-fe1e3154189c\" class=\"sk-toggleable__label sk-toggleable__label-arrow\">SimpleImputer</label><div class=\"sk-toggleable__content\"><pre>SimpleImputer()</pre></div></div></div></div></div></div><div class=\"sk-parallel-item\"><div class=\"sk-item\"><div class=\"sk-label-container\"><div class=\"sk-label sk-toggleable\"><input class=\"sk-toggleable__control sk-hidden--visually\" id=\"441333f1-78d1-40fe-99ff-fd33893ed4b2\" type=\"checkbox\" ><label for=\"441333f1-78d1-40fe-99ff-fd33893ed4b2\" class=\"sk-toggleable__label sk-toggleable__label-arrow\">simpleimputer-2</label><div class=\"sk-toggleable__content\"><pre>&lt;sklearn.compose._column_transformer.make_column_selector object at 0x7fce6290a1c0&gt;</pre></div></div></div><div class=\"sk-serial\"><div class=\"sk-item\"><div class=\"sk-estimator sk-toggleable\"><input class=\"sk-toggleable__control sk-hidden--visually\" id=\"102400ee-5eff-4ca7-b378-0bf976d940f8\" type=\"checkbox\" ><label for=\"102400ee-5eff-4ca7-b378-0bf976d940f8\" class=\"sk-toggleable__label sk-toggleable__label-arrow\">SimpleImputer</label><div class=\"sk-toggleable__content\"><pre>SimpleImputer(strategy=&#x27;most_frequent&#x27;)</pre></div></div></div></div></div></div></div></div><div class=\"sk-item\"><div class=\"sk-estimator sk-toggleable\"><input class=\"sk-toggleable__control sk-hidden--visually\" id=\"36b7ae55-16f1-495c-9d89-efe498611de5\" type=\"checkbox\" ><label for=\"36b7ae55-16f1-495c-9d89-efe498611de5\" class=\"sk-toggleable__label sk-toggleable__label-arrow\">LinearRegression</label><div class=\"sk-toggleable__content\"><pre>LinearRegression()</pre></div></div></div></div></div></div></div>"
            ]
          },
          "metadata": {},
          "execution_count": 21
        }
      ]
    },
    {
      "cell_type": "code",
      "source": [
        "# displaying model performance metrics with a function\n",
        "evaluation_model(pipe=lin_reg_pipe, model_name='Linear Regression Model', x_train=X_train, x_test=X_test)"
      ],
      "metadata": {
        "id": "QgSC_cIbzuRy",
        "colab": {
          "base_uri": "https://localhost:8080/"
        },
        "outputId": "c2d043cc-de14-4b9e-a675-f902d7a5270b"
      },
      "execution_count": null,
      "outputs": [
        {
          "output_type": "stream",
          "name": "stdout",
          "text": [
            "Linear Regression Model Train Scores\n",
            "MAE: 1,038.3505 \n",
            "MSE: 1,997,551.6054 \n",
            "RMSE: 1,413.3477 \n",
            "R2: 0.3250\n",
            "\n",
            "Linear Regression Model Test Scores\n",
            "MAE: 1,004.1899 \n",
            "MSE: 1,873,063.7979 \n",
            "RMSE: 1,368.5992 \n",
            "R2: 0.3211\n",
            "\n"
          ]
        }
      ]
    },
    {
      "cell_type": "code",
      "execution_count": null,
      "metadata": {
        "colab": {
          "base_uri": "https://localhost:8080/"
        },
        "id": "fvk9tsH8hdZz",
        "outputId": "ad3b8d06-6926-4313-ada0-a598e41e28d0"
      },
      "outputs": [
        {
          "output_type": "execute_result",
          "data": {
            "text/plain": [
              "array([1372.64605243,  672.8177138 ,  637.03871145, ..., 3225.6437947 ,\n",
              "       1837.23631132, 2203.28001411])"
            ]
          },
          "metadata": {},
          "execution_count": 23
        }
      ],
      "source": [
        "predictions = lin_reg_pipe.predict(X_test)\n",
        "predictions"
      ]
    },
    {
      "cell_type": "code",
      "execution_count": null,
      "metadata": {
        "id": "C3irKlzS3sD5"
      },
      "outputs": [],
      "source": [
        "from sklearn.metrics import mean_absolute_error, mean_squared_error, r2_score"
      ]
    },
    {
      "cell_type": "code",
      "source": [
        "# Create model pipeline\n",
        "train_pred = lin_reg_pipe.predict(X_train)\n",
        "test_pred = lin_reg_pipe.predict(X_test)"
      ],
      "metadata": {
        "id": "7jhk1a3zA8oV"
      },
      "execution_count": null,
      "outputs": []
    },
    {
      "cell_type": "markdown",
      "source": [
        "##**R-Squared**"
      ],
      "metadata": {
        "id": "QkDPX6QsQF_J"
      }
    },
    {
      "cell_type": "code",
      "source": [
        "# R^2 coefficient of determination\n",
        "\n",
        "train_r2 = np.corrcoef(y_train, train_pred)[0][1]**2\n",
        "test_r2 = np.corrcoef(y_test, test_pred)[0][1]**2\n",
        "\n",
        "print(f' Model Training R2: {train_r2}')\n",
        "print(f' Model Testing R2: {test_r2}')"
      ],
      "metadata": {
        "id": "FtWZFamK_oDS",
        "colab": {
          "base_uri": "https://localhost:8080/"
        },
        "outputId": "6748763f-40da-4edb-a1f1-2958ad450ed2"
      },
      "execution_count": null,
      "outputs": [
        {
          "output_type": "stream",
          "name": "stdout",
          "text": [
            " Model Training R2: 0.32502736826006295\n",
            " Model Testing R2: 0.32230188174466606\n"
          ]
        }
      ]
    },
    {
      "cell_type": "markdown",
      "source": [
        "##**Root Mean Squared Error**"
      ],
      "metadata": {
        "id": "s5p6_HqxQLTf"
      }
    },
    {
      "cell_type": "code",
      "source": [
        "# Measuring RMSE\n",
        "train_RMSE = np.sqrt(np.mean(np.abs(train_pred - y_train)**2))\n",
        "test_RMSE = np.sqrt(np.mean(np.abs(test_pred - y_test)**2))\n",
        "\n",
        "print(f' Model Training RMSE: {train_RMSE}')\n",
        "print(f' Model Testing RMSE: {test_RMSE}')"
      ],
      "metadata": {
        "colab": {
          "base_uri": "https://localhost:8080/"
        },
        "id": "A3xs6myLBeWX",
        "outputId": "c356d4cd-508a-4dda-c1a5-ac17959a25af"
      },
      "execution_count": null,
      "outputs": [
        {
          "output_type": "stream",
          "name": "stdout",
          "text": [
            " Model Training RMSE: 1413.3476590712073\n",
            " Model Testing RMSE: 1368.5992101132697\n"
          ]
        }
      ]
    },
    {
      "cell_type": "code",
      "execution_count": null,
      "metadata": {
        "id": "oNcTpH8o8Im-"
      },
      "outputs": [],
      "source": [
        "from sklearn.preprocessing import StandardScaler\n",
        "scaler = StandardScaler()"
      ]
    },
    {
      "cell_type": "code",
      "execution_count": null,
      "metadata": {
        "id": "ALoDW64gj7O_"
      },
      "outputs": [],
      "source": [
        "# importing the linearregression library\n",
        "from sklearn.linear_model import LinearRegression\n",
        "reg = LinearRegression()"
      ]
    },
    {
      "cell_type": "code",
      "execution_count": null,
      "metadata": {
        "colab": {
          "base_uri": "https://localhost:8080/"
        },
        "id": "_48Q2IQUZQE3",
        "outputId": "86eff7d4-9826-4e20-8ca3-fcfb1496245e"
      },
      "outputs": [
        {
          "output_type": "execute_result",
          "data": {
            "text/plain": [
              "Low Fat    5517\n",
              "Regular    3006\n",
              "Name: Item_Fat_Content, dtype: int64"
            ]
          },
          "metadata": {},
          "execution_count": 30
        }
      ],
      "source": [
        "# making the Item Fat Content column more consistent\n",
        "df['Item_Fat_Content'].replace({'LF':'Low Fat', 'reg':'Regular', 'low fat':'Low Fat'}, inplace=True)\n",
        "df['Item_Fat_Content'].value_counts()"
      ]
    },
    {
      "cell_type": "markdown",
      "metadata": {
        "id": "YasfPNs2Bvb4"
      },
      "source": [
        "##**Regression Metric: Mean Squared Error**"
      ]
    },
    {
      "cell_type": "code",
      "execution_count": null,
      "metadata": {
        "colab": {
          "base_uri": "https://localhost:8080/"
        },
        "id": "T3Dd3Lz24_gS",
        "outputId": "6bcd7aa0-be03-4ed5-9bca-3949fbdd3a38"
      },
      "outputs": [
        {
          "output_type": "stream",
          "name": "stdout",
          "text": [
            "Model Training: 1997551.6054020615\n",
            "Model Testing: 1873063.797922666\n"
          ]
        }
      ],
      "source": [
        "# calculating mse\n",
        "train_mse = mean_squared_error(y_train,train_pred)\n",
        "test_mse = mean_squared_error(y_test,test_pred)\n",
        "\n",
        "print(f'Model Training: {train_mse}')\n",
        "print(f'Model Testing: {test_mse}')"
      ]
    },
    {
      "cell_type": "markdown",
      "metadata": {
        "id": "t8G8D8ERe1rm"
      },
      "source": [
        "##**Metric for Linear Regression Model**\n",
        "- The MSE is more useful for the linear regression model, because it penalizes larger erros. The Model test results is lower than the train dataset, which means is better. "
      ]
    },
    {
      "cell_type": "markdown",
      "metadata": {
        "id": "HY6dJ2Gw5ed7"
      },
      "source": [
        "##**Model 2: Regression Tree Model**"
      ]
    },
    {
      "cell_type": "code",
      "execution_count": null,
      "metadata": {
        "id": "qN4_cf7Y5h2L"
      },
      "outputs": [],
      "source": [
        "from sklearn.tree import DecisionTreeRegressor\n",
        "\n",
        "dec_tree = DecisionTreeRegressor(random_state=42) # creates the regression tree model\n"
      ]
    },
    {
      "cell_type": "code",
      "execution_count": null,
      "metadata": {
        "colab": {
          "base_uri": "https://localhost:8080/",
          "height": 75
        },
        "id": "s7ZrMaLT6i_A",
        "outputId": "ac7ca819-6af8-4aa9-d276-1f407b598626"
      },
      "outputs": [
        {
          "output_type": "execute_result",
          "data": {
            "text/plain": [
              "DecisionTreeRegressor(random_state=42)"
            ],
            "text/html": [
              "<style>#sk-a1f83201-8b41-44aa-9c5a-926eb8a69951 {color: black;background-color: white;}#sk-a1f83201-8b41-44aa-9c5a-926eb8a69951 pre{padding: 0;}#sk-a1f83201-8b41-44aa-9c5a-926eb8a69951 div.sk-toggleable {background-color: white;}#sk-a1f83201-8b41-44aa-9c5a-926eb8a69951 label.sk-toggleable__label {cursor: pointer;display: block;width: 100%;margin-bottom: 0;padding: 0.3em;box-sizing: border-box;text-align: center;}#sk-a1f83201-8b41-44aa-9c5a-926eb8a69951 label.sk-toggleable__label-arrow:before {content: \"▸\";float: left;margin-right: 0.25em;color: #696969;}#sk-a1f83201-8b41-44aa-9c5a-926eb8a69951 label.sk-toggleable__label-arrow:hover:before {color: black;}#sk-a1f83201-8b41-44aa-9c5a-926eb8a69951 div.sk-estimator:hover label.sk-toggleable__label-arrow:before {color: black;}#sk-a1f83201-8b41-44aa-9c5a-926eb8a69951 div.sk-toggleable__content {max-height: 0;max-width: 0;overflow: hidden;text-align: left;background-color: #f0f8ff;}#sk-a1f83201-8b41-44aa-9c5a-926eb8a69951 div.sk-toggleable__content pre {margin: 0.2em;color: black;border-radius: 0.25em;background-color: #f0f8ff;}#sk-a1f83201-8b41-44aa-9c5a-926eb8a69951 input.sk-toggleable__control:checked~div.sk-toggleable__content {max-height: 200px;max-width: 100%;overflow: auto;}#sk-a1f83201-8b41-44aa-9c5a-926eb8a69951 input.sk-toggleable__control:checked~label.sk-toggleable__label-arrow:before {content: \"▾\";}#sk-a1f83201-8b41-44aa-9c5a-926eb8a69951 div.sk-estimator input.sk-toggleable__control:checked~label.sk-toggleable__label {background-color: #d4ebff;}#sk-a1f83201-8b41-44aa-9c5a-926eb8a69951 div.sk-label input.sk-toggleable__control:checked~label.sk-toggleable__label {background-color: #d4ebff;}#sk-a1f83201-8b41-44aa-9c5a-926eb8a69951 input.sk-hidden--visually {border: 0;clip: rect(1px 1px 1px 1px);clip: rect(1px, 1px, 1px, 1px);height: 1px;margin: -1px;overflow: hidden;padding: 0;position: absolute;width: 1px;}#sk-a1f83201-8b41-44aa-9c5a-926eb8a69951 div.sk-estimator {font-family: monospace;background-color: #f0f8ff;border: 1px dotted black;border-radius: 0.25em;box-sizing: border-box;margin-bottom: 0.5em;}#sk-a1f83201-8b41-44aa-9c5a-926eb8a69951 div.sk-estimator:hover {background-color: #d4ebff;}#sk-a1f83201-8b41-44aa-9c5a-926eb8a69951 div.sk-parallel-item::after {content: \"\";width: 100%;border-bottom: 1px solid gray;flex-grow: 1;}#sk-a1f83201-8b41-44aa-9c5a-926eb8a69951 div.sk-label:hover label.sk-toggleable__label {background-color: #d4ebff;}#sk-a1f83201-8b41-44aa-9c5a-926eb8a69951 div.sk-serial::before {content: \"\";position: absolute;border-left: 1px solid gray;box-sizing: border-box;top: 2em;bottom: 0;left: 50%;}#sk-a1f83201-8b41-44aa-9c5a-926eb8a69951 div.sk-serial {display: flex;flex-direction: column;align-items: center;background-color: white;padding-right: 0.2em;padding-left: 0.2em;}#sk-a1f83201-8b41-44aa-9c5a-926eb8a69951 div.sk-item {z-index: 1;}#sk-a1f83201-8b41-44aa-9c5a-926eb8a69951 div.sk-parallel {display: flex;align-items: stretch;justify-content: center;background-color: white;}#sk-a1f83201-8b41-44aa-9c5a-926eb8a69951 div.sk-parallel::before {content: \"\";position: absolute;border-left: 1px solid gray;box-sizing: border-box;top: 2em;bottom: 0;left: 50%;}#sk-a1f83201-8b41-44aa-9c5a-926eb8a69951 div.sk-parallel-item {display: flex;flex-direction: column;position: relative;background-color: white;}#sk-a1f83201-8b41-44aa-9c5a-926eb8a69951 div.sk-parallel-item:first-child::after {align-self: flex-end;width: 50%;}#sk-a1f83201-8b41-44aa-9c5a-926eb8a69951 div.sk-parallel-item:last-child::after {align-self: flex-start;width: 50%;}#sk-a1f83201-8b41-44aa-9c5a-926eb8a69951 div.sk-parallel-item:only-child::after {width: 0;}#sk-a1f83201-8b41-44aa-9c5a-926eb8a69951 div.sk-dashed-wrapped {border: 1px dashed gray;margin: 0 0.4em 0.5em 0.4em;box-sizing: border-box;padding-bottom: 0.4em;background-color: white;position: relative;}#sk-a1f83201-8b41-44aa-9c5a-926eb8a69951 div.sk-label label {font-family: monospace;font-weight: bold;background-color: white;display: inline-block;line-height: 1.2em;}#sk-a1f83201-8b41-44aa-9c5a-926eb8a69951 div.sk-label-container {position: relative;z-index: 2;text-align: center;}#sk-a1f83201-8b41-44aa-9c5a-926eb8a69951 div.sk-container {/* jupyter's `normalize.less` sets `[hidden] { display: none; }` but bootstrap.min.css set `[hidden] { display: none !important; }` so we also need the `!important` here to be able to override the default hidden behavior on the sphinx rendered scikit-learn.org. See: https://github.com/scikit-learn/scikit-learn/issues/21755 */display: inline-block !important;position: relative;}#sk-a1f83201-8b41-44aa-9c5a-926eb8a69951 div.sk-text-repr-fallback {display: none;}</style><div id=\"sk-a1f83201-8b41-44aa-9c5a-926eb8a69951\" class=\"sk-top-container\"><div class=\"sk-text-repr-fallback\"><pre>DecisionTreeRegressor(random_state=42)</pre><b>Please rerun this cell to show the HTML repr or trust the notebook.</b></div><div class=\"sk-container\" hidden><div class=\"sk-item\"><div class=\"sk-estimator sk-toggleable\"><input class=\"sk-toggleable__control sk-hidden--visually\" id=\"92c9aad3-049b-4022-be13-ff31ad2aa930\" type=\"checkbox\" checked><label for=\"92c9aad3-049b-4022-be13-ff31ad2aa930\" class=\"sk-toggleable__label sk-toggleable__label-arrow\">DecisionTreeRegressor</label><div class=\"sk-toggleable__content\"><pre>DecisionTreeRegressor(random_state=42)</pre></div></div></div></div></div>"
            ]
          },
          "metadata": {},
          "execution_count": 33
        }
      ],
      "source": [
        "dec_tree.fit(X_train, y_train) # figures out how it should make predictions in future data"
      ]
    },
    {
      "cell_type": "code",
      "execution_count": null,
      "metadata": {
        "id": "S9xprgLV6wDQ"
      },
      "outputs": [],
      "source": [
        "# predicting the target values\n",
        "train_preds = dec_tree.predict(X_train)\n",
        "test_preds = dec_tree.predict(X_test)\n",
        "\n"
      ]
    },
    {
      "cell_type": "code",
      "execution_count": null,
      "metadata": {
        "colab": {
          "base_uri": "https://localhost:8080/"
        },
        "id": "_C33Nha57UDZ",
        "outputId": "1802d28f-2f2d-4cdb-8feb-4c361c134a35"
      },
      "outputs": [
        {
          "output_type": "stream",
          "name": "stdout",
          "text": [
            "0.9770305627951709\n",
            "-0.1812493379076403\n"
          ]
        }
      ],
      "source": [
        "# evauluating the model\n",
        "train_score = dec_tree.score(X_train,y_train)\n",
        "test_score = dec_tree.score(X_test,y_test)\n",
        "\n",
        "print(train_score)\n",
        "print(test_score)"
      ]
    },
    {
      "cell_type": "markdown",
      "metadata": {
        "id": "m-uqj5aa8MDU"
      },
      "source": [
        "The result for the tree model shows that it is way overfitting.  I will go ahead and tune my model. "
      ]
    },
    {
      "cell_type": "code",
      "execution_count": null,
      "metadata": {
        "colab": {
          "base_uri": "https://localhost:8080/"
        },
        "id": "G16tvpQb8bun",
        "outputId": "32625be4-1d3c-4b1c-f11a-4bcdbb827121"
      },
      "outputs": [
        {
          "output_type": "execute_result",
          "data": {
            "text/plain": [
              "{'ccp_alpha': 0.0,\n",
              " 'criterion': 'squared_error',\n",
              " 'max_depth': None,\n",
              " 'max_features': None,\n",
              " 'max_leaf_nodes': None,\n",
              " 'min_impurity_decrease': 0.0,\n",
              " 'min_samples_leaf': 1,\n",
              " 'min_samples_split': 2,\n",
              " 'min_weight_fraction_leaf': 0.0,\n",
              " 'random_state': 42,\n",
              " 'splitter': 'best'}"
            ]
          },
          "metadata": {},
          "execution_count": 36
        }
      ],
      "source": [
        "dec_tree.get_params()"
      ]
    },
    {
      "cell_type": "code",
      "execution_count": null,
      "metadata": {
        "colab": {
          "base_uri": "https://localhost:8080/"
        },
        "id": "HzL0hwlk8kTN",
        "outputId": "73b83692-837d-4d2e-8f14-0376c6698a1c"
      },
      "outputs": [
        {
          "output_type": "execute_result",
          "data": {
            "text/plain": [
              "32"
            ]
          },
          "metadata": {},
          "execution_count": 37
        }
      ],
      "source": [
        "dec_tree.get_depth()"
      ]
    },
    {
      "cell_type": "code",
      "execution_count": null,
      "metadata": {
        "colab": {
          "base_uri": "https://localhost:8080/"
        },
        "id": "wQnNMVyt9635",
        "outputId": "70b0aa5b-504f-4b6f-81bb-bbf83209b47b"
      },
      "outputs": [
        {
          "output_type": "execute_result",
          "data": {
            "text/plain": [
              "6157"
            ]
          },
          "metadata": {},
          "execution_count": 38
        }
      ],
      "source": [
        "dec_tree.get_n_leaves()"
      ]
    },
    {
      "cell_type": "code",
      "source": [
        "# finding the right optimal max_depth. I will try different parameters on the max depth. I will set it to 8\n",
        "dec_tree_8 = DecisionTreeRegressor(max_depth=8, random_state=42)\n",
        "dec_tree_8.fit(X_train,y_train)\n",
        "train_8_score = dec_tree_8.score(X_train,y_train)\n",
        "test_8_score = dec_tree_8.score(X_test,y_test)\n",
        "print(train_8_score)\n",
        "print(test_8_score)"
      ],
      "metadata": {
        "colab": {
          "base_uri": "https://localhost:8080/"
        },
        "id": "J_L3ZtlPjW-Q",
        "outputId": "612d3499-39e1-4f71-d72e-f530f99157b0"
      },
      "execution_count": null,
      "outputs": [
        {
          "output_type": "stream",
          "name": "stdout",
          "text": [
            "0.4871112308669121\n",
            "0.335129178241777\n"
          ]
        }
      ]
    },
    {
      "cell_type": "code",
      "source": [
        "# finding the right optimal max_depth. I will try different parameters on the max depth. I will set it to 18\n",
        "dec_tree_14 = DecisionTreeRegressor(max_depth=14, random_state=42)\n",
        "dec_tree_14.fit(X_train,y_train)\n",
        "train_14_score = dec_tree_14.score(X_train,y_train)\n",
        "test_14_score = dec_tree_14.score(X_test,y_test)\n",
        "print(train_14_score)\n",
        "print(test_14_score)"
      ],
      "metadata": {
        "id": "GUhPCrF7kOWS",
        "colab": {
          "base_uri": "https://localhost:8080/"
        },
        "outputId": "3c7f7b30-a5ed-4339-afd2-b5cdb3cedf38"
      },
      "execution_count": null,
      "outputs": [
        {
          "output_type": "stream",
          "name": "stdout",
          "text": [
            "0.7136821370142619\n",
            "0.08830647351694743\n"
          ]
        }
      ]
    },
    {
      "cell_type": "code",
      "execution_count": null,
      "metadata": {
        "id": "xAAYVB4n-F9W"
      },
      "outputs": [],
      "source": [
        "# List of values to try for max_depth:\n",
        "depths = list(range(2, 9)) # Will input every value between 2 and 28\n",
        "# Data frame to store the score for each value of max_depth:\n",
        "scores = pd.DataFrame(index=depths, columns=['Test Score','Train Score'])\n",
        "for depth in depths:\n",
        "    dec_tree = DecisionTreeRegressor(max_depth=depth, random_state=42)\n",
        "    dec_tree.fit(X_train, y_train)\n",
        "    train_score = dec_tree.score(X_train, y_train)\n",
        "    test_score = dec_tree.score(X_test, y_test)\n",
        "    scores.loc[depth, 'Train Score'] = train_score\n",
        "    scores.loc[depth, 'Test Score'] = test_score\n"
      ]
    },
    {
      "cell_type": "code",
      "execution_count": null,
      "metadata": {
        "colab": {
          "base_uri": "https://localhost:8080/",
          "height": 297
        },
        "id": "6Vob_WeU-Od9",
        "outputId": "d6d6e313-4ea7-49dd-eec2-2c77288e8081"
      },
      "outputs": [
        {
          "output_type": "execute_result",
          "data": {
            "text/plain": [
              "Text(0, 0.5, 'R2')"
            ]
          },
          "metadata": {},
          "execution_count": 42
        },
        {
          "output_type": "display_data",
          "data": {
            "text/plain": [
              "<Figure size 432x288 with 1 Axes>"
            ],
            "image/png": "[encoded data removed]"
          },
          "metadata": {
            "needs_background": "light"
          }
        }
      ],
      "source": [
        "import matplotlib.pyplot as plt\n",
        "plt.plot(depths, scores['Test Score'])\n",
        "plt.xlabel('max_depth')\n",
        "plt.ylabel('R2')"
      ]
    },
    {
      "cell_type": "code",
      "execution_count": null,
      "metadata": {
        "colab": {
          "base_uri": "https://localhost:8080/",
          "height": 269
        },
        "id": "lgg-UinF-jJU",
        "outputId": "85d0e49b-8556-4006-80fc-5393552f066a"
      },
      "outputs": [
        {
          "output_type": "execute_result",
          "data": {
            "text/plain": [
              "  Test Score Train Score\n",
              "6   0.392557    0.437989\n",
              "5   0.371732    0.404251\n",
              "7   0.366204    0.463358\n",
              "8   0.335129    0.487111\n",
              "4   0.333298    0.348056\n",
              "3   0.315607    0.323975\n",
              "2   0.306049    0.305669"
            ],
            "text/html": [
              "\n",
              "  <div id=\"df-544e0ad5-cce2-41dd-92ca-02fb477a536f\">\n",
              "    <div class=\"colab-df-container\">\n",
              "      <div>\n",
              "<style scoped>\n",
              "    .dataframe tbody tr th:only-of-type {\n",
              "        vertical-align: middle;\n",
              "    }\n",
              "\n",
              "    .dataframe tbody tr th {\n",
              "        vertical-align: top;\n",
              "    }\n",
              "\n",
              "    .dataframe thead th {\n",
              "        text-align: right;\n",
              "    }\n",
              "</style>\n",
              "<table border=\"1\" class=\"dataframe\">\n",
              "  <thead>\n",
              "    <tr style=\"text-align: right;\">\n",
              "      <th></th>\n",
              "      <th>Test Score</th>\n",
              "      <th>Train Score</th>\n",
              "    </tr>\n",
              "  </thead>\n",
              "  <tbody>\n",
              "    <tr>\n",
              "      <th>6</th>\n",
              "      <td>0.392557</td>\n",
              "      <td>0.437989</td>\n",
              "    </tr>\n",
              "    <tr>\n",
              "      <th>5</th>\n",
              "      <td>0.371732</td>\n",
              "      <td>0.404251</td>\n",
              "    </tr>\n",
              "    <tr>\n",
              "      <th>7</th>\n",
              "      <td>0.366204</td>\n",
              "      <td>0.463358</td>\n",
              "    </tr>\n",
              "    <tr>\n",
              "      <th>8</th>\n",
              "      <td>0.335129</td>\n",
              "      <td>0.487111</td>\n",
              "    </tr>\n",
              "    <tr>\n",
              "      <th>4</th>\n",
              "      <td>0.333298</td>\n",
              "      <td>0.348056</td>\n",
              "    </tr>\n",
              "    <tr>\n",
              "      <th>3</th>\n",
              "      <td>0.315607</td>\n",
              "      <td>0.323975</td>\n",
              "    </tr>\n",
              "    <tr>\n",
              "      <th>2</th>\n",
              "      <td>0.306049</td>\n",
              "      <td>0.305669</td>\n",
              "    </tr>\n",
              "  </tbody>\n",
              "</table>\n",
              "</div>\n",
              "      <button class=\"colab-df-convert\" onclick=\"convertToInteractive('df-544e0ad5-cce2-41dd-92ca-02fb477a536f')\"\n",
              "              title=\"Convert this dataframe to an interactive table.\"\n",
              "              style=\"display:none;\">\n",
              "        \n",
              "  <svg xmlns=\"http://www.w3.org/2000/svg\" height=\"24px\"viewBox=\"0 0 24 24\"\n",
              "       width=\"24px\">\n",
              "    <path d=\"M0 0h24v24H0V0z\" fill=\"none\"/>\n",
              "    <path d=\"M18.56 5.44l.94 2.06.94-2.06 2.06-.94-2.06-.94-.94-2.06-.94 2.06-2.06.94zm-11 1L8.5 8.5l.94-2.06 2.06-.94-2.06-.94L8.5 2.5l-.94 2.06-2.06.94zm10 10l.94 2.06.94-2.06 2.06-.94-2.06-.94-.94-2.06-.94 2.06-2.06.94z\"/><path d=\"M17.41 7.96l-1.37-1.37c-.4-.4-.92-.59-1.43-.59-.52 0-1.04.2-1.43.59L10.3 9.45l-7.72 7.72c-.78.78-.78 2.05 0 2.83L4 21.41c.39.39.9.59 1.41.59.51 0 1.02-.2 1.41-.59l7.78-7.78 2.81-2.81c.8-.78.8-2.07 0-2.86zM5.41 20L4 18.59l7.72-7.72 1.47 1.35L5.41 20z\"/>\n",
              "  </svg>\n",
              "      </button>\n",
              "      \n",
              "  <style>\n",
              "    .colab-df-container {\n",
              "      display:flex;\n",
              "      flex-wrap:wrap;\n",
              "      gap: 12px;\n",
              "    }\n",
              "\n",
              "    .colab-df-convert {\n",
              "      background-color: #E8F0FE;\n",
              "      border: none;\n",
              "      border-radius: 50%;\n",
              "      cursor: pointer;\n",
              "      display: none;\n",
              "      fill: #1967D2;\n",
              "      height: 32px;\n",
              "      padding: 0 0 0 0;\n",
              "      width: 32px;\n",
              "    }\n",
              "\n",
              "    .colab-df-convert:hover {\n",
              "      background-color: #E2EBFA;\n",
              "      box-shadow: 0px 1px 2px rgba(60, 64, 67, 0.3), 0px 1px 3px 1px rgba(60, 64, 67, 0.15);\n",
              "      fill: #174EA6;\n",
              "    }\n",
              "\n",
              "    [theme=dark] .colab-df-convert {\n",
              "      background-color: #3B4455;\n",
              "      fill: #D2E3FC;\n",
              "    }\n",
              "\n",
              "    [theme=dark] .colab-df-convert:hover {\n",
              "      background-color: #434B5C;\n",
              "      box-shadow: 0px 1px 3px 1px rgba(0, 0, 0, 0.15);\n",
              "      filter: drop-shadow(0px 1px 2px rgba(0, 0, 0, 0.3));\n",
              "      fill: #FFFFFF;\n",
              "    }\n",
              "  </style>\n",
              "\n",
              "      <script>\n",
              "        const buttonEl =\n",
              "          document.querySelector('#df-544e0ad5-cce2-41dd-92ca-02fb477a536f button.colab-df-convert');\n",
              "        buttonEl.style.display =\n",
              "          google.colab.kernel.accessAllowed ? 'block' : 'none';\n",
              "\n",
              "        async function convertToInteractive(key) {\n",
              "          const element = document.querySelector('#df-544e0ad5-cce2-41dd-92ca-02fb477a536f');\n",
              "          const dataTable =\n",
              "            await google.colab.kernel.invokeFunction('convertToInteractive',\n",
              "                                                     [key], {});\n",
              "          if (!dataTable) return;\n",
              "\n",
              "          const docLinkHtml = 'Like what you see? Visit the ' +\n",
              "            '<a target=\"_blank\" href=https://colab.research.google.com/notebooks/data_table.ipynb>data table notebook</a>'\n",
              "            + ' to learn more about interactive tables.';\n",
              "          element.innerHTML = '';\n",
              "          dataTable['output_type'] = 'display_data';\n",
              "          await google.colab.output.renderOutput(dataTable, element);\n",
              "          const docLink = document.createElement('div');\n",
              "          docLink.innerHTML = docLinkHtml;\n",
              "          element.appendChild(docLink);\n",
              "        }\n",
              "      </script>\n",
              "    </div>\n",
              "  </div>\n",
              "  "
            ]
          },
          "metadata": {},
          "execution_count": 43
        }
      ],
      "source": [
        "sorted_scores = scores.sort_values(by='Test Score', ascending=False)\n",
        "sorted_scores.head(8)"
      ]
    },
    {
      "cell_type": "code",
      "execution_count": null,
      "metadata": {
        "colab": {
          "base_uri": "https://localhost:8080/"
        },
        "id": "pX2mmSEg-8B1",
        "outputId": "21ba9f6b-4d2b-4a4a-a363-e2ea98e26d67"
      },
      "outputs": [
        {
          "output_type": "stream",
          "name": "stdout",
          "text": [
            "0.4379894023439658\n",
            "0.39255745390098207\n"
          ]
        }
      ],
      "source": [
        "# Let's run the model with our optimized value for max_depth\n",
        "dec_tree_6 = DecisionTreeRegressor(max_depth = 6, random_state = 42)\n",
        "dec_tree_6.fit(X_train, y_train)\n",
        "train_6_score = dec_tree_6.score(X_train, y_train)\n",
        "test_6_score = dec_tree_6.score(X_test, y_test)\n",
        "print(train_6_score)\n",
        "print(test_6_score)\n"
      ]
    },
    {
      "cell_type": "markdown",
      "metadata": {
        "id": "KPvvykMx_Zb-"
      },
      "source": [
        "From the model we have built for the Tree model, the greatest value for max_depth is 6.  The training score is higher than the testing score.  "
      ]
    },
    {
      "cell_type": "markdown",
      "metadata": {
        "id": "PhIqxw2GBn2q"
      },
      "source": [
        "**R-Squared Regression Metric**\n",
        "\n",
        "The R2 metric shows that there is a 32% variance in the model. It is low R-Squared model. This trend indicates that the predictor variable still provides information about the response even though the data points are further away from each other.  From the regression tree model, it is about 7 points higher than the R2.  Therefore,  it is overfitting.   "
      ]
    },
    {
      "cell_type": "code",
      "execution_count": null,
      "metadata": {
        "colab": {
          "base_uri": "https://localhost:8080/"
        },
        "id": "kbUZU2_Sm4qz",
        "outputId": "a7cb0f98-4d2d-49be-f760-977a91774fc7"
      },
      "outputs": [
        {
          "output_type": "stream",
          "name": "stdout",
          "text": [
            "Model Training: 0.32502736826006273\n",
            "Model Testing: 0.3211021322282346\n"
          ]
        }
      ],
      "source": [
        "# Calculating R2\n",
        "train_r2 = r2_score(y_train, train_pred)\n",
        "test_r2 = r2_score(y_test, test_pred)\n",
        "\n",
        "print(f'Model Training: {train_r2}')\n",
        "print(f'Model Testing: {test_r2}')"
      ]
    },
    {
      "cell_type": "markdown",
      "source": [
        "**Root Mean Squared Error Regression Metric**\n",
        "\n",
        "In the case of the RMSE, the model decreases by around 85.  It is in close proximity from each other; therefore it shows a pretty good model for the RMSE."
      ],
      "metadata": {
        "id": "7UoNfRKE0Adg"
      }
    },
    {
      "cell_type": "code",
      "source": [
        "# Measuring RMSE\n",
        "train_RMSE = np.sqrt(np.mean(np.abs(train_pred - y_train)**2))\n",
        "test_RMSE = np.sqrt(np.mean(np.abs(test_pred - y_test)**2))\n",
        "\n",
        "print(f' Model Training RMSE: {train_RMSE}')\n",
        "print(f' Model Testing RMSE: {test_RMSE}')"
      ],
      "metadata": {
        "colab": {
          "base_uri": "https://localhost:8080/"
        },
        "id": "T-oqYZPDz6zc",
        "outputId": "9957fd62-2637-4954-f9f9-34686bc087ce"
      },
      "execution_count": null,
      "outputs": [
        {
          "output_type": "stream",
          "name": "stdout",
          "text": [
            " Model Training RMSE: 1413.3476590712073\n",
            " Model Testing RMSE: 1368.5992101132697\n"
          ]
        }
      ]
    },
    {
      "cell_type": "markdown",
      "metadata": {
        "id": "vF5zkPDc4mmI"
      },
      "source": [
        "##Regression Metrics\n",
        "Based on the R-squared, our model can account for about 32%.  \n",
        "The correlation coeffciant is low, so the model isn't really strong.  It measures the variance of the model.\n",
        "For the **regression tree model**, the r^2 is better because it is in the same range than the MSE. \n",
        "- The R-squared is, essentially, a goodness-of-fit measure for linear regression models.  The testing and training dataset is similar, so the variance is quite consistent. "
      ]
    },
    {
      "cell_type": "markdown",
      "metadata": {
        "id": "NdQngAONPEqF"
      },
      "source": [
        "##**Model Comparison**\n",
        "\n",
        "Based on the two models, I would recommend using the RMSE because it handles the penalization of smaller errors. "
      ]
    }
  ],
  "metadata": {
    "colab": {
      "provenance": [],
      "authorship_tag": "ABX9TyPNkjdszGgJqwpOc1mmWy7O",
      "include_colab_link": true
    },
    "kernelspec": {
      "display_name": "Python 3",
      "name": "python3"
    },
    "language_info": {
      "name": "python"
    }
  },
  "nbformat": 4,
  "nbformat_minor": 0
}