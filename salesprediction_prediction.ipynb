{
  "nbformat": 4,
  "nbformat_minor": 0,
  "metadata": {
    "colab": {
      "provenance": [],
      "authorship_tag": "ABX9TyNkP8H8BJHsa16YP0737mGQ",
      "include_colab_link": true
    },
    "kernelspec": {
      "name": "python3",
      "display_name": "Python 3"
    },
    "language_info": {
      "name": "python"
    }
  },
  "cells": [
    {
      "cell_type": "markdown",
      "metadata": {
        "id": "view-in-github",
        "colab_type": "text"
      },
      "source": [
        "<a href=\"https://colab.research.google.com/github/rimchristian/sales-prediction/blob/main/salesprediction_prediction.ipynb\" target=\"_parent\"><img src=\"https://colab.research.google.com/assets/colab-badge.svg\" alt=\"Open In Colab\"/></a>"
      ]
    },
    {
      "cell_type": "code",
      "execution_count": null,
      "metadata": {
        "id": "skhUs7RXbD7p"
      },
      "outputs": [],
      "source": [
        "import pandas as pd\n",
        "import numpy as np\n",
        "from google.colab import drive\n",
        "from sklearn.preprocessing import StandardScaler, OneHotEncoder\n",
        "from sklearn.impute import SimpleImputer\n",
        "from sklearn.compose import make_column_transformer, make_column_selector\n",
        "from sklearn.pipeline import make_pipeline\n",
        "from sklearn.model_selection import train_test_split\n",
        "from sklearn import set_config\n",
        "set_config(display='diagram')"
      ]
    },
    {
      "cell_type": "code",
      "source": [
        "filename = '/content/sales_predictions.csv'\n",
        "df = pd.read_csv(filename)\n",
        "df.head()"
      ],
      "metadata": {
        "colab": {
          "base_uri": "https://localhost:8080/",
          "height": 357
        },
        "id": "tH5D4lApbYrQ",
        "outputId": "8ab5b586-281e-462e-8494-7830c8a03367"
      },
      "execution_count": null,
      "outputs": [
        {
          "output_type": "execute_result",
          "data": {
            "text/plain": [
              "  Item_Identifier  Item_Weight Item_Fat_Content  Item_Visibility  \\\n",
              "0           FDA15         9.30          Low Fat         0.016047   \n",
              "1           DRC01         5.92          Regular         0.019278   \n",
              "2           FDN15        17.50          Low Fat         0.016760   \n",
              "3           FDX07        19.20          Regular         0.000000   \n",
              "4           NCD19         8.93          Low Fat         0.000000   \n",
              "\n",
              "               Item_Type  Item_MRP Outlet_Identifier  \\\n",
              "0                  Dairy  249.8092            OUT049   \n",
              "1            Soft Drinks   48.2692            OUT018   \n",
              "2                   Meat  141.6180            OUT049   \n",
              "3  Fruits and Vegetables  182.0950            OUT010   \n",
              "4              Household   53.8614            OUT013   \n",
              "\n",
              "   Outlet_Establishment_Year Outlet_Size Outlet_Location_Type  \\\n",
              "0                       1999      Medium               Tier 1   \n",
              "1                       2009      Medium               Tier 3   \n",
              "2                       1999      Medium               Tier 1   \n",
              "3                       1998         NaN               Tier 3   \n",
              "4                       1987        High               Tier 3   \n",
              "\n",
              "         Outlet_Type  Item_Outlet_Sales  \n",
              "0  Supermarket Type1          3735.1380  \n",
              "1  Supermarket Type2           443.4228  \n",
              "2  Supermarket Type1          2097.2700  \n",
              "3      Grocery Store           732.3800  \n",
              "4  Supermarket Type1           994.7052  "
            ],
            "text/html": [
              "\n",
              "  <div id=\"df-69e9c774-d41b-40d2-b6c3-9dc61368a5df\">\n",
              "    <div class=\"colab-df-container\">\n",
              "      <div>\n",
              "<style scoped>\n",
              "    .dataframe tbody tr th:only-of-type {\n",
              "        vertical-align: middle;\n",
              "    }\n",
              "\n",
              "    .dataframe tbody tr th {\n",
              "        vertical-align: top;\n",
              "    }\n",
              "\n",
              "    .dataframe thead th {\n",
              "        text-align: right;\n",
              "    }\n",
              "</style>\n",
              "<table border=\"1\" class=\"dataframe\">\n",
              "  <thead>\n",
              "    <tr style=\"text-align: right;\">\n",
              "      <th></th>\n",
              "      <th>Item_Identifier</th>\n",
              "      <th>Item_Weight</th>\n",
              "      <th>Item_Fat_Content</th>\n",
              "      <th>Item_Visibility</th>\n",
              "      <th>Item_Type</th>\n",
              "      <th>Item_MRP</th>\n",
              "      <th>Outlet_Identifier</th>\n",
              "      <th>Outlet_Establishment_Year</th>\n",
              "      <th>Outlet_Size</th>\n",
              "      <th>Outlet_Location_Type</th>\n",
              "      <th>Outlet_Type</th>\n",
              "      <th>Item_Outlet_Sales</th>\n",
              "    </tr>\n",
              "  </thead>\n",
              "  <tbody>\n",
              "    <tr>\n",
              "      <th>0</th>\n",
              "      <td>FDA15</td>\n",
              "      <td>9.30</td>\n",
              "      <td>Low Fat</td>\n",
              "      <td>0.016047</td>\n",
              "      <td>Dairy</td>\n",
              "      <td>249.8092</td>\n",
              "      <td>OUT049</td>\n",
              "      <td>1999</td>\n",
              "      <td>Medium</td>\n",
              "      <td>Tier 1</td>\n",
              "      <td>Supermarket Type1</td>\n",
              "      <td>3735.1380</td>\n",
              "    </tr>\n",
              "    <tr>\n",
              "      <th>1</th>\n",
              "      <td>DRC01</td>\n",
              "      <td>5.92</td>\n",
              "      <td>Regular</td>\n",
              "      <td>0.019278</td>\n",
              "      <td>Soft Drinks</td>\n",
              "      <td>48.2692</td>\n",
              "      <td>OUT018</td>\n",
              "      <td>2009</td>\n",
              "      <td>Medium</td>\n",
              "      <td>Tier 3</td>\n",
              "      <td>Supermarket Type2</td>\n",
              "      <td>443.4228</td>\n",
              "    </tr>\n",
              "    <tr>\n",
              "      <th>2</th>\n",
              "      <td>FDN15</td>\n",
              "      <td>17.50</td>\n",
              "      <td>Low Fat</td>\n",
              "      <td>0.016760</td>\n",
              "      <td>Meat</td>\n",
              "      <td>141.6180</td>\n",
              "      <td>OUT049</td>\n",
              "      <td>1999</td>\n",
              "      <td>Medium</td>\n",
              "      <td>Tier 1</td>\n",
              "      <td>Supermarket Type1</td>\n",
              "      <td>2097.2700</td>\n",
              "    </tr>\n",
              "    <tr>\n",
              "      <th>3</th>\n",
              "      <td>FDX07</td>\n",
              "      <td>19.20</td>\n",
              "      <td>Regular</td>\n",
              "      <td>0.000000</td>\n",
              "      <td>Fruits and Vegetables</td>\n",
              "      <td>182.0950</td>\n",
              "      <td>OUT010</td>\n",
              "      <td>1998</td>\n",
              "      <td>NaN</td>\n",
              "      <td>Tier 3</td>\n",
              "      <td>Grocery Store</td>\n",
              "      <td>732.3800</td>\n",
              "    </tr>\n",
              "    <tr>\n",
              "      <th>4</th>\n",
              "      <td>NCD19</td>\n",
              "      <td>8.93</td>\n",
              "      <td>Low Fat</td>\n",
              "      <td>0.000000</td>\n",
              "      <td>Household</td>\n",
              "      <td>53.8614</td>\n",
              "      <td>OUT013</td>\n",
              "      <td>1987</td>\n",
              "      <td>High</td>\n",
              "      <td>Tier 3</td>\n",
              "      <td>Supermarket Type1</td>\n",
              "      <td>994.7052</td>\n",
              "    </tr>\n",
              "  </tbody>\n",
              "</table>\n",
              "</div>\n",
              "      <button class=\"colab-df-convert\" onclick=\"convertToInteractive('df-69e9c774-d41b-40d2-b6c3-9dc61368a5df')\"\n",
              "              title=\"Convert this dataframe to an interactive table.\"\n",
              "              style=\"display:none;\">\n",
              "        \n",
              "  <svg xmlns=\"http://www.w3.org/2000/svg\" height=\"24px\"viewBox=\"0 0 24 24\"\n",
              "       width=\"24px\">\n",
              "    <path d=\"M0 0h24v24H0V0z\" fill=\"none\"/>\n",
              "    <path d=\"M18.56 5.44l.94 2.06.94-2.06 2.06-.94-2.06-.94-.94-2.06-.94 2.06-2.06.94zm-11 1L8.5 8.5l.94-2.06 2.06-.94-2.06-.94L8.5 2.5l-.94 2.06-2.06.94zm10 10l.94 2.06.94-2.06 2.06-.94-2.06-.94-.94-2.06-.94 2.06-2.06.94z\"/><path d=\"M17.41 7.96l-1.37-1.37c-.4-.4-.92-.59-1.43-.59-.52 0-1.04.2-1.43.59L10.3 9.45l-7.72 7.72c-.78.78-.78 2.05 0 2.83L4 21.41c.39.39.9.59 1.41.59.51 0 1.02-.2 1.41-.59l7.78-7.78 2.81-2.81c.8-.78.8-2.07 0-2.86zM5.41 20L4 18.59l7.72-7.72 1.47 1.35L5.41 20z\"/>\n",
              "  </svg>\n",
              "      </button>\n",
              "      \n",
              "  <style>\n",
              "    .colab-df-container {\n",
              "      display:flex;\n",
              "      flex-wrap:wrap;\n",
              "      gap: 12px;\n",
              "    }\n",
              "\n",
              "    .colab-df-convert {\n",
              "      background-color: #E8F0FE;\n",
              "      border: none;\n",
              "      border-radius: 50%;\n",
              "      cursor: pointer;\n",
              "      display: none;\n",
              "      fill: #1967D2;\n",
              "      height: 32px;\n",
              "      padding: 0 0 0 0;\n",
              "      width: 32px;\n",
              "    }\n",
              "\n",
              "    .colab-df-convert:hover {\n",
              "      background-color: #E2EBFA;\n",
              "      box-shadow: 0px 1px 2px rgba(60, 64, 67, 0.3), 0px 1px 3px 1px rgba(60, 64, 67, 0.15);\n",
              "      fill: #174EA6;\n",
              "    }\n",
              "\n",
              "    [theme=dark] .colab-df-convert {\n",
              "      background-color: #3B4455;\n",
              "      fill: #D2E3FC;\n",
              "    }\n",
              "\n",
              "    [theme=dark] .colab-df-convert:hover {\n",
              "      background-color: #434B5C;\n",
              "      box-shadow: 0px 1px 3px 1px rgba(0, 0, 0, 0.15);\n",
              "      filter: drop-shadow(0px 1px 2px rgba(0, 0, 0, 0.3));\n",
              "      fill: #FFFFFF;\n",
              "    }\n",
              "  </style>\n",
              "\n",
              "      <script>\n",
              "        const buttonEl =\n",
              "          document.querySelector('#df-69e9c774-d41b-40d2-b6c3-9dc61368a5df button.colab-df-convert');\n",
              "        buttonEl.style.display =\n",
              "          google.colab.kernel.accessAllowed ? 'block' : 'none';\n",
              "\n",
              "        async function convertToInteractive(key) {\n",
              "          const element = document.querySelector('#df-69e9c774-d41b-40d2-b6c3-9dc61368a5df');\n",
              "          const dataTable =\n",
              "            await google.colab.kernel.invokeFunction('convertToInteractive',\n",
              "                                                     [key], {});\n",
              "          if (!dataTable) return;\n",
              "\n",
              "          const docLinkHtml = 'Like what you see? Visit the ' +\n",
              "            '<a target=\"_blank\" href=https://colab.research.google.com/notebooks/data_table.ipynb>data table notebook</a>'\n",
              "            + ' to learn more about interactive tables.';\n",
              "          element.innerHTML = '';\n",
              "          dataTable['output_type'] = 'display_data';\n",
              "          await google.colab.output.renderOutput(dataTable, element);\n",
              "          const docLink = document.createElement('div');\n",
              "          docLink.innerHTML = docLinkHtml;\n",
              "          element.appendChild(docLink);\n",
              "        }\n",
              "      </script>\n",
              "    </div>\n",
              "  </div>\n",
              "  "
            ]
          },
          "metadata": {},
          "execution_count": 11
        }
      ]
    },
    {
      "cell_type": "code",
      "source": [
        "# drop duplicates \n",
        "df.duplicated().sum() \n",
        "# no duplicates"
      ],
      "metadata": {
        "colab": {
          "base_uri": "https://localhost:8080/"
        },
        "id": "JAw2o56tYHrH",
        "outputId": "7dc570ef-3f7d-46f3-d0e9-ad34b9d3134f"
      },
      "execution_count": null,
      "outputs": [
        {
          "output_type": "execute_result",
          "data": {
            "text/plain": [
              "0"
            ]
          },
          "metadata": {},
          "execution_count": 14
        }
      ]
    },
    {
      "cell_type": "code",
      "source": [
        "# identifying missing data \n",
        "df.isna().sum()"
      ],
      "metadata": {
        "colab": {
          "base_uri": "https://localhost:8080/"
        },
        "id": "6Qi8B2QiYmVy",
        "outputId": "a5268c3c-f94b-4b92-85d9-a85f109ec110"
      },
      "execution_count": null,
      "outputs": [
        {
          "output_type": "execute_result",
          "data": {
            "text/plain": [
              "Item_Identifier                 0\n",
              "Item_Weight                  1463\n",
              "Item_Fat_Content                0\n",
              "Item_Visibility                 0\n",
              "Item_Type                       0\n",
              "Item_MRP                        0\n",
              "Outlet_Identifier               0\n",
              "Outlet_Establishment_Year       0\n",
              "Outlet_Size                  2410\n",
              "Outlet_Location_Type            0\n",
              "Outlet_Type                     0\n",
              "Item_Outlet_Sales               0\n",
              "dtype: int64"
            ]
          },
          "metadata": {},
          "execution_count": 15
        }
      ]
    },
    {
      "cell_type": "code",
      "source": [
        "# finding the average of the \"Item Weight\"\n",
        "mean_item_weight = df['Item_Weight'].mean().round(2)\n",
        "mean_item_weight"
      ],
      "metadata": {
        "colab": {
          "base_uri": "https://localhost:8080/"
        },
        "id": "KIVO8CylaoI8",
        "outputId": "a7af9271-4103-46d5-9ebe-dc9b70e98210"
      },
      "execution_count": null,
      "outputs": [
        {
          "output_type": "execute_result",
          "data": {
            "text/plain": [
              "12.86"
            ]
          },
          "metadata": {},
          "execution_count": 16
        }
      ]
    },
    {
      "cell_type": "code",
      "source": [
        "df['Item_Weight'].fillna(mean_item_weight, inplace=True)\n",
        "df.isna().sum()"
      ],
      "metadata": {
        "colab": {
          "base_uri": "https://localhost:8080/"
        },
        "id": "jrt5caH4a2GC",
        "outputId": "52069083-b817-44f9-f321-0f89eb934f85"
      },
      "execution_count": null,
      "outputs": [
        {
          "output_type": "execute_result",
          "data": {
            "text/plain": [
              "Item_Identifier                 0\n",
              "Item_Weight                     0\n",
              "Item_Fat_Content                0\n",
              "Item_Visibility                 0\n",
              "Item_Type                       0\n",
              "Item_MRP                        0\n",
              "Outlet_Identifier               0\n",
              "Outlet_Establishment_Year       0\n",
              "Outlet_Size                  2410\n",
              "Outlet_Location_Type            0\n",
              "Outlet_Type                     0\n",
              "Item_Outlet_Sales               0\n",
              "dtype: int64"
            ]
          },
          "metadata": {},
          "execution_count": 17
        }
      ]
    },
    {
      "cell_type": "code",
      "source": [
        "# filling the missing values in the categorical variable \n",
        "most_common_size = df['Outlet_Size'].mode()\n",
        "df['Outlet_Size'].fillna(most_common_size, inplace=True)\n"
      ],
      "metadata": {
        "id": "xuJJ6jMv97sH"
      },
      "execution_count": null,
      "outputs": []
    },
    {
      "cell_type": "code",
      "source": [
        "# filled out the missing values for the \"Outlet Size column\"\n",
        "df['Outlet_Size'].fillna('Missing', inplace=True)"
      ],
      "metadata": {
        "id": "3M81f9VRVjgE"
      },
      "execution_count": null,
      "outputs": []
    },
    {
      "cell_type": "code",
      "source": [
        "df.isnull().sum()"
      ],
      "metadata": {
        "id": "Y6yJMYq6OEZg",
        "colab": {
          "base_uri": "https://localhost:8080/"
        },
        "outputId": "36832e38-3756-4ec1-810a-abc6751bacfd"
      },
      "execution_count": null,
      "outputs": [
        {
          "output_type": "execute_result",
          "data": {
            "text/plain": [
              "Item_Identifier              0\n",
              "Item_Weight                  0\n",
              "Item_Fat_Content             0\n",
              "Item_Visibility              0\n",
              "Item_Type                    0\n",
              "Item_MRP                     0\n",
              "Outlet_Identifier            0\n",
              "Outlet_Establishment_Year    0\n",
              "Outlet_Size                  0\n",
              "Outlet_Location_Type         0\n",
              "Outlet_Type                  0\n",
              "Item_Outlet_Sales            0\n",
              "dtype: int64"
            ]
          },
          "metadata": {},
          "execution_count": 34
        }
      ]
    },
    {
      "cell_type": "code",
      "source": [
        "# split\n",
        "X = df.drop(columns=['Item_Outlet_Sales'])\n",
        "y = df['Item_Outlet_Sales']\n",
        "\n",
        "X_train,X_test,y_train,y_test = train_test_split(X,y,random_state=42)"
      ],
      "metadata": {
        "id": "12ABd5PJYEJW"
      },
      "execution_count": null,
      "outputs": []
    },
    {
      "cell_type": "code",
      "source": [
        "cat_selector = make_column_selector(dtype_include='object')\n",
        "num_selector = make_column_selector(dtype_include='number')"
      ],
      "metadata": {
        "id": "OD7GJcWPa-61"
      },
      "execution_count": null,
      "outputs": []
    },
    {
      "cell_type": "code",
      "source": [
        "# Instantiate an imputer and scaler \n",
        "freq_imputer = SimpleImputer(strategy='most_frequent')\n",
        "mean_imputer = SimpleImputer(strategy='mean')\n",
        "#scaler\n",
        "scaler = StandardScaler()\n",
        "# One hot Encoder\n",
        "ohe = OneHotEncoder(handle_unknown='ignore', sparse=False)"
      ],
      "metadata": {
        "id": "yxaUPbIMYiVC"
      },
      "execution_count": null,
      "outputs": []
    },
    {
      "cell_type": "code",
      "source": [
        "# Numeric pipeline\n",
        "numeric_pipe = make_pipeline(mean_imputer,scaler)\n",
        "numeric_pipe"
      ],
      "metadata": {
        "colab": {
          "base_uri": "https://localhost:8080/",
          "height": 126
        },
        "id": "6gvMofRNcgw9",
        "outputId": "4320cff3-fa18-465c-db19-987897cecd10"
      },
      "execution_count": null,
      "outputs": [
        {
          "output_type": "execute_result",
          "data": {
            "text/plain": [
              "Pipeline(steps=[('simpleimputer', SimpleImputer()),\n",
              "                ('standardscaler', StandardScaler())])"
            ],
            "text/html": [
              "<style>#sk-45eec096-b9eb-4796-a0b5-a4d451ebc097 {color: black;background-color: white;}#sk-45eec096-b9eb-4796-a0b5-a4d451ebc097 pre{padding: 0;}#sk-45eec096-b9eb-4796-a0b5-a4d451ebc097 div.sk-toggleable {background-color: white;}#sk-45eec096-b9eb-4796-a0b5-a4d451ebc097 label.sk-toggleable__label {cursor: pointer;display: block;width: 100%;margin-bottom: 0;padding: 0.3em;box-sizing: border-box;text-align: center;}#sk-45eec096-b9eb-4796-a0b5-a4d451ebc097 label.sk-toggleable__label-arrow:before {content: \"▸\";float: left;margin-right: 0.25em;color: #696969;}#sk-45eec096-b9eb-4796-a0b5-a4d451ebc097 label.sk-toggleable__label-arrow:hover:before {color: black;}#sk-45eec096-b9eb-4796-a0b5-a4d451ebc097 div.sk-estimator:hover label.sk-toggleable__label-arrow:before {color: black;}#sk-45eec096-b9eb-4796-a0b5-a4d451ebc097 div.sk-toggleable__content {max-height: 0;max-width: 0;overflow: hidden;text-align: left;background-color: #f0f8ff;}#sk-45eec096-b9eb-4796-a0b5-a4d451ebc097 div.sk-toggleable__content pre {margin: 0.2em;color: black;border-radius: 0.25em;background-color: #f0f8ff;}#sk-45eec096-b9eb-4796-a0b5-a4d451ebc097 input.sk-toggleable__control:checked~div.sk-toggleable__content {max-height: 200px;max-width: 100%;overflow: auto;}#sk-45eec096-b9eb-4796-a0b5-a4d451ebc097 input.sk-toggleable__control:checked~label.sk-toggleable__label-arrow:before {content: \"▾\";}#sk-45eec096-b9eb-4796-a0b5-a4d451ebc097 div.sk-estimator input.sk-toggleable__control:checked~label.sk-toggleable__label {background-color: #d4ebff;}#sk-45eec096-b9eb-4796-a0b5-a4d451ebc097 div.sk-label input.sk-toggleable__control:checked~label.sk-toggleable__label {background-color: #d4ebff;}#sk-45eec096-b9eb-4796-a0b5-a4d451ebc097 input.sk-hidden--visually {border: 0;clip: rect(1px 1px 1px 1px);clip: rect(1px, 1px, 1px, 1px);height: 1px;margin: -1px;overflow: hidden;padding: 0;position: absolute;width: 1px;}#sk-45eec096-b9eb-4796-a0b5-a4d451ebc097 div.sk-estimator {font-family: monospace;background-color: #f0f8ff;border: 1px dotted black;border-radius: 0.25em;box-sizing: border-box;margin-bottom: 0.5em;}#sk-45eec096-b9eb-4796-a0b5-a4d451ebc097 div.sk-estimator:hover {background-color: #d4ebff;}#sk-45eec096-b9eb-4796-a0b5-a4d451ebc097 div.sk-parallel-item::after {content: \"\";width: 100%;border-bottom: 1px solid gray;flex-grow: 1;}#sk-45eec096-b9eb-4796-a0b5-a4d451ebc097 div.sk-label:hover label.sk-toggleable__label {background-color: #d4ebff;}#sk-45eec096-b9eb-4796-a0b5-a4d451ebc097 div.sk-serial::before {content: \"\";position: absolute;border-left: 1px solid gray;box-sizing: border-box;top: 2em;bottom: 0;left: 50%;}#sk-45eec096-b9eb-4796-a0b5-a4d451ebc097 div.sk-serial {display: flex;flex-direction: column;align-items: center;background-color: white;padding-right: 0.2em;padding-left: 0.2em;}#sk-45eec096-b9eb-4796-a0b5-a4d451ebc097 div.sk-item {z-index: 1;}#sk-45eec096-b9eb-4796-a0b5-a4d451ebc097 div.sk-parallel {display: flex;align-items: stretch;justify-content: center;background-color: white;}#sk-45eec096-b9eb-4796-a0b5-a4d451ebc097 div.sk-parallel::before {content: \"\";position: absolute;border-left: 1px solid gray;box-sizing: border-box;top: 2em;bottom: 0;left: 50%;}#sk-45eec096-b9eb-4796-a0b5-a4d451ebc097 div.sk-parallel-item {display: flex;flex-direction: column;position: relative;background-color: white;}#sk-45eec096-b9eb-4796-a0b5-a4d451ebc097 div.sk-parallel-item:first-child::after {align-self: flex-end;width: 50%;}#sk-45eec096-b9eb-4796-a0b5-a4d451ebc097 div.sk-parallel-item:last-child::after {align-self: flex-start;width: 50%;}#sk-45eec096-b9eb-4796-a0b5-a4d451ebc097 div.sk-parallel-item:only-child::after {width: 0;}#sk-45eec096-b9eb-4796-a0b5-a4d451ebc097 div.sk-dashed-wrapped {border: 1px dashed gray;margin: 0 0.4em 0.5em 0.4em;box-sizing: border-box;padding-bottom: 0.4em;background-color: white;position: relative;}#sk-45eec096-b9eb-4796-a0b5-a4d451ebc097 div.sk-label label {font-family: monospace;font-weight: bold;background-color: white;display: inline-block;line-height: 1.2em;}#sk-45eec096-b9eb-4796-a0b5-a4d451ebc097 div.sk-label-container {position: relative;z-index: 2;text-align: center;}#sk-45eec096-b9eb-4796-a0b5-a4d451ebc097 div.sk-container {/* jupyter's `normalize.less` sets `[hidden] { display: none; }` but bootstrap.min.css set `[hidden] { display: none !important; }` so we also need the `!important` here to be able to override the default hidden behavior on the sphinx rendered scikit-learn.org. See: https://github.com/scikit-learn/scikit-learn/issues/21755 */display: inline-block !important;position: relative;}#sk-45eec096-b9eb-4796-a0b5-a4d451ebc097 div.sk-text-repr-fallback {display: none;}</style><div id=\"sk-45eec096-b9eb-4796-a0b5-a4d451ebc097\" class=\"sk-top-container\"><div class=\"sk-text-repr-fallback\"><pre>Pipeline(steps=[(&#x27;simpleimputer&#x27;, SimpleImputer()),\n",
              "                (&#x27;standardscaler&#x27;, StandardScaler())])</pre><b>Please rerun this cell to show the HTML repr or trust the notebook.</b></div><div class=\"sk-container\" hidden><div class=\"sk-item sk-dashed-wrapped\"><div class=\"sk-label-container\"><div class=\"sk-label sk-toggleable\"><input class=\"sk-toggleable__control sk-hidden--visually\" id=\"82ad1c55-4729-4a8c-b1b5-af8c39e333ee\" type=\"checkbox\" ><label for=\"82ad1c55-4729-4a8c-b1b5-af8c39e333ee\" class=\"sk-toggleable__label sk-toggleable__label-arrow\">Pipeline</label><div class=\"sk-toggleable__content\"><pre>Pipeline(steps=[(&#x27;simpleimputer&#x27;, SimpleImputer()),\n",
              "                (&#x27;standardscaler&#x27;, StandardScaler())])</pre></div></div></div><div class=\"sk-serial\"><div class=\"sk-item\"><div class=\"sk-estimator sk-toggleable\"><input class=\"sk-toggleable__control sk-hidden--visually\" id=\"7f7e461c-0f37-4f94-8ea3-85a4eed1c010\" type=\"checkbox\" ><label for=\"7f7e461c-0f37-4f94-8ea3-85a4eed1c010\" class=\"sk-toggleable__label sk-toggleable__label-arrow\">SimpleImputer</label><div class=\"sk-toggleable__content\"><pre>SimpleImputer()</pre></div></div></div><div class=\"sk-item\"><div class=\"sk-estimator sk-toggleable\"><input class=\"sk-toggleable__control sk-hidden--visually\" id=\"dfcc66cd-3cb3-46cb-8093-09cf647e8517\" type=\"checkbox\" ><label for=\"dfcc66cd-3cb3-46cb-8093-09cf647e8517\" class=\"sk-toggleable__label sk-toggleable__label-arrow\">StandardScaler</label><div class=\"sk-toggleable__content\"><pre>StandardScaler()</pre></div></div></div></div></div></div></div>"
            ]
          },
          "metadata": {},
          "execution_count": 51
        }
      ]
    },
    {
      "cell_type": "code",
      "source": [
        "# Categorical pipeline\n",
        "categorical_pipe = make_pipeline(freq_imputer,ohe)\n",
        "categorical_pipe"
      ],
      "metadata": {
        "colab": {
          "base_uri": "https://localhost:8080/",
          "height": 126
        },
        "id": "kAuRwFBWcolC",
        "outputId": "e52db395-388d-458b-b884-d3e00577eb23"
      },
      "execution_count": null,
      "outputs": [
        {
          "output_type": "execute_result",
          "data": {
            "text/plain": [
              "Pipeline(steps=[('simpleimputer', SimpleImputer(strategy='most_frequent')),\n",
              "                ('onehotencoder',\n",
              "                 OneHotEncoder(handle_unknown='ignore', sparse=False))])"
            ],
            "text/html": [
              "<style>#sk-92309497-4dc5-4785-9fb4-1ea3e7e088d3 {color: black;background-color: white;}#sk-92309497-4dc5-4785-9fb4-1ea3e7e088d3 pre{padding: 0;}#sk-92309497-4dc5-4785-9fb4-1ea3e7e088d3 div.sk-toggleable {background-color: white;}#sk-92309497-4dc5-4785-9fb4-1ea3e7e088d3 label.sk-toggleable__label {cursor: pointer;display: block;width: 100%;margin-bottom: 0;padding: 0.3em;box-sizing: border-box;text-align: center;}#sk-92309497-4dc5-4785-9fb4-1ea3e7e088d3 label.sk-toggleable__label-arrow:before {content: \"▸\";float: left;margin-right: 0.25em;color: #696969;}#sk-92309497-4dc5-4785-9fb4-1ea3e7e088d3 label.sk-toggleable__label-arrow:hover:before {color: black;}#sk-92309497-4dc5-4785-9fb4-1ea3e7e088d3 div.sk-estimator:hover label.sk-toggleable__label-arrow:before {color: black;}#sk-92309497-4dc5-4785-9fb4-1ea3e7e088d3 div.sk-toggleable__content {max-height: 0;max-width: 0;overflow: hidden;text-align: left;background-color: #f0f8ff;}#sk-92309497-4dc5-4785-9fb4-1ea3e7e088d3 div.sk-toggleable__content pre {margin: 0.2em;color: black;border-radius: 0.25em;background-color: #f0f8ff;}#sk-92309497-4dc5-4785-9fb4-1ea3e7e088d3 input.sk-toggleable__control:checked~div.sk-toggleable__content {max-height: 200px;max-width: 100%;overflow: auto;}#sk-92309497-4dc5-4785-9fb4-1ea3e7e088d3 input.sk-toggleable__control:checked~label.sk-toggleable__label-arrow:before {content: \"▾\";}#sk-92309497-4dc5-4785-9fb4-1ea3e7e088d3 div.sk-estimator input.sk-toggleable__control:checked~label.sk-toggleable__label {background-color: #d4ebff;}#sk-92309497-4dc5-4785-9fb4-1ea3e7e088d3 div.sk-label input.sk-toggleable__control:checked~label.sk-toggleable__label {background-color: #d4ebff;}#sk-92309497-4dc5-4785-9fb4-1ea3e7e088d3 input.sk-hidden--visually {border: 0;clip: rect(1px 1px 1px 1px);clip: rect(1px, 1px, 1px, 1px);height: 1px;margin: -1px;overflow: hidden;padding: 0;position: absolute;width: 1px;}#sk-92309497-4dc5-4785-9fb4-1ea3e7e088d3 div.sk-estimator {font-family: monospace;background-color: #f0f8ff;border: 1px dotted black;border-radius: 0.25em;box-sizing: border-box;margin-bottom: 0.5em;}#sk-92309497-4dc5-4785-9fb4-1ea3e7e088d3 div.sk-estimator:hover {background-color: #d4ebff;}#sk-92309497-4dc5-4785-9fb4-1ea3e7e088d3 div.sk-parallel-item::after {content: \"\";width: 100%;border-bottom: 1px solid gray;flex-grow: 1;}#sk-92309497-4dc5-4785-9fb4-1ea3e7e088d3 div.sk-label:hover label.sk-toggleable__label {background-color: #d4ebff;}#sk-92309497-4dc5-4785-9fb4-1ea3e7e088d3 div.sk-serial::before {content: \"\";position: absolute;border-left: 1px solid gray;box-sizing: border-box;top: 2em;bottom: 0;left: 50%;}#sk-92309497-4dc5-4785-9fb4-1ea3e7e088d3 div.sk-serial {display: flex;flex-direction: column;align-items: center;background-color: white;padding-right: 0.2em;padding-left: 0.2em;}#sk-92309497-4dc5-4785-9fb4-1ea3e7e088d3 div.sk-item {z-index: 1;}#sk-92309497-4dc5-4785-9fb4-1ea3e7e088d3 div.sk-parallel {display: flex;align-items: stretch;justify-content: center;background-color: white;}#sk-92309497-4dc5-4785-9fb4-1ea3e7e088d3 div.sk-parallel::before {content: \"\";position: absolute;border-left: 1px solid gray;box-sizing: border-box;top: 2em;bottom: 0;left: 50%;}#sk-92309497-4dc5-4785-9fb4-1ea3e7e088d3 div.sk-parallel-item {display: flex;flex-direction: column;position: relative;background-color: white;}#sk-92309497-4dc5-4785-9fb4-1ea3e7e088d3 div.sk-parallel-item:first-child::after {align-self: flex-end;width: 50%;}#sk-92309497-4dc5-4785-9fb4-1ea3e7e088d3 div.sk-parallel-item:last-child::after {align-self: flex-start;width: 50%;}#sk-92309497-4dc5-4785-9fb4-1ea3e7e088d3 div.sk-parallel-item:only-child::after {width: 0;}#sk-92309497-4dc5-4785-9fb4-1ea3e7e088d3 div.sk-dashed-wrapped {border: 1px dashed gray;margin: 0 0.4em 0.5em 0.4em;box-sizing: border-box;padding-bottom: 0.4em;background-color: white;position: relative;}#sk-92309497-4dc5-4785-9fb4-1ea3e7e088d3 div.sk-label label {font-family: monospace;font-weight: bold;background-color: white;display: inline-block;line-height: 1.2em;}#sk-92309497-4dc5-4785-9fb4-1ea3e7e088d3 div.sk-label-container {position: relative;z-index: 2;text-align: center;}#sk-92309497-4dc5-4785-9fb4-1ea3e7e088d3 div.sk-container {/* jupyter's `normalize.less` sets `[hidden] { display: none; }` but bootstrap.min.css set `[hidden] { display: none !important; }` so we also need the `!important` here to be able to override the default hidden behavior on the sphinx rendered scikit-learn.org. See: https://github.com/scikit-learn/scikit-learn/issues/21755 */display: inline-block !important;position: relative;}#sk-92309497-4dc5-4785-9fb4-1ea3e7e088d3 div.sk-text-repr-fallback {display: none;}</style><div id=\"sk-92309497-4dc5-4785-9fb4-1ea3e7e088d3\" class=\"sk-top-container\"><div class=\"sk-text-repr-fallback\"><pre>Pipeline(steps=[(&#x27;simpleimputer&#x27;, SimpleImputer(strategy=&#x27;most_frequent&#x27;)),\n",
              "                (&#x27;onehotencoder&#x27;,\n",
              "                 OneHotEncoder(handle_unknown=&#x27;ignore&#x27;, sparse=False))])</pre><b>Please rerun this cell to show the HTML repr or trust the notebook.</b></div><div class=\"sk-container\" hidden><div class=\"sk-item sk-dashed-wrapped\"><div class=\"sk-label-container\"><div class=\"sk-label sk-toggleable\"><input class=\"sk-toggleable__control sk-hidden--visually\" id=\"fd6f3e36-fc0f-448f-b1c6-06f15088ff7b\" type=\"checkbox\" ><label for=\"fd6f3e36-fc0f-448f-b1c6-06f15088ff7b\" class=\"sk-toggleable__label sk-toggleable__label-arrow\">Pipeline</label><div class=\"sk-toggleable__content\"><pre>Pipeline(steps=[(&#x27;simpleimputer&#x27;, SimpleImputer(strategy=&#x27;most_frequent&#x27;)),\n",
              "                (&#x27;onehotencoder&#x27;,\n",
              "                 OneHotEncoder(handle_unknown=&#x27;ignore&#x27;, sparse=False))])</pre></div></div></div><div class=\"sk-serial\"><div class=\"sk-item\"><div class=\"sk-estimator sk-toggleable\"><input class=\"sk-toggleable__control sk-hidden--visually\" id=\"5239f52d-772b-4b53-98a2-9f72efc4e400\" type=\"checkbox\" ><label for=\"5239f52d-772b-4b53-98a2-9f72efc4e400\" class=\"sk-toggleable__label sk-toggleable__label-arrow\">SimpleImputer</label><div class=\"sk-toggleable__content\"><pre>SimpleImputer(strategy=&#x27;most_frequent&#x27;)</pre></div></div></div><div class=\"sk-item\"><div class=\"sk-estimator sk-toggleable\"><input class=\"sk-toggleable__control sk-hidden--visually\" id=\"ea997c59-2d4f-47c2-9e11-b4157af44e6d\" type=\"checkbox\" ><label for=\"ea997c59-2d4f-47c2-9e11-b4157af44e6d\" class=\"sk-toggleable__label sk-toggleable__label-arrow\">OneHotEncoder</label><div class=\"sk-toggleable__content\"><pre>OneHotEncoder(handle_unknown=&#x27;ignore&#x27;, sparse=False)</pre></div></div></div></div></div></div></div>"
            ]
          },
          "metadata": {},
          "execution_count": 52
        }
      ]
    },
    {
      "cell_type": "code",
      "source": [
        "# Tuples for Columnn Transformer\n",
        "num_tuple = (numeric_pipe, num_selector)\n",
        "cat_tuple = (categorical_pipe,cat_selector)\n",
        "\n",
        "# ColumnTransformer\n",
        "preprocessor = make_column_transformer(num_tuple,cat_tuple)\n",
        "preprocessor"
      ],
      "metadata": {
        "colab": {
          "base_uri": "https://localhost:8080/",
          "height": 198
        },
        "id": "lLQsm7MscxHc",
        "outputId": "ebc891de-15b6-4f3f-9c78-f937e1ecd57f"
      },
      "execution_count": null,
      "outputs": [
        {
          "output_type": "execute_result",
          "data": {
            "text/plain": [
              "ColumnTransformer(transformers=[('pipeline-1',\n",
              "                                 Pipeline(steps=[('simpleimputer',\n",
              "                                                  SimpleImputer()),\n",
              "                                                 ('standardscaler',\n",
              "                                                  StandardScaler())]),\n",
              "                                 <sklearn.compose._column_transformer.make_column_selector object at 0x7f3d68e16f40>),\n",
              "                                ('pipeline-2',\n",
              "                                 Pipeline(steps=[('simpleimputer',\n",
              "                                                  SimpleImputer(strategy='most_frequent')),\n",
              "                                                 ('onehotencoder',\n",
              "                                                  OneHotEncoder(handle_unknown='ignore',\n",
              "                                                                sparse=False))]),\n",
              "                                 <sklearn.compose._column_transformer.make_column_selector object at 0x7f3d68e166d0>)])"
            ],
            "text/html": [
              "<style>#sk-85ad786e-1148-4c97-9558-55c24c2c5446 {color: black;background-color: white;}#sk-85ad786e-1148-4c97-9558-55c24c2c5446 pre{padding: 0;}#sk-85ad786e-1148-4c97-9558-55c24c2c5446 div.sk-toggleable {background-color: white;}#sk-85ad786e-1148-4c97-9558-55c24c2c5446 label.sk-toggleable__label {cursor: pointer;display: block;width: 100%;margin-bottom: 0;padding: 0.3em;box-sizing: border-box;text-align: center;}#sk-85ad786e-1148-4c97-9558-55c24c2c5446 label.sk-toggleable__label-arrow:before {content: \"▸\";float: left;margin-right: 0.25em;color: #696969;}#sk-85ad786e-1148-4c97-9558-55c24c2c5446 label.sk-toggleable__label-arrow:hover:before {color: black;}#sk-85ad786e-1148-4c97-9558-55c24c2c5446 div.sk-estimator:hover label.sk-toggleable__label-arrow:before {color: black;}#sk-85ad786e-1148-4c97-9558-55c24c2c5446 div.sk-toggleable__content {max-height: 0;max-width: 0;overflow: hidden;text-align: left;background-color: #f0f8ff;}#sk-85ad786e-1148-4c97-9558-55c24c2c5446 div.sk-toggleable__content pre {margin: 0.2em;color: black;border-radius: 0.25em;background-color: #f0f8ff;}#sk-85ad786e-1148-4c97-9558-55c24c2c5446 input.sk-toggleable__control:checked~div.sk-toggleable__content {max-height: 200px;max-width: 100%;overflow: auto;}#sk-85ad786e-1148-4c97-9558-55c24c2c5446 input.sk-toggleable__control:checked~label.sk-toggleable__label-arrow:before {content: \"▾\";}#sk-85ad786e-1148-4c97-9558-55c24c2c5446 div.sk-estimator input.sk-toggleable__control:checked~label.sk-toggleable__label {background-color: #d4ebff;}#sk-85ad786e-1148-4c97-9558-55c24c2c5446 div.sk-label input.sk-toggleable__control:checked~label.sk-toggleable__label {background-color: #d4ebff;}#sk-85ad786e-1148-4c97-9558-55c24c2c5446 input.sk-hidden--visually {border: 0;clip: rect(1px 1px 1px 1px);clip: rect(1px, 1px, 1px, 1px);height: 1px;margin: -1px;overflow: hidden;padding: 0;position: absolute;width: 1px;}#sk-85ad786e-1148-4c97-9558-55c24c2c5446 div.sk-estimator {font-family: monospace;background-color: #f0f8ff;border: 1px dotted black;border-radius: 0.25em;box-sizing: border-box;margin-bottom: 0.5em;}#sk-85ad786e-1148-4c97-9558-55c24c2c5446 div.sk-estimator:hover {background-color: #d4ebff;}#sk-85ad786e-1148-4c97-9558-55c24c2c5446 div.sk-parallel-item::after {content: \"\";width: 100%;border-bottom: 1px solid gray;flex-grow: 1;}#sk-85ad786e-1148-4c97-9558-55c24c2c5446 div.sk-label:hover label.sk-toggleable__label {background-color: #d4ebff;}#sk-85ad786e-1148-4c97-9558-55c24c2c5446 div.sk-serial::before {content: \"\";position: absolute;border-left: 1px solid gray;box-sizing: border-box;top: 2em;bottom: 0;left: 50%;}#sk-85ad786e-1148-4c97-9558-55c24c2c5446 div.sk-serial {display: flex;flex-direction: column;align-items: center;background-color: white;padding-right: 0.2em;padding-left: 0.2em;}#sk-85ad786e-1148-4c97-9558-55c24c2c5446 div.sk-item {z-index: 1;}#sk-85ad786e-1148-4c97-9558-55c24c2c5446 div.sk-parallel {display: flex;align-items: stretch;justify-content: center;background-color: white;}#sk-85ad786e-1148-4c97-9558-55c24c2c5446 div.sk-parallel::before {content: \"\";position: absolute;border-left: 1px solid gray;box-sizing: border-box;top: 2em;bottom: 0;left: 50%;}#sk-85ad786e-1148-4c97-9558-55c24c2c5446 div.sk-parallel-item {display: flex;flex-direction: column;position: relative;background-color: white;}#sk-85ad786e-1148-4c97-9558-55c24c2c5446 div.sk-parallel-item:first-child::after {align-self: flex-end;width: 50%;}#sk-85ad786e-1148-4c97-9558-55c24c2c5446 div.sk-parallel-item:last-child::after {align-self: flex-start;width: 50%;}#sk-85ad786e-1148-4c97-9558-55c24c2c5446 div.sk-parallel-item:only-child::after {width: 0;}#sk-85ad786e-1148-4c97-9558-55c24c2c5446 div.sk-dashed-wrapped {border: 1px dashed gray;margin: 0 0.4em 0.5em 0.4em;box-sizing: border-box;padding-bottom: 0.4em;background-color: white;position: relative;}#sk-85ad786e-1148-4c97-9558-55c24c2c5446 div.sk-label label {font-family: monospace;font-weight: bold;background-color: white;display: inline-block;line-height: 1.2em;}#sk-85ad786e-1148-4c97-9558-55c24c2c5446 div.sk-label-container {position: relative;z-index: 2;text-align: center;}#sk-85ad786e-1148-4c97-9558-55c24c2c5446 div.sk-container {/* jupyter's `normalize.less` sets `[hidden] { display: none; }` but bootstrap.min.css set `[hidden] { display: none !important; }` so we also need the `!important` here to be able to override the default hidden behavior on the sphinx rendered scikit-learn.org. See: https://github.com/scikit-learn/scikit-learn/issues/21755 */display: inline-block !important;position: relative;}#sk-85ad786e-1148-4c97-9558-55c24c2c5446 div.sk-text-repr-fallback {display: none;}</style><div id=\"sk-85ad786e-1148-4c97-9558-55c24c2c5446\" class=\"sk-top-container\"><div class=\"sk-text-repr-fallback\"><pre>ColumnTransformer(transformers=[(&#x27;pipeline-1&#x27;,\n",
              "                                 Pipeline(steps=[(&#x27;simpleimputer&#x27;,\n",
              "                                                  SimpleImputer()),\n",
              "                                                 (&#x27;standardscaler&#x27;,\n",
              "                                                  StandardScaler())]),\n",
              "                                 &lt;sklearn.compose._column_transformer.make_column_selector object at 0x7f3d68e16f40&gt;),\n",
              "                                (&#x27;pipeline-2&#x27;,\n",
              "                                 Pipeline(steps=[(&#x27;simpleimputer&#x27;,\n",
              "                                                  SimpleImputer(strategy=&#x27;most_frequent&#x27;)),\n",
              "                                                 (&#x27;onehotencoder&#x27;,\n",
              "                                                  OneHotEncoder(handle_unknown=&#x27;ignore&#x27;,\n",
              "                                                                sparse=False))]),\n",
              "                                 &lt;sklearn.compose._column_transformer.make_column_selector object at 0x7f3d68e166d0&gt;)])</pre><b>Please rerun this cell to show the HTML repr or trust the notebook.</b></div><div class=\"sk-container\" hidden><div class=\"sk-item sk-dashed-wrapped\"><div class=\"sk-label-container\"><div class=\"sk-label sk-toggleable\"><input class=\"sk-toggleable__control sk-hidden--visually\" id=\"f0cf948b-3df7-4119-a0d8-2782bd3868fa\" type=\"checkbox\" ><label for=\"f0cf948b-3df7-4119-a0d8-2782bd3868fa\" class=\"sk-toggleable__label sk-toggleable__label-arrow\">ColumnTransformer</label><div class=\"sk-toggleable__content\"><pre>ColumnTransformer(transformers=[(&#x27;pipeline-1&#x27;,\n",
              "                                 Pipeline(steps=[(&#x27;simpleimputer&#x27;,\n",
              "                                                  SimpleImputer()),\n",
              "                                                 (&#x27;standardscaler&#x27;,\n",
              "                                                  StandardScaler())]),\n",
              "                                 &lt;sklearn.compose._column_transformer.make_column_selector object at 0x7f3d68e16f40&gt;),\n",
              "                                (&#x27;pipeline-2&#x27;,\n",
              "                                 Pipeline(steps=[(&#x27;simpleimputer&#x27;,\n",
              "                                                  SimpleImputer(strategy=&#x27;most_frequent&#x27;)),\n",
              "                                                 (&#x27;onehotencoder&#x27;,\n",
              "                                                  OneHotEncoder(handle_unknown=&#x27;ignore&#x27;,\n",
              "                                                                sparse=False))]),\n",
              "                                 &lt;sklearn.compose._column_transformer.make_column_selector object at 0x7f3d68e166d0&gt;)])</pre></div></div></div><div class=\"sk-parallel\"><div class=\"sk-parallel-item\"><div class=\"sk-item\"><div class=\"sk-label-container\"><div class=\"sk-label sk-toggleable\"><input class=\"sk-toggleable__control sk-hidden--visually\" id=\"db9b57b2-d50e-4f09-83b5-f17c1eb8c99d\" type=\"checkbox\" ><label for=\"db9b57b2-d50e-4f09-83b5-f17c1eb8c99d\" class=\"sk-toggleable__label sk-toggleable__label-arrow\">pipeline-1</label><div class=\"sk-toggleable__content\"><pre>&lt;sklearn.compose._column_transformer.make_column_selector object at 0x7f3d68e16f40&gt;</pre></div></div></div><div class=\"sk-serial\"><div class=\"sk-item\"><div class=\"sk-serial\"><div class=\"sk-item\"><div class=\"sk-estimator sk-toggleable\"><input class=\"sk-toggleable__control sk-hidden--visually\" id=\"a6d1267a-bc31-4ee0-a7e8-5f45f78c92f9\" type=\"checkbox\" ><label for=\"a6d1267a-bc31-4ee0-a7e8-5f45f78c92f9\" class=\"sk-toggleable__label sk-toggleable__label-arrow\">SimpleImputer</label><div class=\"sk-toggleable__content\"><pre>SimpleImputer()</pre></div></div></div><div class=\"sk-item\"><div class=\"sk-estimator sk-toggleable\"><input class=\"sk-toggleable__control sk-hidden--visually\" id=\"e5900b9b-96b3-4e0b-83df-c9c94c5f4421\" type=\"checkbox\" ><label for=\"e5900b9b-96b3-4e0b-83df-c9c94c5f4421\" class=\"sk-toggleable__label sk-toggleable__label-arrow\">StandardScaler</label><div class=\"sk-toggleable__content\"><pre>StandardScaler()</pre></div></div></div></div></div></div></div></div><div class=\"sk-parallel-item\"><div class=\"sk-item\"><div class=\"sk-label-container\"><div class=\"sk-label sk-toggleable\"><input class=\"sk-toggleable__control sk-hidden--visually\" id=\"503126ee-9e6a-4844-b52a-3af3f723a91e\" type=\"checkbox\" ><label for=\"503126ee-9e6a-4844-b52a-3af3f723a91e\" class=\"sk-toggleable__label sk-toggleable__label-arrow\">pipeline-2</label><div class=\"sk-toggleable__content\"><pre>&lt;sklearn.compose._column_transformer.make_column_selector object at 0x7f3d68e166d0&gt;</pre></div></div></div><div class=\"sk-serial\"><div class=\"sk-item\"><div class=\"sk-serial\"><div class=\"sk-item\"><div class=\"sk-estimator sk-toggleable\"><input class=\"sk-toggleable__control sk-hidden--visually\" id=\"b36cee97-4775-4d74-bdb7-ba1e9c34cad8\" type=\"checkbox\" ><label for=\"b36cee97-4775-4d74-bdb7-ba1e9c34cad8\" class=\"sk-toggleable__label sk-toggleable__label-arrow\">SimpleImputer</label><div class=\"sk-toggleable__content\"><pre>SimpleImputer(strategy=&#x27;most_frequent&#x27;)</pre></div></div></div><div class=\"sk-item\"><div class=\"sk-estimator sk-toggleable\"><input class=\"sk-toggleable__control sk-hidden--visually\" id=\"50fff364-fb44-4d06-9921-9972185bafef\" type=\"checkbox\" ><label for=\"50fff364-fb44-4d06-9921-9972185bafef\" class=\"sk-toggleable__label sk-toggleable__label-arrow\">OneHotEncoder</label><div class=\"sk-toggleable__content\"><pre>OneHotEncoder(handle_unknown=&#x27;ignore&#x27;, sparse=False)</pre></div></div></div></div></div></div></div></div></div></div></div></div>"
            ]
          },
          "metadata": {},
          "execution_count": 53
        }
      ]
    },
    {
      "cell_type": "code",
      "source": [
        "# combine the imputer and the scaler into a pipeline \n",
        "preprocessing_pipeline = make_pipeline(freq_imputer, scaler)\n",
        "preprocessing_pipeline"
      ],
      "metadata": {
        "colab": {
          "base_uri": "https://localhost:8080/",
          "height": 126
        },
        "id": "iXvsptlIY6-r",
        "outputId": "fa3c24c3-194c-4338-85c9-d0f0f432ae27"
      },
      "execution_count": null,
      "outputs": [
        {
          "output_type": "execute_result",
          "data": {
            "text/plain": [
              "Pipeline(steps=[('simpleimputer', SimpleImputer(strategy='most_frequent')),\n",
              "                ('standardscaler', StandardScaler())])"
            ],
            "text/html": [
              "<style>#sk-d5018f30-6b57-4cae-af3e-95b6e37e29df {color: black;background-color: white;}#sk-d5018f30-6b57-4cae-af3e-95b6e37e29df pre{padding: 0;}#sk-d5018f30-6b57-4cae-af3e-95b6e37e29df div.sk-toggleable {background-color: white;}#sk-d5018f30-6b57-4cae-af3e-95b6e37e29df label.sk-toggleable__label {cursor: pointer;display: block;width: 100%;margin-bottom: 0;padding: 0.3em;box-sizing: border-box;text-align: center;}#sk-d5018f30-6b57-4cae-af3e-95b6e37e29df label.sk-toggleable__label-arrow:before {content: \"▸\";float: left;margin-right: 0.25em;color: #696969;}#sk-d5018f30-6b57-4cae-af3e-95b6e37e29df label.sk-toggleable__label-arrow:hover:before {color: black;}#sk-d5018f30-6b57-4cae-af3e-95b6e37e29df div.sk-estimator:hover label.sk-toggleable__label-arrow:before {color: black;}#sk-d5018f30-6b57-4cae-af3e-95b6e37e29df div.sk-toggleable__content {max-height: 0;max-width: 0;overflow: hidden;text-align: left;background-color: #f0f8ff;}#sk-d5018f30-6b57-4cae-af3e-95b6e37e29df div.sk-toggleable__content pre {margin: 0.2em;color: black;border-radius: 0.25em;background-color: #f0f8ff;}#sk-d5018f30-6b57-4cae-af3e-95b6e37e29df input.sk-toggleable__control:checked~div.sk-toggleable__content {max-height: 200px;max-width: 100%;overflow: auto;}#sk-d5018f30-6b57-4cae-af3e-95b6e37e29df input.sk-toggleable__control:checked~label.sk-toggleable__label-arrow:before {content: \"▾\";}#sk-d5018f30-6b57-4cae-af3e-95b6e37e29df div.sk-estimator input.sk-toggleable__control:checked~label.sk-toggleable__label {background-color: #d4ebff;}#sk-d5018f30-6b57-4cae-af3e-95b6e37e29df div.sk-label input.sk-toggleable__control:checked~label.sk-toggleable__label {background-color: #d4ebff;}#sk-d5018f30-6b57-4cae-af3e-95b6e37e29df input.sk-hidden--visually {border: 0;clip: rect(1px 1px 1px 1px);clip: rect(1px, 1px, 1px, 1px);height: 1px;margin: -1px;overflow: hidden;padding: 0;position: absolute;width: 1px;}#sk-d5018f30-6b57-4cae-af3e-95b6e37e29df div.sk-estimator {font-family: monospace;background-color: #f0f8ff;border: 1px dotted black;border-radius: 0.25em;box-sizing: border-box;margin-bottom: 0.5em;}#sk-d5018f30-6b57-4cae-af3e-95b6e37e29df div.sk-estimator:hover {background-color: #d4ebff;}#sk-d5018f30-6b57-4cae-af3e-95b6e37e29df div.sk-parallel-item::after {content: \"\";width: 100%;border-bottom: 1px solid gray;flex-grow: 1;}#sk-d5018f30-6b57-4cae-af3e-95b6e37e29df div.sk-label:hover label.sk-toggleable__label {background-color: #d4ebff;}#sk-d5018f30-6b57-4cae-af3e-95b6e37e29df div.sk-serial::before {content: \"\";position: absolute;border-left: 1px solid gray;box-sizing: border-box;top: 2em;bottom: 0;left: 50%;}#sk-d5018f30-6b57-4cae-af3e-95b6e37e29df div.sk-serial {display: flex;flex-direction: column;align-items: center;background-color: white;padding-right: 0.2em;padding-left: 0.2em;}#sk-d5018f30-6b57-4cae-af3e-95b6e37e29df div.sk-item {z-index: 1;}#sk-d5018f30-6b57-4cae-af3e-95b6e37e29df div.sk-parallel {display: flex;align-items: stretch;justify-content: center;background-color: white;}#sk-d5018f30-6b57-4cae-af3e-95b6e37e29df div.sk-parallel::before {content: \"\";position: absolute;border-left: 1px solid gray;box-sizing: border-box;top: 2em;bottom: 0;left: 50%;}#sk-d5018f30-6b57-4cae-af3e-95b6e37e29df div.sk-parallel-item {display: flex;flex-direction: column;position: relative;background-color: white;}#sk-d5018f30-6b57-4cae-af3e-95b6e37e29df div.sk-parallel-item:first-child::after {align-self: flex-end;width: 50%;}#sk-d5018f30-6b57-4cae-af3e-95b6e37e29df div.sk-parallel-item:last-child::after {align-self: flex-start;width: 50%;}#sk-d5018f30-6b57-4cae-af3e-95b6e37e29df div.sk-parallel-item:only-child::after {width: 0;}#sk-d5018f30-6b57-4cae-af3e-95b6e37e29df div.sk-dashed-wrapped {border: 1px dashed gray;margin: 0 0.4em 0.5em 0.4em;box-sizing: border-box;padding-bottom: 0.4em;background-color: white;position: relative;}#sk-d5018f30-6b57-4cae-af3e-95b6e37e29df div.sk-label label {font-family: monospace;font-weight: bold;background-color: white;display: inline-block;line-height: 1.2em;}#sk-d5018f30-6b57-4cae-af3e-95b6e37e29df div.sk-label-container {position: relative;z-index: 2;text-align: center;}#sk-d5018f30-6b57-4cae-af3e-95b6e37e29df div.sk-container {/* jupyter's `normalize.less` sets `[hidden] { display: none; }` but bootstrap.min.css set `[hidden] { display: none !important; }` so we also need the `!important` here to be able to override the default hidden behavior on the sphinx rendered scikit-learn.org. See: https://github.com/scikit-learn/scikit-learn/issues/21755 */display: inline-block !important;position: relative;}#sk-d5018f30-6b57-4cae-af3e-95b6e37e29df div.sk-text-repr-fallback {display: none;}</style><div id=\"sk-d5018f30-6b57-4cae-af3e-95b6e37e29df\" class=\"sk-top-container\"><div class=\"sk-text-repr-fallback\"><pre>Pipeline(steps=[(&#x27;simpleimputer&#x27;, SimpleImputer(strategy=&#x27;most_frequent&#x27;)),\n",
              "                (&#x27;standardscaler&#x27;, StandardScaler())])</pre><b>Please rerun this cell to show the HTML repr or trust the notebook.</b></div><div class=\"sk-container\" hidden><div class=\"sk-item sk-dashed-wrapped\"><div class=\"sk-label-container\"><div class=\"sk-label sk-toggleable\"><input class=\"sk-toggleable__control sk-hidden--visually\" id=\"6a9e63b3-3c9b-470c-977f-492af78cfa7a\" type=\"checkbox\" ><label for=\"6a9e63b3-3c9b-470c-977f-492af78cfa7a\" class=\"sk-toggleable__label sk-toggleable__label-arrow\">Pipeline</label><div class=\"sk-toggleable__content\"><pre>Pipeline(steps=[(&#x27;simpleimputer&#x27;, SimpleImputer(strategy=&#x27;most_frequent&#x27;)),\n",
              "                (&#x27;standardscaler&#x27;, StandardScaler())])</pre></div></div></div><div class=\"sk-serial\"><div class=\"sk-item\"><div class=\"sk-estimator sk-toggleable\"><input class=\"sk-toggleable__control sk-hidden--visually\" id=\"2a467499-3811-4e5b-933b-51ff2e56a1a0\" type=\"checkbox\" ><label for=\"2a467499-3811-4e5b-933b-51ff2e56a1a0\" class=\"sk-toggleable__label sk-toggleable__label-arrow\">SimpleImputer</label><div class=\"sk-toggleable__content\"><pre>SimpleImputer(strategy=&#x27;most_frequent&#x27;)</pre></div></div></div><div class=\"sk-item\"><div class=\"sk-estimator sk-toggleable\"><input class=\"sk-toggleable__control sk-hidden--visually\" id=\"9828fa01-6535-4886-8ae7-a9c8c8645eba\" type=\"checkbox\" ><label for=\"9828fa01-6535-4886-8ae7-a9c8c8645eba\" class=\"sk-toggleable__label sk-toggleable__label-arrow\">StandardScaler</label><div class=\"sk-toggleable__content\"><pre>StandardScaler()</pre></div></div></div></div></div></div></div>"
            ]
          },
          "metadata": {},
          "execution_count": 54
        }
      ]
    },
    {
      "cell_type": "code",
      "source": [
        "preprocessor.fit(X_train) # fit on the training dataset"
      ],
      "metadata": {
        "colab": {
          "base_uri": "https://localhost:8080/",
          "height": 152
        },
        "id": "lRhdboyEZG3q",
        "outputId": "e0fe798e-a491-480b-fb54-48f37faa546b"
      },
      "execution_count": null,
      "outputs": [
        {
          "output_type": "execute_result",
          "data": {
            "text/plain": [
              "ColumnTransformer(transformers=[('pipeline-1',\n",
              "                                 Pipeline(steps=[('simpleimputer',\n",
              "                                                  SimpleImputer()),\n",
              "                                                 ('standardscaler',\n",
              "                                                  StandardScaler())]),\n",
              "                                 <sklearn.compose._column_transformer.make_column_selector object at 0x7f3d68e16f40>),\n",
              "                                ('pipeline-2',\n",
              "                                 Pipeline(steps=[('simpleimputer',\n",
              "                                                  SimpleImputer(strategy='most_frequent')),\n",
              "                                                 ('onehotencoder',\n",
              "                                                  OneHotEncoder(handle_unknown='ignore',\n",
              "                                                                sparse=False))]),\n",
              "                                 <sklearn.compose._column_transformer.make_column_selector object at 0x7f3d68e166d0>)])"
            ],
            "text/html": [
              "<style>#sk-3e48b428-ed68-41d1-a60e-ea85246bf876 {color: black;background-color: white;}#sk-3e48b428-ed68-41d1-a60e-ea85246bf876 pre{padding: 0;}#sk-3e48b428-ed68-41d1-a60e-ea85246bf876 div.sk-toggleable {background-color: white;}#sk-3e48b428-ed68-41d1-a60e-ea85246bf876 label.sk-toggleable__label {cursor: pointer;display: block;width: 100%;margin-bottom: 0;padding: 0.3em;box-sizing: border-box;text-align: center;}#sk-3e48b428-ed68-41d1-a60e-ea85246bf876 label.sk-toggleable__label-arrow:before {content: \"▸\";float: left;margin-right: 0.25em;color: #696969;}#sk-3e48b428-ed68-41d1-a60e-ea85246bf876 label.sk-toggleable__label-arrow:hover:before {color: black;}#sk-3e48b428-ed68-41d1-a60e-ea85246bf876 div.sk-estimator:hover label.sk-toggleable__label-arrow:before {color: black;}#sk-3e48b428-ed68-41d1-a60e-ea85246bf876 div.sk-toggleable__content {max-height: 0;max-width: 0;overflow: hidden;text-align: left;background-color: #f0f8ff;}#sk-3e48b428-ed68-41d1-a60e-ea85246bf876 div.sk-toggleable__content pre {margin: 0.2em;color: black;border-radius: 0.25em;background-color: #f0f8ff;}#sk-3e48b428-ed68-41d1-a60e-ea85246bf876 input.sk-toggleable__control:checked~div.sk-toggleable__content {max-height: 200px;max-width: 100%;overflow: auto;}#sk-3e48b428-ed68-41d1-a60e-ea85246bf876 input.sk-toggleable__control:checked~label.sk-toggleable__label-arrow:before {content: \"▾\";}#sk-3e48b428-ed68-41d1-a60e-ea85246bf876 div.sk-estimator input.sk-toggleable__control:checked~label.sk-toggleable__label {background-color: #d4ebff;}#sk-3e48b428-ed68-41d1-a60e-ea85246bf876 div.sk-label input.sk-toggleable__control:checked~label.sk-toggleable__label {background-color: #d4ebff;}#sk-3e48b428-ed68-41d1-a60e-ea85246bf876 input.sk-hidden--visually {border: 0;clip: rect(1px 1px 1px 1px);clip: rect(1px, 1px, 1px, 1px);height: 1px;margin: -1px;overflow: hidden;padding: 0;position: absolute;width: 1px;}#sk-3e48b428-ed68-41d1-a60e-ea85246bf876 div.sk-estimator {font-family: monospace;background-color: #f0f8ff;border: 1px dotted black;border-radius: 0.25em;box-sizing: border-box;margin-bottom: 0.5em;}#sk-3e48b428-ed68-41d1-a60e-ea85246bf876 div.sk-estimator:hover {background-color: #d4ebff;}#sk-3e48b428-ed68-41d1-a60e-ea85246bf876 div.sk-parallel-item::after {content: \"\";width: 100%;border-bottom: 1px solid gray;flex-grow: 1;}#sk-3e48b428-ed68-41d1-a60e-ea85246bf876 div.sk-label:hover label.sk-toggleable__label {background-color: #d4ebff;}#sk-3e48b428-ed68-41d1-a60e-ea85246bf876 div.sk-serial::before {content: \"\";position: absolute;border-left: 1px solid gray;box-sizing: border-box;top: 2em;bottom: 0;left: 50%;}#sk-3e48b428-ed68-41d1-a60e-ea85246bf876 div.sk-serial {display: flex;flex-direction: column;align-items: center;background-color: white;padding-right: 0.2em;padding-left: 0.2em;}#sk-3e48b428-ed68-41d1-a60e-ea85246bf876 div.sk-item {z-index: 1;}#sk-3e48b428-ed68-41d1-a60e-ea85246bf876 div.sk-parallel {display: flex;align-items: stretch;justify-content: center;background-color: white;}#sk-3e48b428-ed68-41d1-a60e-ea85246bf876 div.sk-parallel::before {content: \"\";position: absolute;border-left: 1px solid gray;box-sizing: border-box;top: 2em;bottom: 0;left: 50%;}#sk-3e48b428-ed68-41d1-a60e-ea85246bf876 div.sk-parallel-item {display: flex;flex-direction: column;position: relative;background-color: white;}#sk-3e48b428-ed68-41d1-a60e-ea85246bf876 div.sk-parallel-item:first-child::after {align-self: flex-end;width: 50%;}#sk-3e48b428-ed68-41d1-a60e-ea85246bf876 div.sk-parallel-item:last-child::after {align-self: flex-start;width: 50%;}#sk-3e48b428-ed68-41d1-a60e-ea85246bf876 div.sk-parallel-item:only-child::after {width: 0;}#sk-3e48b428-ed68-41d1-a60e-ea85246bf876 div.sk-dashed-wrapped {border: 1px dashed gray;margin: 0 0.4em 0.5em 0.4em;box-sizing: border-box;padding-bottom: 0.4em;background-color: white;position: relative;}#sk-3e48b428-ed68-41d1-a60e-ea85246bf876 div.sk-label label {font-family: monospace;font-weight: bold;background-color: white;display: inline-block;line-height: 1.2em;}#sk-3e48b428-ed68-41d1-a60e-ea85246bf876 div.sk-label-container {position: relative;z-index: 2;text-align: center;}#sk-3e48b428-ed68-41d1-a60e-ea85246bf876 div.sk-container {/* jupyter's `normalize.less` sets `[hidden] { display: none; }` but bootstrap.min.css set `[hidden] { display: none !important; }` so we also need the `!important` here to be able to override the default hidden behavior on the sphinx rendered scikit-learn.org. See: https://github.com/scikit-learn/scikit-learn/issues/21755 */display: inline-block !important;position: relative;}#sk-3e48b428-ed68-41d1-a60e-ea85246bf876 div.sk-text-repr-fallback {display: none;}</style><div id=\"sk-3e48b428-ed68-41d1-a60e-ea85246bf876\" class=\"sk-top-container\"><div class=\"sk-text-repr-fallback\"><pre>ColumnTransformer(transformers=[(&#x27;pipeline-1&#x27;,\n",
              "                                 Pipeline(steps=[(&#x27;simpleimputer&#x27;,\n",
              "                                                  SimpleImputer()),\n",
              "                                                 (&#x27;standardscaler&#x27;,\n",
              "                                                  StandardScaler())]),\n",
              "                                 &lt;sklearn.compose._column_transformer.make_column_selector object at 0x7f3d68e16f40&gt;),\n",
              "                                (&#x27;pipeline-2&#x27;,\n",
              "                                 Pipeline(steps=[(&#x27;simpleimputer&#x27;,\n",
              "                                                  SimpleImputer(strategy=&#x27;most_frequent&#x27;)),\n",
              "                                                 (&#x27;onehotencoder&#x27;,\n",
              "                                                  OneHotEncoder(handle_unknown=&#x27;ignore&#x27;,\n",
              "                                                                sparse=False))]),\n",
              "                                 &lt;sklearn.compose._column_transformer.make_column_selector object at 0x7f3d68e166d0&gt;)])</pre><b>Please rerun this cell to show the HTML repr or trust the notebook.</b></div><div class=\"sk-container\" hidden><div class=\"sk-item sk-dashed-wrapped\"><div class=\"sk-label-container\"><div class=\"sk-label sk-toggleable\"><input class=\"sk-toggleable__control sk-hidden--visually\" id=\"9a0808c8-1170-4a42-a26b-4d90a6539550\" type=\"checkbox\" ><label for=\"9a0808c8-1170-4a42-a26b-4d90a6539550\" class=\"sk-toggleable__label sk-toggleable__label-arrow\">ColumnTransformer</label><div class=\"sk-toggleable__content\"><pre>ColumnTransformer(transformers=[(&#x27;pipeline-1&#x27;,\n",
              "                                 Pipeline(steps=[(&#x27;simpleimputer&#x27;,\n",
              "                                                  SimpleImputer()),\n",
              "                                                 (&#x27;standardscaler&#x27;,\n",
              "                                                  StandardScaler())]),\n",
              "                                 &lt;sklearn.compose._column_transformer.make_column_selector object at 0x7f3d68e16f40&gt;),\n",
              "                                (&#x27;pipeline-2&#x27;,\n",
              "                                 Pipeline(steps=[(&#x27;simpleimputer&#x27;,\n",
              "                                                  SimpleImputer(strategy=&#x27;most_frequent&#x27;)),\n",
              "                                                 (&#x27;onehotencoder&#x27;,\n",
              "                                                  OneHotEncoder(handle_unknown=&#x27;ignore&#x27;,\n",
              "                                                                sparse=False))]),\n",
              "                                 &lt;sklearn.compose._column_transformer.make_column_selector object at 0x7f3d68e166d0&gt;)])</pre></div></div></div><div class=\"sk-parallel\"><div class=\"sk-parallel-item\"><div class=\"sk-item\"><div class=\"sk-label-container\"><div class=\"sk-label sk-toggleable\"><input class=\"sk-toggleable__control sk-hidden--visually\" id=\"f68379f7-f61f-403c-aa8f-7a5807660a78\" type=\"checkbox\" ><label for=\"f68379f7-f61f-403c-aa8f-7a5807660a78\" class=\"sk-toggleable__label sk-toggleable__label-arrow\">pipeline-1</label><div class=\"sk-toggleable__content\"><pre>&lt;sklearn.compose._column_transformer.make_column_selector object at 0x7f3d68e16f40&gt;</pre></div></div></div><div class=\"sk-serial\"><div class=\"sk-item\"><div class=\"sk-serial\"><div class=\"sk-item\"><div class=\"sk-estimator sk-toggleable\"><input class=\"sk-toggleable__control sk-hidden--visually\" id=\"fa4a2c3a-f150-42e2-92aa-b265d61b10ab\" type=\"checkbox\" ><label for=\"fa4a2c3a-f150-42e2-92aa-b265d61b10ab\" class=\"sk-toggleable__label sk-toggleable__label-arrow\">SimpleImputer</label><div class=\"sk-toggleable__content\"><pre>SimpleImputer()</pre></div></div></div><div class=\"sk-item\"><div class=\"sk-estimator sk-toggleable\"><input class=\"sk-toggleable__control sk-hidden--visually\" id=\"8c07b42f-c67e-4b35-adcf-8375e8b8c777\" type=\"checkbox\" ><label for=\"8c07b42f-c67e-4b35-adcf-8375e8b8c777\" class=\"sk-toggleable__label sk-toggleable__label-arrow\">StandardScaler</label><div class=\"sk-toggleable__content\"><pre>StandardScaler()</pre></div></div></div></div></div></div></div></div><div class=\"sk-parallel-item\"><div class=\"sk-item\"><div class=\"sk-label-container\"><div class=\"sk-label sk-toggleable\"><input class=\"sk-toggleable__control sk-hidden--visually\" id=\"1d912491-7714-453a-b84f-a80c90cbe56e\" type=\"checkbox\" ><label for=\"1d912491-7714-453a-b84f-a80c90cbe56e\" class=\"sk-toggleable__label sk-toggleable__label-arrow\">pipeline-2</label><div class=\"sk-toggleable__content\"><pre>&lt;sklearn.compose._column_transformer.make_column_selector object at 0x7f3d68e166d0&gt;</pre></div></div></div><div class=\"sk-serial\"><div class=\"sk-item\"><div class=\"sk-serial\"><div class=\"sk-item\"><div class=\"sk-estimator sk-toggleable\"><input class=\"sk-toggleable__control sk-hidden--visually\" id=\"221bf6c5-39e0-4393-b116-16e8c7404b87\" type=\"checkbox\" ><label for=\"221bf6c5-39e0-4393-b116-16e8c7404b87\" class=\"sk-toggleable__label sk-toggleable__label-arrow\">SimpleImputer</label><div class=\"sk-toggleable__content\"><pre>SimpleImputer(strategy=&#x27;most_frequent&#x27;)</pre></div></div></div><div class=\"sk-item\"><div class=\"sk-estimator sk-toggleable\"><input class=\"sk-toggleable__control sk-hidden--visually\" id=\"cc11ff5b-fed5-4638-b1c5-39ec39ff352b\" type=\"checkbox\" ><label for=\"cc11ff5b-fed5-4638-b1c5-39ec39ff352b\" class=\"sk-toggleable__label sk-toggleable__label-arrow\">OneHotEncoder</label><div class=\"sk-toggleable__content\"><pre>OneHotEncoder(handle_unknown=&#x27;ignore&#x27;, sparse=False)</pre></div></div></div></div></div></div></div></div></div></div></div></div>"
            ]
          },
          "metadata": {},
          "execution_count": 57
        }
      ]
    },
    {
      "cell_type": "code",
      "source": [
        "# transforming train and test\n",
        "X_train_processed = preprocessor.transform(X_train)\n",
        "X_test_processed = preprocessor.transform(X_test)"
      ],
      "metadata": {
        "id": "T0DI_tpzdV6x"
      },
      "execution_count": null,
      "outputs": []
    },
    {
      "cell_type": "code",
      "source": [
        "#displaying the preprocessing steps\n",
        "print(np.isnan(X_train_processed).sum().sum(), 'missing values in training data.')\n",
        "print(np.isnan(X_test_processed).sum().sum(), 'missing values in testing data.')\n",
        "print('\\n')\n",
        "print('All data in X_train_processed are', X_train_processed.dtype)\n",
        "print('All data in X_test_processed are', X_test_processed.dtype)\n",
        "print('\\n')\n",
        "print('shape of data is', X_train_processed.shape)\n",
        "print('\\n')\n",
        "X_train_processed"
      ],
      "metadata": {
        "colab": {
          "base_uri": "https://localhost:8080/"
        },
        "id": "5oYdboUBdlub",
        "outputId": "1a8121c0-bc10-4695-fb81-3b7d63d57b9a"
      },
      "execution_count": null,
      "outputs": [
        {
          "output_type": "stream",
          "name": "stdout",
          "text": [
            "0 missing values in training data.\n",
            "0 missing values in testing data.\n",
            "\n",
            "\n",
            "All data in X_train_processed are float64\n",
            "All data in X_test_processed are float64\n",
            "\n",
            "\n",
            "shape of data is (6392, 1596)\n",
            "\n",
            "\n"
          ]
        },
        {
          "output_type": "execute_result",
          "data": {
            "text/plain": [
              "array([[ 0.81906839, -0.71277507,  1.82810922, ...,  0.        ,\n",
              "         1.        ,  0.        ],\n",
              "       [ 0.55816129, -1.29105225,  0.60336888, ...,  0.        ,\n",
              "         1.        ,  0.        ],\n",
              "       [-0.12968469,  1.81331864,  0.24454056, ...,  1.        ,\n",
              "         0.        ,  0.        ],\n",
              "       ...,\n",
              "       [ 1.11555373, -0.92052713,  1.52302674, ...,  1.        ,\n",
              "         0.        ,  0.        ],\n",
              "       [ 1.76782147, -0.2277552 , -0.38377708, ...,  1.        ,\n",
              "         0.        ,  0.        ],\n",
              "       [ 0.81906839, -0.95867683, -0.73836105, ...,  1.        ,\n",
              "         0.        ,  0.        ]])"
            ]
          },
          "metadata": {},
          "execution_count": 60
        }
      ]
    }
  ]
}